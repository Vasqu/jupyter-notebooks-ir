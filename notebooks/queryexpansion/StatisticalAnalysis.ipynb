{
 "cells": [
  {
   "cell_type": "markdown",
   "source": [
    "# Statistical Analysis"
   ],
   "metadata": {
    "collapsed": false
   }
  },
  {
   "cell_type": "markdown",
   "source": [
    "## Example Corpus"
   ],
   "metadata": {
    "collapsed": false
   }
  },
  {
   "cell_type": "code",
   "execution_count": 1,
   "outputs": [],
   "source": [
    "document_1 = [\"lorem\", \"ipsum\", \"fill\"]\n",
    "document_2 = [\"fill\", \"water\", \"water\"]\n",
    "document_3 = [\"water\", \"lorem\", \"lorem\"]\n",
    "document_4 = [\"ipsum\", \"fill\"]\n",
    "corpus = [document_1, document_2, document_3, document_4]"
   ],
   "metadata": {
    "collapsed": false
   }
  },
  {
   "cell_type": "code",
   "execution_count": 2,
   "outputs": [],
   "source": [
    "words = set(document_1 + document_2 + document_3 + document_4)\n",
    "words_list = [word for word in words]"
   ],
   "metadata": {
    "collapsed": false
   }
  },
  {
   "cell_type": "markdown",
   "source": [
    "## Creating our base weights as raw frequency"
   ],
   "metadata": {
    "collapsed": false
   }
  },
  {
   "cell_type": "code",
   "execution_count": 3,
   "outputs": [],
   "source": [
    "import pandas as pd\n",
    "import numpy as np"
   ],
   "metadata": {
    "collapsed": false
   }
  },
  {
   "cell_type": "code",
   "execution_count": 4,
   "outputs": [
    {
     "data": {
      "text/plain": "            lorem  ipsum  fill  water\ndocument_1      1      1     1      0\ndocument_2      0      0     1      2\ndocument_3      2      0     0      1\ndocument_4      0      1     1      0",
      "text/html": "<div>\n<style scoped>\n    .dataframe tbody tr th:only-of-type {\n        vertical-align: middle;\n    }\n\n    .dataframe tbody tr th {\n        vertical-align: top;\n    }\n\n    .dataframe thead th {\n        text-align: right;\n    }\n</style>\n<table border=\"1\" class=\"dataframe\">\n  <thead>\n    <tr style=\"text-align: right;\">\n      <th></th>\n      <th>lorem</th>\n      <th>ipsum</th>\n      <th>fill</th>\n      <th>water</th>\n    </tr>\n  </thead>\n  <tbody>\n    <tr>\n      <th>document_1</th>\n      <td>1</td>\n      <td>1</td>\n      <td>1</td>\n      <td>0</td>\n    </tr>\n    <tr>\n      <th>document_2</th>\n      <td>0</td>\n      <td>0</td>\n      <td>1</td>\n      <td>2</td>\n    </tr>\n    <tr>\n      <th>document_3</th>\n      <td>2</td>\n      <td>0</td>\n      <td>0</td>\n      <td>1</td>\n    </tr>\n    <tr>\n      <th>document_4</th>\n      <td>0</td>\n      <td>1</td>\n      <td>1</td>\n      <td>0</td>\n    </tr>\n  </tbody>\n</table>\n</div>"
     },
     "execution_count": 4,
     "metadata": {},
     "output_type": "execute_result"
    }
   ],
   "source": [
    "vectors = [np.array([document.count(word) for word in words]) for document in corpus]\n",
    "\n",
    "# term-document matrix\n",
    "df_vectors = pd.DataFrame(vectors, ['document_' + str(i + 1) for i in range(len(corpus))], words_list)\n",
    "df_vectors"
   ],
   "metadata": {
    "collapsed": false
   }
  },
  {
   "cell_type": "markdown",
   "source": [
    "## Creating an association matrix"
   ],
   "metadata": {
    "collapsed": false
   }
  },
  {
   "cell_type": "markdown",
   "source": [
    "As a reminder: $c_{ij} = \\sum_{d_k \\in D} f_{ik} \\times f_{jk}$, where $f_{ik}$ is the frequency of term i in document k"
   ],
   "metadata": {
    "collapsed": false
   }
  },
  {
   "cell_type": "code",
   "execution_count": 5,
   "outputs": [],
   "source": [
    "def create_association_matrix(df, words):\n",
    "    association_matrix = np.zeros((len(words), len(words)))\n",
    "\n",
    "    for i in range(len(words)):\n",
    "        for j in range(i+1):\n",
    "            # each entry is the scalar product of each words column vector\n",
    "            row_word = np.array(df.iloc[:, i].tolist())\n",
    "            column_word = np.array(df.iloc[:, j].tolist())\n",
    "            result = np.dot(row_word, column_word)\n",
    "\n",
    "            # use symmetry to only calculate results once\n",
    "            association_matrix[i][j] = result\n",
    "            if i != j:\n",
    "                association_matrix[j][i] = result\n",
    "\n",
    "    return association_matrix"
   ],
   "metadata": {
    "collapsed": false
   }
  },
  {
   "cell_type": "markdown",
   "source": [
    "We normalize an entry the following way: $s_{ij} = \\frac{c_{ij}}{c_{ii} + c_{jj} - c_{ij}}$"
   ],
   "metadata": {
    "collapsed": false
   }
  },
  {
   "cell_type": "code",
   "execution_count": 6,
   "outputs": [],
   "source": [
    "def normalize_association_matrix(matrix):\n",
    "    normalized_matrix = np.zeros(matrix.shape)\n",
    "    for i in range(len(matrix)):\n",
    "        for j in range(len(matrix)):\n",
    "            normalized_matrix[i][j] = matrix[i][j] / (matrix[i][i] + matrix[j][j] - matrix[i][j])\n",
    "\n",
    "    return normalized_matrix"
   ],
   "metadata": {
    "collapsed": false
   }
  },
  {
   "cell_type": "markdown",
   "source": [
    "Visualising the results as tables:"
   ],
   "metadata": {
    "collapsed": false
   }
  },
  {
   "cell_type": "code",
   "execution_count": 7,
   "outputs": [
    {
     "data": {
      "text/plain": "       lorem  ipsum  fill  water\nlorem    5.0    1.0   1.0    2.0\nipsum    1.0    2.0   2.0    0.0\nfill     1.0    2.0   3.0    2.0\nwater    2.0    0.0   2.0    5.0",
      "text/html": "<div>\n<style scoped>\n    .dataframe tbody tr th:only-of-type {\n        vertical-align: middle;\n    }\n\n    .dataframe tbody tr th {\n        vertical-align: top;\n    }\n\n    .dataframe thead th {\n        text-align: right;\n    }\n</style>\n<table border=\"1\" class=\"dataframe\">\n  <thead>\n    <tr style=\"text-align: right;\">\n      <th></th>\n      <th>lorem</th>\n      <th>ipsum</th>\n      <th>fill</th>\n      <th>water</th>\n    </tr>\n  </thead>\n  <tbody>\n    <tr>\n      <th>lorem</th>\n      <td>5.0</td>\n      <td>1.0</td>\n      <td>1.0</td>\n      <td>2.0</td>\n    </tr>\n    <tr>\n      <th>ipsum</th>\n      <td>1.0</td>\n      <td>2.0</td>\n      <td>2.0</td>\n      <td>0.0</td>\n    </tr>\n    <tr>\n      <th>fill</th>\n      <td>1.0</td>\n      <td>2.0</td>\n      <td>3.0</td>\n      <td>2.0</td>\n    </tr>\n    <tr>\n      <th>water</th>\n      <td>2.0</td>\n      <td>0.0</td>\n      <td>2.0</td>\n      <td>5.0</td>\n    </tr>\n  </tbody>\n</table>\n</div>"
     },
     "execution_count": 7,
     "metadata": {},
     "output_type": "execute_result"
    }
   ],
   "source": [
    "association_matrix = create_association_matrix(df_vectors, words)\n",
    "\n",
    "df_association = pd.DataFrame(association_matrix, words_list, words_list)\n",
    "df_association"
   ],
   "metadata": {
    "collapsed": false
   }
  },
  {
   "cell_type": "code",
   "execution_count": 8,
   "outputs": [
    {
     "data": {
      "text/plain": "       lorem  ipsum  fill  water\nlorem   1.00   0.17  0.14   0.25\nipsum   0.17   1.00  0.67   0.00\nfill    0.14   0.67  1.00   0.33\nwater   0.25   0.00  0.33   1.00",
      "text/html": "<div>\n<style scoped>\n    .dataframe tbody tr th:only-of-type {\n        vertical-align: middle;\n    }\n\n    .dataframe tbody tr th {\n        vertical-align: top;\n    }\n\n    .dataframe thead th {\n        text-align: right;\n    }\n</style>\n<table border=\"1\" class=\"dataframe\">\n  <thead>\n    <tr style=\"text-align: right;\">\n      <th></th>\n      <th>lorem</th>\n      <th>ipsum</th>\n      <th>fill</th>\n      <th>water</th>\n    </tr>\n  </thead>\n  <tbody>\n    <tr>\n      <th>lorem</th>\n      <td>1.00</td>\n      <td>0.17</td>\n      <td>0.14</td>\n      <td>0.25</td>\n    </tr>\n    <tr>\n      <th>ipsum</th>\n      <td>0.17</td>\n      <td>1.00</td>\n      <td>0.67</td>\n      <td>0.00</td>\n    </tr>\n    <tr>\n      <th>fill</th>\n      <td>0.14</td>\n      <td>0.67</td>\n      <td>1.00</td>\n      <td>0.33</td>\n    </tr>\n    <tr>\n      <th>water</th>\n      <td>0.25</td>\n      <td>0.00</td>\n      <td>0.33</td>\n      <td>1.00</td>\n    </tr>\n  </tbody>\n</table>\n</div>"
     },
     "execution_count": 8,
     "metadata": {},
     "output_type": "execute_result"
    }
   ],
   "source": [
    "normalized_association_matrix = np.round(normalize_association_matrix(association_matrix), 2)\n",
    "\n",
    "df_association_normalized = pd.DataFrame(normalized_association_matrix, words_list, words_list)\n",
    "df_association_normalized"
   ],
   "metadata": {
    "collapsed": false
   }
  },
  {
   "cell_type": "markdown",
   "source": [
    "## Evaluate a query based on the found associations"
   ],
   "metadata": {
    "collapsed": false
   }
  },
  {
   "cell_type": "markdown",
   "source": [
    "Get the \"best\" term regarding a given word:"
   ],
   "metadata": {
    "collapsed": false
   }
  },
  {
   "cell_type": "code",
   "execution_count": 9,
   "outputs": [],
   "source": [
    "def get_highest_associated_term(df, word, words):\n",
    "    # get row in matrix and delete relation to itself\n",
    "    index = words.index(word)\n",
    "    row = df.iloc[index,:].tolist()\n",
    "    row.pop(index)\n",
    "\n",
    "    # get \"best\" term's index\n",
    "    resulting_index = row.index(max(row))\n",
    "    if resulting_index >= index: resulting_index += 1 # adjusting needed as a value has been deleted\n",
    "\n",
    "    return words[resulting_index]"
   ],
   "metadata": {
    "collapsed": false
   }
  },
  {
   "cell_type": "markdown",
   "source": [
    "The simple evaluation adds the \"best\" term for each word in the query:"
   ],
   "metadata": {
    "collapsed": false
   }
  },
  {
   "cell_type": "code",
   "execution_count": 10,
   "outputs": [],
   "source": [
    "def evaluate_simple(df, query, words):\n",
    "    new_query = query.copy()\n",
    "\n",
    "    added_words = [get_highest_associated_term(df, word, words) for word in query]\n",
    "    for word in added_words:\n",
    "        new_query.append(word)\n",
    "\n",
    "    return new_query"
   ],
   "metadata": {
    "collapsed": false
   }
  },
  {
   "cell_type": "markdown",
   "source": [
    "The advanced evaluation adds a term to the query only if in total, it relates to all words in the query close enough:"
   ],
   "metadata": {
    "collapsed": false
   }
  },
  {
   "cell_type": "code",
   "execution_count": 11,
   "outputs": [],
   "source": [
    "def evaluate_advanced(df, query, words, threshold):\n",
    "    new_query = query.copy()\n",
    "\n",
    "    # added simularities (for all words)\n",
    "    sim = [sum([ df.iloc[words.index(word),:].tolist()[words.index(w)] for w in query ]) for word in words]\n",
    "    # indeces of the words in the query based on the vocabulary to exclude entries in sim\n",
    "    indeces = [i for i in [words.index(word) for word in query]]\n",
    "\n",
    "    for i in range(len(sim)):\n",
    "        if i not in indeces and sim[i] >= threshold:\n",
    "            new_query.append(words[i])\n",
    "\n",
    "    return new_query"
   ],
   "metadata": {
    "collapsed": false
   }
  },
  {
   "cell_type": "markdown",
   "source": [
    "Simple showcase of the evaluations:"
   ],
   "metadata": {
    "collapsed": false
   }
  },
  {
   "cell_type": "code",
   "execution_count": 12,
   "outputs": [
    {
     "name": "stdout",
     "output_type": "stream",
     "text": [
      "Simple association: \n",
      "Simple: ['ipsum', 'water', 'fill', 'lorem']\n",
      "Advanced: ['ipsum', 'water']\n",
      "-------------------------------------------\n",
      "Normalized association: \n",
      "Simple: ['ipsum', 'water', 'fill', 'fill']\n",
      "Advanced: ['ipsum', 'water', 'fill']\n"
     ]
    }
   ],
   "source": [
    "query = [\"ipsum\", \"water\"]\n",
    "\n",
    "# the threshold could be chosen in a more sophisticated way; in this case 90% of the max entry has been taken\n",
    "print(\"Simple association: \")\n",
    "print(\"Simple: \" + str(evaluate_simple(df_association, query, words_list)))\n",
    "print(\"Advanced: \" + str(evaluate_advanced(df_association, query, words_list, 4.5)))\n",
    "\n",
    "print(\"-------------------------------------------\")\n",
    "\n",
    "print(\"Normalized association: \")\n",
    "print(\"Simple: \" + str(evaluate_simple(df_association_normalized, query, words_list)))\n",
    "print(\"Advanced: \" + str(evaluate_advanced(df_association_normalized, query, words_list, 0.9)))"
   ],
   "metadata": {
    "collapsed": false
   }
  }
 ],
 "metadata": {
  "kernelspec": {
   "display_name": "Python 3",
   "language": "python",
   "name": "python3"
  },
  "language_info": {
   "codemirror_mode": {
    "name": "ipython",
    "version": 2
   },
   "file_extension": ".py",
   "mimetype": "text/x-python",
   "name": "python",
   "nbconvert_exporter": "python",
   "pygments_lexer": "ipython2",
   "version": "2.7.6"
  }
 },
 "nbformat": 4,
 "nbformat_minor": 0
}
