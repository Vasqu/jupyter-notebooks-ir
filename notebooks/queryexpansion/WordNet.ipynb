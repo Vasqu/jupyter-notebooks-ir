{
 "cells": [
  {
   "cell_type": "markdown",
   "source": [
    "# WordNet Expansion"
   ],
   "metadata": {
    "collapsed": false
   }
  },
  {
   "cell_type": "markdown",
   "source": [
    "Download the necessary corpora:"
   ],
   "metadata": {
    "collapsed": false
   }
  },
  {
   "cell_type": "code",
   "execution_count": 1,
   "outputs": [
    {
     "name": "stderr",
     "output_type": "stream",
     "text": [
      "[nltk_data] Downloading package wordnet to /home/av11/nltk_data...\n",
      "[nltk_data]   Package wordnet is already up-to-date!\n",
      "[nltk_data] Downloading package omw-1.4 to /home/av11/nltk_data...\n",
      "[nltk_data]   Package omw-1.4 is already up-to-date!\n"
     ]
    },
    {
     "data": {
      "text/plain": "True"
     },
     "execution_count": 1,
     "metadata": {},
     "output_type": "execute_result"
    }
   ],
   "source": [
    "import nltk\n",
    "\n",
    "nltk.download('wordnet')\n",
    "nltk.download('omw-1.4')"
   ],
   "metadata": {
    "collapsed": false
   }
  },
  {
   "cell_type": "markdown",
   "source": [
    "Use WordNet corpus to get the related terms to a given word:"
   ],
   "metadata": {
    "collapsed": false
   }
  },
  {
   "cell_type": "code",
   "execution_count": 2,
   "outputs": [],
   "source": [
    "from nltk.corpus import wordnet as wn"
   ],
   "metadata": {
    "collapsed": false
   }
  },
  {
   "cell_type": "markdown",
   "source": [
    "If the different relations are wanted (separated):"
   ],
   "metadata": {
    "collapsed": false
   }
  },
  {
   "cell_type": "code",
   "execution_count": 3,
   "outputs": [],
   "source": [
    "def get_related_categories(word):\n",
    "    synonyms = []\n",
    "    hyponyms = []\n",
    "    hypernyms = []\n",
    "\n",
    "    for ss in wn.synsets(word):\n",
    "        for lemma_name in ss.lemma_names():\n",
    "            synonyms.append(lemma_name)\n",
    "\n",
    "        for hypernym in ss.hypernyms():\n",
    "            for hypernym_lemma_name in hypernym.lemma_names():\n",
    "                hypernyms.append(hypernym_lemma_name)\n",
    "\n",
    "        for hyponym in ss.hyponyms():\n",
    "            for hyponym_lemma_name in hyponym.lemma_names():\n",
    "                hyponyms.append(hyponym_lemma_name)\n",
    "\n",
    "\n",
    "    return set(synonyms), set(hyponyms), set(hypernyms)"
   ],
   "metadata": {
    "collapsed": false
   }
  },
  {
   "cell_type": "markdown",
   "source": [
    "If only all related words are wanted without much care for the exact relation:"
   ],
   "metadata": {
    "collapsed": false
   }
  },
  {
   "cell_type": "code",
   "execution_count": 4,
   "outputs": [],
   "source": [
    "def get_related_words(word):\n",
    "    synonyms, hyponyms, hypernyms = get_related_categories(word)\n",
    "\n",
    "    return synonyms | hyponyms | hypernyms"
   ],
   "metadata": {
    "collapsed": false
   }
  },
  {
   "cell_type": "markdown",
   "source": [
    "Create string for results:"
   ],
   "metadata": {
    "collapsed": false
   }
  },
  {
   "cell_type": "code",
   "execution_count": 5,
   "outputs": [],
   "source": [
    "def stringify_results(word):\n",
    "    string = ''\n",
    "\n",
    "    categories = get_related_categories(word)\n",
    "    for i in range(len(categories)):\n",
    "        prefix = ''\n",
    "        if i == 0:\n",
    "            prefix = 'Synonyms: '\n",
    "        if i == 1:\n",
    "            prefix = 'Hyponyms: '\n",
    "        if i == 2:\n",
    "            prefix = 'Hypernyms: '\n",
    "\n",
    "        string += prefix + str(categories[i]) + '\\n\\n'\n",
    "\n",
    "    string += 'Total: ' + str(get_related_words(word))\n",
    "    return string"
   ],
   "metadata": {
    "collapsed": false
   }
  },
  {
   "cell_type": "markdown",
   "source": [
    "Some examples:"
   ],
   "metadata": {
    "collapsed": false
   }
  },
  {
   "cell_type": "code",
   "execution_count": 6,
   "outputs": [
    {
     "name": "stdout",
     "output_type": "stream",
     "text": [
      "Synonyms: {'express_emotion', 'express_feelings'}\n",
      "\n",
      "Hyponyms: {'express_mirth', 'erupt', 'cry', 'keen', 'express_joy', 'burst', 'break', 'laugh', 'weep', 'lament'}\n",
      "\n",
      "Hypernyms: set()\n",
      "\n",
      "Total: {'express_mirth', 'erupt', 'cry', 'keen', 'express_emotion', 'express_joy', 'burst', 'break', 'laugh', 'weep', 'lament', 'express_feelings'}\n"
     ]
    }
   ],
   "source": [
    "print(stringify_results('express_emotion'))"
   ],
   "metadata": {
    "collapsed": false
   }
  },
  {
   "cell_type": "code",
   "execution_count": 7,
   "outputs": [
    {
     "name": "stdout",
     "output_type": "stream",
     "text": [
      "Synonyms: set()\n",
      "\n",
      "Hyponyms: set()\n",
      "\n",
      "Hypernyms: set()\n",
      "\n",
      "Total: set()\n"
     ]
    }
   ],
   "source": [
    "print(stringify_results('for'))"
   ],
   "metadata": {
    "collapsed": false
   }
  },
  {
   "cell_type": "code",
   "execution_count": 8,
   "outputs": [
    {
     "name": "stdout",
     "output_type": "stream",
     "text": [
      "Synonyms: {'all', 'altogether', 'totally', 'completely', 'entirely', 'wholly', 'whole'}\n",
      "\n",
      "Hyponyms: set()\n",
      "\n",
      "Hypernyms: set()\n",
      "\n",
      "Total: {'all', 'altogether', 'totally', 'completely', 'entirely', 'whole', 'wholly'}\n"
     ]
    }
   ],
   "source": [
    "print(stringify_results('all'))"
   ],
   "metadata": {
    "collapsed": false
   }
  },
  {
   "cell_type": "code",
   "execution_count": 9,
   "outputs": [
    {
     "name": "stdout",
     "output_type": "stream",
     "text": [
      "Synonyms: {'pocket-size', 'small', 'minuscule', 'belittled', 'little', 'diminished', 'minor', 'modest', 'small-scale', 'low', 'lowly', 'pocket-sized', 'humble'}\n",
      "\n",
      "Hyponyms: set()\n",
      "\n",
      "Hypernyms: {'body_part', 'size'}\n",
      "\n",
      "Total: {'pocket-size', 'small', 'minuscule', 'belittled', 'little', 'diminished', 'minor', 'modest', 'small-scale', 'low', 'size', 'body_part', 'lowly', 'pocket-sized', 'humble'}\n"
     ]
    }
   ],
   "source": [
    "print(stringify_results('small'))"
   ],
   "metadata": {
    "collapsed": false
   }
  },
  {
   "cell_type": "code",
   "execution_count": 10,
   "outputs": [
    {
     "name": "stdout",
     "output_type": "stream",
     "text": [
      "Synonyms: {'object_lesson', 'model', 'good_example', 'exercise', 'illustration', 'instance', 'lesson', 'exemplar', 'representative', 'deterrent_example', 'example', 'case'}\n",
      "\n",
      "Hyponyms: {'pacesetter', 'apology', 'quintessence', 'template', 'time', 'templet', 'exception', 'lodestar', 'sample', 'holotype', 'case_in_point', 'excuse', 'prefiguration', 'beaut', 'microcosm', 'beauty', 'prodigy', 'clip', 'humiliation', 'piece', 'guide', 'precedent', 'archetype', 'type_specimen', 'specimen', 'image', 'loadstar', 'pilot', 'epitome', 'pacemaker', 'pattern', 'original', 'mortification', 'paradigm', 'bit', 'prototype'}\n",
      "\n",
      "Hypernyms: {'occurrence', 'mental_representation', 'warning', 'word_of_advice', 'happening', 'occurrent', 'representation', 'natural_event', 'admonition', 'ideal', 'lesson', 'internal_representation', 'information', 'monition'}\n",
      "\n",
      "Total: {'pacesetter', 'apology', 'quintessence', 'model', 'template', 'time', 'templet', 'natural_event', 'instance', 'exception', 'lodestar', 'sample', 'ideal', 'example', 'monition', 'holotype', 'case_in_point', 'excuse', 'prefiguration', 'good_example', 'exercise', 'beaut', 'microcosm', 'beauty', 'prodigy', 'clip', 'internal_representation', 'humiliation', 'piece', 'warning', 'guide', 'precedent', 'happening', 'archetype', 'representation', 'type_specimen', 'specimen', 'image', 'occurrent', 'lesson', 'exemplar', 'representative', 'deterrent_example', 'information', 'loadstar', 'case', 'object_lesson', 'pilot', 'epitome', 'pacemaker', 'pattern', 'original', 'mortification', 'occurrence', 'mental_representation', 'word_of_advice', 'paradigm', 'bit', 'prototype', 'admonition', 'illustration'}\n"
     ]
    }
   ],
   "source": [
    "print(stringify_results('examples'))"
   ],
   "metadata": {
    "collapsed": false
   }
  }
 ],
 "metadata": {
  "kernelspec": {
   "display_name": "Python 3",
   "language": "python",
   "name": "python3"
  },
  "language_info": {
   "codemirror_mode": {
    "name": "ipython",
    "version": 2
   },
   "file_extension": ".py",
   "mimetype": "text/x-python",
   "name": "python",
   "nbconvert_exporter": "python",
   "pygments_lexer": "ipython2",
   "version": "2.7.6"
  }
 },
 "nbformat": 4,
 "nbformat_minor": 0
}
