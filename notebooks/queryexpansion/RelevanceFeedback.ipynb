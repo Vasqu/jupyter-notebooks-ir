{
 "cells": [
  {
   "cell_type": "markdown",
   "metadata": {},
   "source": [
    "# Query Reformulation via Relevance Feedback"
   ]
  },
  {
   "cell_type": "markdown",
   "metadata": {},
   "source": [
    "## Example Corpus"
   ]
  },
  {
   "cell_type": "code",
   "execution_count": 1,
   "metadata": {},
   "outputs": [],
   "source": [
    "query = [\"beautiful\", \"image\", \"generation\", \"stable\", \"diffusion\"]\n",
    "document_1 = [\"image\", \"beautiful\", \"photoshop\", \"image\", \"beautiful\"]\n",
    "document_2 = [\"stable\", \"diffusion\", \"spaces\", \"latent\", \"spaces\", \"generation\"]\n",
    "document_3 = [\"generation\", \"beautiful\", \"photoshop\", \"diffusion\"]\n",
    "document_4 = [\"photoshop\", \"image\", \"photoshop\"]\n",
    "corpus = [query, document_1, document_2, document_3, document_4]"
   ]
  },
  {
   "cell_type": "code",
   "execution_count": 2,
   "metadata": {},
   "outputs": [],
   "source": [
    "words = set(query + document_1 + document_2 + document_3 + document_4)"
   ]
  },
  {
   "cell_type": "markdown",
   "metadata": {},
   "source": [
    "## Creating our base weights as raw frequency"
   ]
  },
  {
   "cell_type": "code",
   "execution_count": 3,
   "metadata": {},
   "outputs": [],
   "source": [
    "import pandas as pd\n",
    "import numpy as np"
   ]
  },
  {
   "cell_type": "code",
   "execution_count": 4,
   "metadata": {},
   "outputs": [
    {
     "data": {
      "text/plain": "            image  diffusion  photoshop  beautiful  spaces  latent  \\\nquery           1          1          0          1       0       0   \ndocument_1      2          0          1          2       0       0   \ndocument_2      0          1          0          0       2       1   \ndocument_3      0          1          1          1       0       0   \ndocument_4      1          0          2          0       0       0   \n\n            generation  stable  \nquery                1       1  \ndocument_1           0       0  \ndocument_2           1       1  \ndocument_3           1       0  \ndocument_4           0       0  ",
      "text/html": "<div>\n<style scoped>\n    .dataframe tbody tr th:only-of-type {\n        vertical-align: middle;\n    }\n\n    .dataframe tbody tr th {\n        vertical-align: top;\n    }\n\n    .dataframe thead th {\n        text-align: right;\n    }\n</style>\n<table border=\"1\" class=\"dataframe\">\n  <thead>\n    <tr style=\"text-align: right;\">\n      <th></th>\n      <th>image</th>\n      <th>diffusion</th>\n      <th>photoshop</th>\n      <th>beautiful</th>\n      <th>spaces</th>\n      <th>latent</th>\n      <th>generation</th>\n      <th>stable</th>\n    </tr>\n  </thead>\n  <tbody>\n    <tr>\n      <th>query</th>\n      <td>1</td>\n      <td>1</td>\n      <td>0</td>\n      <td>1</td>\n      <td>0</td>\n      <td>0</td>\n      <td>1</td>\n      <td>1</td>\n    </tr>\n    <tr>\n      <th>document_1</th>\n      <td>2</td>\n      <td>0</td>\n      <td>1</td>\n      <td>2</td>\n      <td>0</td>\n      <td>0</td>\n      <td>0</td>\n      <td>0</td>\n    </tr>\n    <tr>\n      <th>document_2</th>\n      <td>0</td>\n      <td>1</td>\n      <td>0</td>\n      <td>0</td>\n      <td>2</td>\n      <td>1</td>\n      <td>1</td>\n      <td>1</td>\n    </tr>\n    <tr>\n      <th>document_3</th>\n      <td>0</td>\n      <td>1</td>\n      <td>1</td>\n      <td>1</td>\n      <td>0</td>\n      <td>0</td>\n      <td>1</td>\n      <td>0</td>\n    </tr>\n    <tr>\n      <th>document_4</th>\n      <td>1</td>\n      <td>0</td>\n      <td>2</td>\n      <td>0</td>\n      <td>0</td>\n      <td>0</td>\n      <td>0</td>\n      <td>0</td>\n    </tr>\n  </tbody>\n</table>\n</div>"
     },
     "execution_count": 4,
     "metadata": {},
     "output_type": "execute_result"
    }
   ],
   "source": [
    "vectors = [np.array([document.count(word) for word in words]) for document in corpus]\n",
    "\n",
    "# term-document matrix\n",
    "df_vectors = pd.DataFrame(vectors, ['query'] + ['document_' + str(i + 1) for i in range(len(corpus)-1)], [word for word in words])\n",
    "df_vectors"
   ]
  },
  {
   "cell_type": "markdown",
   "metadata": {},
   "source": [
    "## Exploring the different variants"
   ]
  },
  {
   "cell_type": "code",
   "execution_count": 5,
   "metadata": {},
   "outputs": [],
   "source": [
    "from IPython.display import display, Math"
   ]
  },
  {
   "cell_type": "markdown",
   "metadata": {},
   "source": [
    "Predefined weights:"
   ]
  },
  {
   "cell_type": "code",
   "execution_count": 6,
   "metadata": {},
   "outputs": [],
   "source": [
    "alpha = 0.9\n",
    "beta = 0.5\n",
    "gamma = 0.5"
   ]
  },
  {
   "cell_type": "markdown",
   "metadata": {},
   "source": [
    "Predefined feedback:"
   ]
  },
  {
   "cell_type": "code",
   "execution_count": 7,
   "metadata": {},
   "outputs": [],
   "source": [
    "query_vec = [vectors[0]]\n",
    "relevant_docs_vec = [vectors[2], vectors[3]]\n",
    "irrelevant_docs_vec = [vectors[1], vectors[4]]"
   ]
  },
  {
   "cell_type": "markdown",
   "metadata": {},
   "source": [
    "Functions to create the necessary vectors as well as their representation in LaTeX:"
   ]
  },
  {
   "cell_type": "markdown",
   "metadata": {},
   "source": [
    "Assume that: $\\ weight = \\omega, \\ document\\_vectors = D$\n",
    "- For the relevant and irrelevant documents follows: $\\frac{\\omega}{|D|} * \\sum_{\\vec{d_j} \\in D} \\vec{d_j}$\n",
    "- For the query follows due to $D=\\{\\vec{q}\\}$: $\\omega * \\vec{q}$"
   ]
  },
  {
   "cell_type": "code",
   "execution_count": 8,
   "metadata": {},
   "outputs": [],
   "source": [
    "def create_weighted_vector(documents, weight):\n",
    "    return (weight / len(documents)) * np.array([sum([vector[index] for vector in documents]) for index in range(len(documents[0]))])"
   ]
  },
  {
   "cell_type": "markdown",
   "metadata": {},
   "source": [
    "Creation of LaTeX specific strings:"
   ]
  },
  {
   "cell_type": "code",
   "execution_count": 9,
   "metadata": {},
   "outputs": [],
   "source": [
    "def create_display_vector(vector):\n",
    "    return '\\\\begin{bmatrix}' + ('\\\\\\\\'.join([str(entry) for entry in vector])) + '\\\\end{bmatrix}'"
   ]
  },
  {
   "cell_type": "code",
   "execution_count": 10,
   "metadata": {},
   "outputs": [],
   "source": [
    "def create_display_component(vectors, weight, frac, simple):\n",
    "    # no weight\n",
    "    if simple : return create_display_vector(vectors)\n",
    "\n",
    "    # weight\n",
    "    # without fractional, i.e. |vectors| = 1\n",
    "    if not frac:\n",
    "        return '{0}'.format(weight) + '*' + create_display_vector(vectors)\n",
    "\n",
    "    # with fractional, i.e. |vectors| > 1\n",
    "    return '\\\\frac{' + '{0}'.format(weight) + '}{' + '{0}'.format(len(vectors)) + '}' + '*' + create_display_vector(create_weighted_vector(vectors, len(vectors)))"
   ]
  },
  {
   "cell_type": "code",
   "execution_count": 11,
   "metadata": {},
   "outputs": [],
   "source": [
    "def create_relevance_display(query_vec, alpha, relevant_docs_vec, beta, irrelevant_docs_vec, gamma):\n",
    "    # first display is with weight, second is the calculated vector with weights multiplied\n",
    "    q_vec_display_1 = create_display_component(query_vec[0], alpha, False, False)\n",
    "    q_vec_display_2 = create_display_component(create_weighted_vector(query_vec, alpha), 1, False, True)\n",
    "\n",
    "    positive_vec_display_1 = create_display_component(relevant_docs_vec, beta, True, False)\n",
    "    positive_vec_display_2 = create_display_component(create_weighted_vector(relevant_docs_vec, beta), 1, False, True)\n",
    "\n",
    "    negative_vec_display_1 = create_display_component(irrelevant_docs_vec, gamma, True, False)\n",
    "    negative_vec_display_2 = create_display_component(create_weighted_vector(irrelevant_docs_vec, gamma), 1, False, True)\n",
    "\n",
    "    # calculate the total result\n",
    "    result = create_display_component(np.round((alpha * query_vec[0] + create_weighted_vector(relevant_docs_vec, beta) - create_weighted_vector(irrelevant_docs_vec, gamma)), 2), 1, False, True)\n",
    "\n",
    "    # add the strings together for display\n",
    "    display_str = '\\\\vec{q}_m = ' + q_vec_display_1 + ' + ' + positive_vec_display_1 + ' - ' + negative_vec_display_1 + ' = ' + \\\n",
    "                  q_vec_display_2 + ' + ' + positive_vec_display_2 + ' - ' + negative_vec_display_2 + ' = ' + \\\n",
    "                  result\n",
    "\n",
    "    return display_str"
   ]
  },
  {
   "cell_type": "markdown",
   "metadata": {},
   "source": [
    "### Standard Rocchio"
   ]
  },
  {
   "cell_type": "code",
   "execution_count": 12,
   "metadata": {},
   "outputs": [
    {
     "data": {
      "text/plain": "<IPython.core.display.Math object>",
      "text/latex": "$\\displaystyle \\vec{q}_m = 0.9*\\begin{bmatrix}1\\\\1\\\\0\\\\1\\\\0\\\\0\\\\1\\\\1\\end{bmatrix} + \\frac{0.5}{2}*\\begin{bmatrix}0.0\\\\2.0\\\\1.0\\\\1.0\\\\2.0\\\\1.0\\\\2.0\\\\1.0\\end{bmatrix} - \\frac{0.5}{2}*\\begin{bmatrix}3.0\\\\0.0\\\\3.0\\\\2.0\\\\0.0\\\\0.0\\\\0.0\\\\0.0\\end{bmatrix} = \\begin{bmatrix}0.9\\\\0.9\\\\0.0\\\\0.9\\\\0.0\\\\0.0\\\\0.9\\\\0.9\\end{bmatrix} + \\begin{bmatrix}0.0\\\\0.5\\\\0.25\\\\0.25\\\\0.5\\\\0.25\\\\0.5\\\\0.25\\end{bmatrix} - \\begin{bmatrix}0.75\\\\0.0\\\\0.75\\\\0.5\\\\0.0\\\\0.0\\\\0.0\\\\0.0\\end{bmatrix} = \\begin{bmatrix}0.15\\\\1.4\\\\-0.5\\\\0.65\\\\0.5\\\\0.25\\\\1.4\\\\1.15\\end{bmatrix}$"
     },
     "metadata": {},
     "output_type": "display_data"
    }
   ],
   "source": [
    "display(Math(create_relevance_display(query_vec, alpha, relevant_docs_vec, beta, irrelevant_docs_vec, gamma)))"
   ]
  },
  {
   "cell_type": "markdown",
   "metadata": {},
   "source": [
    "### Ide* Regular"
   ]
  },
  {
   "cell_type": "code",
   "execution_count": 13,
   "metadata": {},
   "outputs": [
    {
     "data": {
      "text/plain": "<IPython.core.display.Math object>",
      "text/latex": "$\\displaystyle \\vec{q}_m = 0.9*\\begin{bmatrix}1\\\\1\\\\0\\\\1\\\\0\\\\0\\\\1\\\\1\\end{bmatrix} + \\frac{1.0}{2}*\\begin{bmatrix}0.0\\\\2.0\\\\1.0\\\\1.0\\\\2.0\\\\1.0\\\\2.0\\\\1.0\\end{bmatrix} - \\frac{1.0}{2}*\\begin{bmatrix}3.0\\\\0.0\\\\3.0\\\\2.0\\\\0.0\\\\0.0\\\\0.0\\\\0.0\\end{bmatrix} = \\begin{bmatrix}0.9\\\\0.9\\\\0.0\\\\0.9\\\\0.0\\\\0.0\\\\0.9\\\\0.9\\end{bmatrix} + \\begin{bmatrix}0.0\\\\1.0\\\\0.5\\\\0.5\\\\1.0\\\\0.5\\\\1.0\\\\0.5\\end{bmatrix} - \\begin{bmatrix}1.5\\\\0.0\\\\1.5\\\\1.0\\\\0.0\\\\0.0\\\\0.0\\\\0.0\\end{bmatrix} = \\begin{bmatrix}-0.6\\\\1.9\\\\-1.0\\\\0.4\\\\1.0\\\\0.5\\\\1.9\\\\1.4\\end{bmatrix}$"
     },
     "metadata": {},
     "output_type": "display_data"
    }
   ],
   "source": [
    "# by multiplying with the length we adjust to the raw weight\n",
    "display(Math(create_relevance_display(query_vec, alpha, relevant_docs_vec, beta * len(relevant_docs_vec), irrelevant_docs_vec, gamma * len(irrelevant_docs_vec))))"
   ]
  },
  {
   "cell_type": "markdown",
   "metadata": {},
   "source": [
    "### Ide \"Dec Hi\" Method"
   ]
  },
  {
   "cell_type": "code",
   "execution_count": 14,
   "metadata": {},
   "outputs": [
    {
     "data": {
      "text/plain": "<IPython.core.display.Math object>",
      "text/latex": "$\\displaystyle \\vec{q}_m = 0.9*\\begin{bmatrix}1\\\\1\\\\0\\\\1\\\\0\\\\0\\\\1\\\\1\\end{bmatrix} + \\frac{1.0}{2}*\\begin{bmatrix}0.0\\\\2.0\\\\1.0\\\\1.0\\\\2.0\\\\1.0\\\\2.0\\\\1.0\\end{bmatrix} - \\frac{0.5}{1}*\\begin{bmatrix}2.0\\\\0.0\\\\1.0\\\\2.0\\\\0.0\\\\0.0\\\\0.0\\\\0.0\\end{bmatrix} = \\begin{bmatrix}0.9\\\\0.9\\\\0.0\\\\0.9\\\\0.0\\\\0.0\\\\0.9\\\\0.9\\end{bmatrix} + \\begin{bmatrix}0.0\\\\1.0\\\\0.5\\\\0.5\\\\1.0\\\\0.5\\\\1.0\\\\0.5\\end{bmatrix} - \\begin{bmatrix}1.0\\\\0.0\\\\0.5\\\\1.0\\\\0.0\\\\0.0\\\\0.0\\\\0.0\\end{bmatrix} = \\begin{bmatrix}-0.1\\\\1.9\\\\0.0\\\\0.4\\\\1.0\\\\0.5\\\\1.9\\\\1.4\\end{bmatrix}$"
     },
     "metadata": {},
     "output_type": "display_data"
    }
   ],
   "source": [
    "# create a tuple of (index of vector, sum of frequencies of vector) and select the one with the highest total frequency as most irrelevant\n",
    "# (selection of most irrelevant depends on user, but for demonstration purposes we follow this strategy)\n",
    "most_irrelevant_doc_index = max([(index, sum(irrelevant_docs_vec[index])) for index in range(len(irrelevant_docs_vec))], key=lambda x:x[1])[0]\n",
    "most_irrelevant_doc = [irrelevant_docs_vec[most_irrelevant_doc_index]]\n",
    "\n",
    "display(Math(create_relevance_display(query_vec, alpha, relevant_docs_vec, beta * len(relevant_docs_vec), most_irrelevant_doc, gamma)))"
   ]
  }
 ],
 "metadata": {
  "kernelspec": {
   "display_name": "Python 3 (ipykernel)",
   "language": "python",
   "name": "python3"
  },
  "language_info": {
   "codemirror_mode": {
    "name": "ipython",
    "version": 3
   },
   "file_extension": ".py",
   "mimetype": "text/x-python",
   "name": "python",
   "nbconvert_exporter": "python",
   "pygments_lexer": "ipython3",
   "version": "3.10.6"
  }
 },
 "nbformat": 4,
 "nbformat_minor": 1
}
