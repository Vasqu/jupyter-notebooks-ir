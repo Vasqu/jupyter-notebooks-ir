{
 "cells": [
  {
   "cell_type": "markdown",
   "source": [
    "# Collaborative Filtering\n",
    "## Creating our example"
   ],
   "metadata": {
    "collapsed": false
   }
  },
  {
   "cell_type": "code",
   "execution_count": 1,
   "outputs": [],
   "source": [
    "movies = [\"Harry Potter\", \"The Lord of the Rings\", \"James Bond\", \"Fast & Furious\", \"Rush Hour\", \"Pretty Woman\"]\n",
    "user_a = [8, 9, 7, -1, 4, 3]\n",
    "user_b = [-1, 8, 8, 8, 3, 3]\n",
    "user_c = [4, -1, 3, -1, 8, 9]\n",
    "user_d = [5, 5, 1, 2, 9, -1]\n",
    "users = [user_a, user_b, user_c, user_d]"
   ],
   "metadata": {
    "collapsed": false
   }
  },
  {
   "cell_type": "code",
   "execution_count": 2,
   "outputs": [
    {
     "data": {
      "text/plain": "        Harry Potter  The Lord of the Rings  James Bond  Fast & Furious  \\\nUser A             8                      9           7              -1   \nUser B            -1                      8           8               8   \nUser C             4                     -1           3              -1   \nUser D             5                      5           1               2   \n\n        Rush Hour  Pretty Woman  \nUser A          4             3  \nUser B          3             3  \nUser C          8             9  \nUser D          9            -1  ",
      "text/html": "<div>\n<style scoped>\n    .dataframe tbody tr th:only-of-type {\n        vertical-align: middle;\n    }\n\n    .dataframe tbody tr th {\n        vertical-align: top;\n    }\n\n    .dataframe thead th {\n        text-align: right;\n    }\n</style>\n<table border=\"1\" class=\"dataframe\">\n  <thead>\n    <tr style=\"text-align: right;\">\n      <th></th>\n      <th>Harry Potter</th>\n      <th>The Lord of the Rings</th>\n      <th>James Bond</th>\n      <th>Fast &amp; Furious</th>\n      <th>Rush Hour</th>\n      <th>Pretty Woman</th>\n    </tr>\n  </thead>\n  <tbody>\n    <tr>\n      <th>User A</th>\n      <td>8</td>\n      <td>9</td>\n      <td>7</td>\n      <td>-1</td>\n      <td>4</td>\n      <td>3</td>\n    </tr>\n    <tr>\n      <th>User B</th>\n      <td>-1</td>\n      <td>8</td>\n      <td>8</td>\n      <td>8</td>\n      <td>3</td>\n      <td>3</td>\n    </tr>\n    <tr>\n      <th>User C</th>\n      <td>4</td>\n      <td>-1</td>\n      <td>3</td>\n      <td>-1</td>\n      <td>8</td>\n      <td>9</td>\n    </tr>\n    <tr>\n      <th>User D</th>\n      <td>5</td>\n      <td>5</td>\n      <td>1</td>\n      <td>2</td>\n      <td>9</td>\n      <td>-1</td>\n    </tr>\n  </tbody>\n</table>\n</div>"
     },
     "execution_count": 2,
     "metadata": {},
     "output_type": "execute_result"
    }
   ],
   "source": [
    "import pandas as pd\n",
    "\n",
    "df_movie_ratings = pd.DataFrame(users, [\"User A\", \"User B\", \"User C\", \"User D\"], movies)\n",
    "df_movie_ratings"
   ],
   "metadata": {
    "collapsed": false
   }
  },
  {
   "cell_type": "markdown",
   "source": [
    "## Functions needed to calculate our prediction"
   ],
   "metadata": {
    "collapsed": false
   }
  },
  {
   "cell_type": "markdown",
   "source": [
    "This function returns the lists of the matching ratings (i.e. those ratings where both have one):"
   ],
   "metadata": {
    "collapsed": false
   }
  },
  {
   "cell_type": "code",
   "execution_count": 3,
   "outputs": [],
   "source": [
    "def get_matching_ratings(ratings_a, ratings_b):\n",
    "    matching_ratings = list(zip(*[pair for pair in zip(ratings_a, ratings_b) if (pair[0] != -1 and pair[1] != -1)]))\n",
    "\n",
    "    return list(matching_ratings[0]), list(matching_ratings[1])"
   ],
   "metadata": {
    "collapsed": false
   }
  },
  {
   "cell_type": "markdown",
   "source": [
    "The Pearson correlation coefficient $c_{a,u} = \\frac{covar(r_a,r_u)}{\\sigma_{r_a}\\sigma_{r_u}}$, where:\n",
    "- $covar(r_a,r_u) = \\frac{\\sum_{i=1}^{m} (r_{a,i} - \\overline{r}_a)(r_{u,i} - \\overline{r}_u)}{m}$\n",
    "- $\\overline{r}_x = \\frac{\\sum_{i=1}^{m} r_{x,i}}{m}$\n",
    "- $\\sigma_{r_x} = \\sqrt{\\frac{\\sum_{i=1}^{m} (r_{x,i} - \\overline{r}_x)^2}{m}}$"
   ],
   "metadata": {
    "collapsed": false
   }
  },
  {
   "cell_type": "code",
   "execution_count": 4,
   "outputs": [],
   "source": [
    "import math\n",
    "\n",
    "def pearsons_coefficient(ratings_a, ratings_b):\n",
    "    matching_ratings_a, matching_ratings_b = get_matching_ratings(ratings_a, ratings_b)\n",
    "\n",
    "    mean_a = sum(matching_ratings_a) / len(matching_ratings_a)\n",
    "    mean_b = sum(matching_ratings_b) / len(matching_ratings_b)\n",
    "\n",
    "    distance_to_avg_a = [rating - mean_a for rating in matching_ratings_a]\n",
    "    distance_to_avg_b = [rating - mean_b for rating in matching_ratings_b]\n",
    "\n",
    "    standard_deviation_a = math.sqrt(sum([distance*distance for distance in distance_to_avg_a]) / len(distance_to_avg_a))\n",
    "    standard_deviation_b = math.sqrt(sum([distance*distance for distance in distance_to_avg_b]) / len(distance_to_avg_b))\n",
    "\n",
    "    numerator = sum([pair[0]*pair[1] for pair in zip(distance_to_avg_a, distance_to_avg_b)]) / len(list(matching_ratings_a))\n",
    "    denominator = standard_deviation_a * standard_deviation_b\n",
    "\n",
    "    return round(numerator / denominator, 2), len(list(matching_ratings_a))"
   ],
   "metadata": {
    "collapsed": false
   }
  },
  {
   "cell_type": "markdown",
   "source": [
    "Every coefficient between each user:"
   ],
   "metadata": {
    "collapsed": false
   }
  },
  {
   "cell_type": "code",
   "execution_count": 5,
   "outputs": [
    {
     "data": {
      "text/plain": "       Coefficient  Number of matching ratings\nA - B         0.94                           4\nA - C        -0.95                           4\nA - D        -0.57                           4\nB - C        -0.99                           3\nB - D        -0.88                           4\nC - D         0.94                           3",
      "text/html": "<div>\n<style scoped>\n    .dataframe tbody tr th:only-of-type {\n        vertical-align: middle;\n    }\n\n    .dataframe tbody tr th {\n        vertical-align: top;\n    }\n\n    .dataframe thead th {\n        text-align: right;\n    }\n</style>\n<table border=\"1\" class=\"dataframe\">\n  <thead>\n    <tr style=\"text-align: right;\">\n      <th></th>\n      <th>Coefficient</th>\n      <th>Number of matching ratings</th>\n    </tr>\n  </thead>\n  <tbody>\n    <tr>\n      <th>A - B</th>\n      <td>0.94</td>\n      <td>4</td>\n    </tr>\n    <tr>\n      <th>A - C</th>\n      <td>-0.95</td>\n      <td>4</td>\n    </tr>\n    <tr>\n      <th>A - D</th>\n      <td>-0.57</td>\n      <td>4</td>\n    </tr>\n    <tr>\n      <th>B - C</th>\n      <td>-0.99</td>\n      <td>3</td>\n    </tr>\n    <tr>\n      <th>B - D</th>\n      <td>-0.88</td>\n      <td>4</td>\n    </tr>\n    <tr>\n      <th>C - D</th>\n      <td>0.94</td>\n      <td>3</td>\n    </tr>\n  </tbody>\n</table>\n</div>"
     },
     "execution_count": 5,
     "metadata": {},
     "output_type": "execute_result"
    }
   ],
   "source": [
    "c_ab = pearsons_coefficient(user_a, user_b)\n",
    "c_ac = pearsons_coefficient(user_a, user_c)\n",
    "c_ad = pearsons_coefficient(user_a, user_d)\n",
    "\n",
    "c_bc = pearsons_coefficient(user_b, user_c)\n",
    "c_bd = pearsons_coefficient(user_b, user_d)\n",
    "\n",
    "c_cd = pearsons_coefficient(user_c, user_d)\n",
    "\n",
    "coefficients = [c_ab, c_ac, c_ad, c_bc, c_bd, c_cd]\n",
    "\n",
    "df_coefficients = pd.DataFrame(coefficients, [\"A - B\", \"A - C\", \"A - D\", \"B - C\", \"B - D\", \"C - D\"], [\"Coefficient\", \"Number of matching ratings\"])\n",
    "df_coefficients"
   ],
   "metadata": {
    "collapsed": false
   }
  },
  {
   "cell_type": "markdown",
   "source": [
    "We get a prediction for one rating via $p_{a,i} = \\overline{r}_a + \\frac{\\sum_{u=1}^{n} w_{a,u}(r_{u,i} - \\overline{r}_u)}{\\sum_{u=1}^{n} w_{a,u}}$, where:\n",
    "- $w_{a,u} = s_{a,u} * c_{a,u} \\ with \\ s_{a,u} = 1 \\ if \\ m>50 \\ else \\ \\frac{m}{50}$"
   ],
   "metadata": {
    "collapsed": false
   }
  },
  {
   "cell_type": "code",
   "execution_count": 6,
   "outputs": [],
   "source": [
    "def get_prediction_for_movie(users, user, movie, movies, weighting):\n",
    "    index_of_movie = movies.index(movie)\n",
    "    # if there is an existing rating we return that one\n",
    "    if users[user][index_of_movie] != -1: return users[user][index_of_movie]\n",
    "\n",
    "    # take the mean of the user\n",
    "    mean_of_user = sum(list(filter(lambda x: x!=-1, users[user]))) / len(list(filter(lambda x: x!=-1, users[user])))\n",
    "\n",
    "    # all users that have rated the movie in question\n",
    "    valid_other_users = [other for other in users if other[index_of_movie] != -1]\n",
    "\n",
    "    # entry: ((coefficient, number of matching ratings), index of the compared user)\n",
    "    coefficients = [(pearsons_coefficient(users[user], other), users.index(other)) for other in valid_other_users]\n",
    "    # sort by coefficient and only take the best one\n",
    "    coefficients.sort(key=lambda x: x[0][0], reverse=True)\n",
    "    coefficients = coefficients[:1] #adjust this here to compare to n others\n",
    "\n",
    "    # weights are either (1, index of user) for matching < 50 or (m/50, index of user) otherwise\n",
    "    weights = [(1, coefficient[1]) if coefficient[0][1] > 50 or not weighting else (round(coefficient[0][1]/50,2), coefficients[1]) for coefficient in coefficients]\n",
    "\n",
    "    # sum of weight * distance to avg\n",
    "    numerator = sum([weight[0] * (users[weight[1]][index_of_movie] - (sum(get_matching_ratings(users[user], users[weight[1]])[1]) / len((get_matching_ratings(users[user], users[weight[1]])[1])))) for weight in weights])\n",
    "    # sum of weights\n",
    "    denominator = sum([weight[0] for weight in weights])\n",
    "\n",
    "    return round(mean_of_user + (numerator / denominator), 1)"
   ],
   "metadata": {
    "collapsed": false
   }
  },
  {
   "cell_type": "markdown",
   "source": [
    "## Resulting predictions"
   ],
   "metadata": {
    "collapsed": false
   }
  },
  {
   "cell_type": "code",
   "execution_count": 7,
   "outputs": [
    {
     "data": {
      "text/plain": "        Harry Potter  The Lord of the Rings  James Bond  Fast & Furious  \\\nUser A           8.0                    9.0           7             8.7   \nUser B           8.2                    8.0           8             8.0   \nUser C           4.0                    6.0           3             3.0   \nUser D           5.0                    5.0           1             2.0   \n\n        Rush Hour  Pretty Woman  \nUser A          4           3.0  \nUser B          3           3.0  \nUser C          8           9.0  \nUser D          9           8.4  ",
      "text/html": "<div>\n<style scoped>\n    .dataframe tbody tr th:only-of-type {\n        vertical-align: middle;\n    }\n\n    .dataframe tbody tr th {\n        vertical-align: top;\n    }\n\n    .dataframe thead th {\n        text-align: right;\n    }\n</style>\n<table border=\"1\" class=\"dataframe\">\n  <thead>\n    <tr style=\"text-align: right;\">\n      <th></th>\n      <th>Harry Potter</th>\n      <th>The Lord of the Rings</th>\n      <th>James Bond</th>\n      <th>Fast &amp; Furious</th>\n      <th>Rush Hour</th>\n      <th>Pretty Woman</th>\n    </tr>\n  </thead>\n  <tbody>\n    <tr>\n      <th>User A</th>\n      <td>8.0</td>\n      <td>9.0</td>\n      <td>7</td>\n      <td>8.7</td>\n      <td>4</td>\n      <td>3.0</td>\n    </tr>\n    <tr>\n      <th>User B</th>\n      <td>8.2</td>\n      <td>8.0</td>\n      <td>8</td>\n      <td>8.0</td>\n      <td>3</td>\n      <td>3.0</td>\n    </tr>\n    <tr>\n      <th>User C</th>\n      <td>4.0</td>\n      <td>6.0</td>\n      <td>3</td>\n      <td>3.0</td>\n      <td>8</td>\n      <td>9.0</td>\n    </tr>\n    <tr>\n      <th>User D</th>\n      <td>5.0</td>\n      <td>5.0</td>\n      <td>1</td>\n      <td>2.0</td>\n      <td>9</td>\n      <td>8.4</td>\n    </tr>\n  </tbody>\n</table>\n</div>"
     },
     "execution_count": 7,
     "metadata": {},
     "output_type": "execute_result"
    }
   ],
   "source": [
    "update_a = get_prediction_for_movie(users, 0, \"Fast & Furious\", movies, False)\n",
    "update_b = get_prediction_for_movie(users, 1, \"Harry Potter\", movies, False)\n",
    "update_c_1 = get_prediction_for_movie(users, 2, \"The Lord of the Rings\", movies, False)\n",
    "update_c_2 = get_prediction_for_movie(users, 2, \"Fast & Furious\", movies, False)\n",
    "update_d = get_prediction_for_movie(users, 3, \"Pretty Woman\", movies, False)\n",
    "\n",
    "users[0][movies.index(\"Fast & Furious\")] = update_a\n",
    "users[1][movies.index(\"Harry Potter\")] = update_b\n",
    "users[2][movies.index(\"The Lord of the Rings\")] = update_c_1\n",
    "users[2][movies.index(\"Fast & Furious\")] = update_c_2\n",
    "users[3][movies.index(\"Pretty Woman\")] = update_d\n",
    "\n",
    "df_updated_movie_ratings = pd.DataFrame(users, [\"User A\", \"User B\", \"User C\", \"User D\"], movies)\n",
    "df_updated_movie_ratings"
   ],
   "metadata": {
    "collapsed": false
   }
  }
 ],
 "metadata": {
  "kernelspec": {
   "display_name": "Python 3",
   "language": "python",
   "name": "python3"
  },
  "language_info": {
   "codemirror_mode": {
    "name": "ipython",
    "version": 2
   },
   "file_extension": ".py",
   "mimetype": "text/x-python",
   "name": "python",
   "nbconvert_exporter": "python",
   "pygments_lexer": "ipython2",
   "version": "2.7.6"
  }
 },
 "nbformat": 4,
 "nbformat_minor": 0
}
