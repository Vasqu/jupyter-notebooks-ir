{
 "cells": [
  {
   "cell_type": "markdown",
   "metadata": {
    "collapsed": false
   },
   "source": [
    "# A demo for a very simple Search Engine"
   ]
  },
  {
   "cell_type": "markdown",
   "metadata": {
    "collapsed": false
   },
   "source": [
    "## Setup"
   ]
  },
  {
   "cell_type": "markdown",
   "metadata": {
    "collapsed": false
   },
   "source": [
    "Set this value to 'True' if you want to create your own searches in an interactive manner, otherwise only preset examples are\n",
    "computed and shown."
   ]
  },
  {
   "cell_type": "code",
   "execution_count": null,
   "metadata": {
    "collapsed": false
   },
   "outputs": [],
   "source": [
    "interactive = False"
   ]
  },
  {
   "cell_type": "markdown",
   "metadata": {
    "collapsed": false
   },
   "source": [
    "Set the inverted index up:"
   ]
  },
  {
   "cell_type": "code",
   "execution_count": null,
   "metadata": {
    "collapsed": false
   },
   "outputs": [],
   "source": [
    "import findspark\n",
    "findspark.init()\n",
    "from invertedindex.InvertedIndex import InvertedIndex\n",
    "\n",
    "inv_idx_wiki = InvertedIndex(html=True)\n",
    "print('\\n\\n')\n",
    "inv_idx_txt = InvertedIndex(html=False)"
   ]
  },
  {
   "cell_type": "markdown",
   "metadata": {
    "collapsed": false
   },
   "source": [
    "Setting future displaying of the results up by including their respective links:"
   ]
  },
  {
   "cell_type": "code",
   "execution_count": null,
   "metadata": {
    "collapsed": false
   },
   "outputs": [],
   "source": [
    "from IPython.display import display, Markdown\n",
    "\n",
    "# display the results with a link to their content\n",
    "def resolve_results(results):\n",
    "    for idx, (file_name, rel_path) in enumerate(results, start=1):\n",
    "        display(Markdown(\"[{0}]({1})\".format(str(idx)+\": \"+file_name, rel_path+file_name)))"
   ]
  },
  {
   "cell_type": "markdown",
   "metadata": {
    "collapsed": false
   },
   "source": [
    "## Preset Examples"
   ]
  },
  {
   "cell_type": "markdown",
   "metadata": {
    "collapsed": false
   },
   "source": [
    "### HTML Corpus"
   ]
  },
  {
   "cell_type": "markdown",
   "metadata": {
    "collapsed": false
   },
   "source": [
    "Comparison of the retrieval methods on one example:"
   ]
  },
  {
   "cell_type": "code",
   "execution_count": null,
   "metadata": {
    "collapsed": false
   },
   "outputs": [],
   "source": [
    "if not interactive:\n",
    "    print(\"Comparing the different retrievals on one example (query=american)...\\n\")\n",
    "    print(\"Vector: \")\n",
    "    resolve_results(inv_idx_wiki.get_top_ten_vector('american'))\n",
    "    print(\"Cosine: \")\n",
    "    resolve_results(inv_idx_wiki.get_top_ten_cosine('american'))\n",
    "    print(\"Boolean: \")\n",
    "    resolve_results(inv_idx_wiki.get_top_ten_boolean('american'))"
   ]
  },
  {
   "cell_type": "markdown",
   "metadata": {
    "collapsed": false
   },
   "source": [
    "Showing some more complex boolean retrievals:"
   ]
  },
  {
   "cell_type": "code",
   "execution_count": null,
   "metadata": {
    "collapsed": false
   },
   "outputs": [],
   "source": [
    "if not interactive:\n",
    "    print(\"Some more complex boolean searches...\\n\")\n",
    "    print(\"not american\")\n",
    "    resolve_results(inv_idx_wiki.get_top_ten_boolean('not american'))\n",
    "    print(\"(american and airport) or sugar\")\n",
    "    resolve_results(inv_idx_wiki.get_top_ten_boolean('(american and airport) or sugar'))\n",
    "    print(\"not ((document or sugar) and american)\")\n",
    "    resolve_results(inv_idx_wiki.get_top_ten_boolean('not ((document or sugar) and american)'))"
   ]
  },
  {
   "cell_type": "markdown",
   "metadata": {
    "collapsed": false
   },
   "source": [
    "### TXT Corpus"
   ]
  },
  {
   "cell_type": "markdown",
   "metadata": {
    "collapsed": false
   },
   "source": [
    "Comparison of the retrieval methods on one example:"
   ]
  },
  {
   "cell_type": "code",
   "execution_count": null,
   "metadata": {
    "collapsed": false
   },
   "outputs": [],
   "source": [
    "if not interactive:\n",
    "    print(\"Comparing the different retrievals on one example (query=sugar)...\\n\")\n",
    "    print(\"Vector: \")\n",
    "    resolve_results(inv_idx_txt.get_top_ten_vector('sugar'))\n",
    "    print(\"Cosine: \")\n",
    "    resolve_results(inv_idx_txt.get_top_ten_cosine('sugar'))\n",
    "    print(\"Boolean: \")\n",
    "    resolve_results(inv_idx_txt.get_top_ten_boolean('sugar'))"
   ]
  },
  {
   "cell_type": "markdown",
   "metadata": {
    "collapsed": false
   },
   "source": [
    "Showing some more complex boolean retrievals:"
   ]
  },
  {
   "cell_type": "code",
   "execution_count": null,
   "metadata": {
    "collapsed": false
   },
   "outputs": [],
   "source": [
    "if not interactive:\n",
    "    print(\"Some more complex boolean searches...\\n\")\n",
    "    print(\"not sugar\")\n",
    "    resolve_results(inv_idx_txt.get_top_ten_boolean('not sugar'))\n",
    "    print(\"(sugar and airport) or (throughout and january)\")\n",
    "    resolve_results(inv_idx_txt.get_top_ten_boolean('(sugar and airport) or (throughout and january)'))\n",
    "    print(\"not (sugar or cargo or hello)\")\n",
    "    resolve_results(inv_idx_txt.get_top_ten_boolean('not (sugar or cargo or hello)'))"
   ]
  },
  {
   "cell_type": "markdown",
   "metadata": {
    "collapsed": false
   },
   "source": [
    "## Interactive Mode"
   ]
  },
  {
   "cell_type": "code",
   "execution_count": null,
   "metadata": {
    "collapsed": false
   },
   "outputs": [],
   "source": [
    "import time\n",
    "\n",
    "def interactive_mode():\n",
    "    used_corpus = inv_idx_wiki\n",
    "    used_mode = 'vector'\n",
    "    while True:\n",
    "        # might want to adjust time you can take\n",
    "        time.sleep(5)\n",
    "        user_input = input('> ')\n",
    "\n",
    "        if user_input == '--help' or user_input == '--h':\n",
    "            print(\"\"\"> --help   or --h to get this help text.\n",
    "> --corpus or --c to switch corpora.\n",
    "> --modus  or --m to switch to a different method of retrieval (\\\"vector\\\", \\\"cosine\\\", or \\\"boolean\\\").\n",
    "> --exit   or --e to exit this here.\"\"\")\n",
    "            continue\n",
    "        if user_input == '--corpus' or user_input == '--c':\n",
    "            used_corpus = inv_idx_txt if used_corpus == inv_idx_wiki else inv_idx_wiki\n",
    "            corpus_response = 'HTML' if used_corpus.html else 'TXT'\n",
    "            print('> Successfully switched corpus to {0}!'.format(corpus_response))\n",
    "            continue\n",
    "        if user_input == '--exit' or user_input == '--e':\n",
    "            print('> Exiting...')\n",
    "            break\n",
    "        if user_input == '--modus' or user_input == '--m':\n",
    "            print('> Which mode do you want to use: \\\"vector\\\", \\\"cosine\\\", or \\\"boolean\\\"?')\n",
    "            user_input_mode = input('> Enter vector, cosine, or boolean for your wished mode: ')\n",
    "            if user_input_mode not in ['vector', 'cosine', 'boolean']:\n",
    "                print('> Invalid entry...')\n",
    "            else:\n",
    "                print('> Successfully switched to {0}!'.format(user_input_mode))\n",
    "                used_mode = user_input_mode\n",
    "            continue\n",
    "\n",
    "        try:\n",
    "            if not user_input.startswith('--'):\n",
    "                res = [('err', '')]\n",
    "                if used_mode == 'vector':\n",
    "                    res = used_corpus.get_top_ten_vector(user_input)\n",
    "                if used_mode == 'cosine':\n",
    "                    res = used_corpus.get_top_ten_cosine(user_input)\n",
    "                if used_mode == 'boolean':\n",
    "                    res = used_corpus.get_top_ten_boolean(user_input)\n",
    "\n",
    "                print('> The results for the query {0} in mode {1} are as followed: '.format(user_input, used_mode))\n",
    "                resolve_results(res)\n",
    "                continue\n",
    "        except Exception:\n",
    "            print('> Error occurred during retrieval, try again...')\n",
    "            continue\n",
    "\n",
    "        print('> Error occurred, try again...')"
   ]
  },
  {
   "cell_type": "markdown",
   "metadata": {
    "collapsed": false
   },
   "source": [
    "Making it optional (default=turned off):"
   ]
  },
  {
   "cell_type": "code",
   "execution_count": null,
   "metadata": {
    "collapsed": false
   },
   "outputs": [],
   "source": [
    "if interactive:\n",
    "    print(\"Skipped examples... Entering interactive mode!\")\n",
    "    time.sleep(3)\n",
    "    interactive_mode()"
   ]
  }
 ],
 "metadata": {
  "kernelspec": {
   "display_name": "Python 3",
   "language": "python",
   "name": "python3"
  },
  "language_info": {
   "codemirror_mode": {
    "name": "ipython",
    "version": 2
   },
   "file_extension": ".py",
   "mimetype": "text/x-python",
   "name": "python",
   "nbconvert_exporter": "python",
   "pygments_lexer": "ipython2",
   "version": "3.10.6 (main, Nov 14 2022, 16:10:14) [GCC 11.3.0]"
  },
  "vscode": {
   "interpreter": {
    "hash": "e7370f93d1d0cde622a1f8e1c04877d8463912d04d973331ad4851f04de6915a"
   }
  }
 },
 "nbformat": 4,
 "nbformat_minor": 0
}
