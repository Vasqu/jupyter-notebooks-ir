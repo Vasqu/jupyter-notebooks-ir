{
 "cells": [
  {
   "cell_type": "markdown",
   "metadata": {
    "collapsed": false
   },
   "source": [
    "# A demo for a very simple Search Engine"
   ]
  },
  {
   "cell_type": "markdown",
   "metadata": {
    "collapsed": false
   },
   "source": [
    "## Setup"
   ]
  },
  {
   "cell_type": "markdown",
   "metadata": {
    "collapsed": false
   },
   "source": [
    "Set this value to 'True' if you want to create your own searches in an interactive manner, otherwise only preset examples are\n",
    "computed and shown."
   ]
  },
  {
   "cell_type": "code",
   "execution_count": 1,
   "metadata": {
    "collapsed": false
   },
   "outputs": [],
   "source": [
    "interactive = False"
   ]
  },
  {
   "cell_type": "markdown",
   "metadata": {
    "collapsed": false
   },
   "source": [
    "Set the inverted index up:"
   ]
  },
  {
   "cell_type": "code",
   "execution_count": null,
   "metadata": {
    "collapsed": false
   },
   "outputs": [],
   "source": [
    "!export JAVA_HOME=./jdk/"
   ]
  },
  {
   "cell_type": "code",
   "execution_count": 2,
   "metadata": {
    "collapsed": false
   },
   "outputs": [
    {
     "name": "stdout",
     "output_type": "stream",
     "text": [
      "Starting to load up...\n",
      "22/12/17 23:39:47 WARN Utils: Your hostname, av11-TUXEDO-Stellaris-Intel-Gen4 resolves to a loopback address: 127.0.1.1; using 192.168.2.195 instead (on interface wlo1)\n",
      "22/12/17 23:39:47 WARN Utils: Set SPARK_LOCAL_IP if you need to bind to another address\n"
     ]
    },
    {
     "name": "stderr",
     "output_type": "stream",
     "text": [
      "Setting default log level to \"WARN\".\n",
      "To adjust logging level use sc.setLogLevel(newLevel). For SparkR, use setLogLevel(newLevel).\n"
     ]
    },
    {
     "name": "stdout",
     "output_type": "stream",
     "text": [
      "22/12/17 23:39:48 WARN NativeCodeLoader: Unable to load native-hadoop library for your platform... using builtin-java classes where applicable\n",
      "Reading the corpus...\n",
      "Tokenizing the corpus...\n",
      "Creating the inverted index...\n"
     ]
    },
    {
     "name": "stderr",
     "output_type": "stream",
     "text": [
      "                                                                                \r"
     ]
    },
    {
     "name": "stdout",
     "output_type": "stream",
     "text": [
      "Finished!\n",
      "\n",
      "\n",
      "\n",
      "Starting to load up...\n",
      "Reading the corpus...\n",
      "Tokenizing the corpus...\n",
      "Creating the inverted index...\n"
     ]
    },
    {
     "name": "stderr",
     "output_type": "stream",
     "text": [
      "[Stage 8:===================================================>       (7 + 1) / 8]\r"
     ]
    },
    {
     "name": "stdout",
     "output_type": "stream",
     "text": [
      "Finished!\n"
     ]
    },
    {
     "name": "stderr",
     "output_type": "stream",
     "text": [
      "                                                                                \r"
     ]
    }
   ],
   "source": [
    "import findspark\n",
    "findspark.init()\n",
    "from invertedindex.InvertedIndex import InvertedIndex\n",
    "\n",
    "inv_idx_wiki = InvertedIndex(html=True)\n",
    "print('\\n\\n')\n",
    "inv_idx_txt = InvertedIndex(html=False)"
   ]
  },
  {
   "cell_type": "markdown",
   "metadata": {
    "collapsed": false
   },
   "source": [
    "Setting future displaying of the results up by including their respective links:"
   ]
  },
  {
   "cell_type": "code",
   "execution_count": 3,
   "metadata": {
    "collapsed": false
   },
   "outputs": [],
   "source": [
    "from notebook import notebookapp\n",
    "\n",
    "url = ''\n",
    "# gets your running jupyter notebook's url (assuming you have the same directory structure as given here)\n",
    "for server in notebookapp.list_running_servers():\n",
    "    dir = server.get('notebook_dir')\n",
    "    if dir.endswith('jupyterscripts'):\n",
    "        url = str(server.get('url'))"
   ]
  },
  {
   "cell_type": "code",
   "execution_count": 4,
   "metadata": {
    "collapsed": false
   },
   "outputs": [],
   "source": [
    "from IPython.display import display, Markdown\n",
    "\n",
    "# display the results with a link to their content\n",
    "def resolve_results(results):\n",
    "    for idx, (file_name, rel_path) in enumerate(results, start=1):\n",
    "        display(Markdown(\"[{0}]({1})\".format(str(idx)+\": \"+file_name, url+'view/'+rel_path+file_name)))"
   ]
  },
  {
   "cell_type": "markdown",
   "metadata": {
    "collapsed": false
   },
   "source": [
    "## Preset Examples"
   ]
  },
  {
   "cell_type": "markdown",
   "metadata": {
    "collapsed": false
   },
   "source": [
    "### HTML Corpus"
   ]
  },
  {
   "cell_type": "markdown",
   "metadata": {
    "collapsed": false
   },
   "source": [
    "Comparison of the retrieval methods on one example:"
   ]
  },
  {
   "cell_type": "code",
   "execution_count": 5,
   "metadata": {
    "collapsed": false
   },
   "outputs": [
    {
     "name": "stdout",
     "output_type": "stream",
     "text": [
      "Comparing the different retrievals on one example (query=american)...\n",
      "\n",
      "Vector: \n"
     ]
    },
    {
     "data": {
      "text/markdown": [
       "[1: August_26.html](http://localhost:8888/view/searchenginedemo/invertedindex/corpora/wiki-a/August_26.html)"
      ],
      "text/plain": [
       "<IPython.core.display.Markdown object>"
      ]
     },
     "metadata": {},
     "output_type": "display_data"
    },
    {
     "data": {
      "text/markdown": [
       "[2: American_Jewish_Historical_Society_638c.html](http://localhost:8888/view/searchenginedemo/invertedindex/corpora/wiki-a/American_Jewish_Historical_Society_638c.html)"
      ],
      "text/plain": [
       "<IPython.core.display.Markdown object>"
      ]
     },
     "metadata": {},
     "output_type": "display_data"
    },
    {
     "data": {
      "text/markdown": [
       "[3: Augustin_de_La_Balme_73d1.html](http://localhost:8888/view/searchenginedemo/invertedindex/corpora/wiki-a/Augustin_de_La_Balme_73d1.html)"
      ],
      "text/plain": [
       "<IPython.core.display.Markdown object>"
      ]
     },
     "metadata": {},
     "output_type": "display_data"
    },
    {
     "data": {
      "text/markdown": [
       "[4: Apocalypse_Now_a6a5.html](http://localhost:8888/view/searchenginedemo/invertedindex/corpora/wiki-a/Apocalypse_Now_a6a5.html)"
      ],
      "text/plain": [
       "<IPython.core.display.Markdown object>"
      ]
     },
     "metadata": {},
     "output_type": "display_data"
    },
    {
     "data": {
      "text/markdown": [
       "[5: American_Locomotive_Company_7c77.html](http://localhost:8888/view/searchenginedemo/invertedindex/corpora/wiki-a/American_Locomotive_Company_7c77.html)"
      ],
      "text/plain": [
       "<IPython.core.display.Markdown object>"
      ]
     },
     "metadata": {},
     "output_type": "display_data"
    },
    {
     "data": {
      "text/markdown": [
       "[6: Anti-Zionism_3913.html](http://localhost:8888/view/searchenginedemo/invertedindex/corpora/wiki-a/Anti-Zionism_3913.html)"
      ],
      "text/plain": [
       "<IPython.core.display.Markdown object>"
      ]
     },
     "metadata": {},
     "output_type": "display_data"
    },
    {
     "data": {
      "text/markdown": [
       "[7: American_Guardian_(truck)_2662.html](http://localhost:8888/view/searchenginedemo/invertedindex/corpora/wiki-a/American_Guardian_(truck)_2662.html)"
      ],
      "text/plain": [
       "<IPython.core.display.Markdown object>"
      ]
     },
     "metadata": {},
     "output_type": "display_data"
    },
    {
     "data": {
      "text/markdown": [
       "[8: American_Presence_Post_6df8.html](http://localhost:8888/view/searchenginedemo/invertedindex/corpora/wiki-a/American_Presence_Post_6df8.html)"
      ],
      "text/plain": [
       "<IPython.core.display.Markdown object>"
      ]
     },
     "metadata": {},
     "output_type": "display_data"
    },
    {
     "data": {
      "text/markdown": [
       "[9: Agnieszka's_Dowry_21f9.html](http://localhost:8888/view/searchenginedemo/invertedindex/corpora/wiki-a/Agnieszka's_Dowry_21f9.html)"
      ],
      "text/plain": [
       "<IPython.core.display.Markdown object>"
      ]
     },
     "metadata": {},
     "output_type": "display_data"
    },
    {
     "data": {
      "text/markdown": [
       "[10: Alan_Brinkley_1861.html](http://localhost:8888/view/searchenginedemo/invertedindex/corpora/wiki-a/Alan_Brinkley_1861.html)"
      ],
      "text/plain": [
       "<IPython.core.display.Markdown object>"
      ]
     },
     "metadata": {},
     "output_type": "display_data"
    },
    {
     "name": "stdout",
     "output_type": "stream",
     "text": [
      "Cosine: \n"
     ]
    },
    {
     "data": {
      "text/markdown": [
       "[1: August_26.html](http://localhost:8888/view/searchenginedemo/invertedindex/corpora/wiki-a/August_26.html)"
      ],
      "text/plain": [
       "<IPython.core.display.Markdown object>"
      ]
     },
     "metadata": {},
     "output_type": "display_data"
    },
    {
     "data": {
      "text/markdown": [
       "[2: American_Jewish_Historical_Society_638c.html](http://localhost:8888/view/searchenginedemo/invertedindex/corpora/wiki-a/American_Jewish_Historical_Society_638c.html)"
      ],
      "text/plain": [
       "<IPython.core.display.Markdown object>"
      ]
     },
     "metadata": {},
     "output_type": "display_data"
    },
    {
     "data": {
      "text/markdown": [
       "[3: American_Guardian_(truck)_2662.html](http://localhost:8888/view/searchenginedemo/invertedindex/corpora/wiki-a/American_Guardian_(truck)_2662.html)"
      ],
      "text/plain": [
       "<IPython.core.display.Markdown object>"
      ]
     },
     "metadata": {},
     "output_type": "display_data"
    },
    {
     "data": {
      "text/markdown": [
       "[4: American_Presence_Post_6df8.html](http://localhost:8888/view/searchenginedemo/invertedindex/corpora/wiki-a/American_Presence_Post_6df8.html)"
      ],
      "text/plain": [
       "<IPython.core.display.Markdown object>"
      ]
     },
     "metadata": {},
     "output_type": "display_data"
    },
    {
     "data": {
      "text/markdown": [
       "[5: Alan_Brinkley_1861.html](http://localhost:8888/view/searchenginedemo/invertedindex/corpora/wiki-a/Alan_Brinkley_1861.html)"
      ],
      "text/plain": [
       "<IPython.core.display.Markdown object>"
      ]
     },
     "metadata": {},
     "output_type": "display_data"
    },
    {
     "data": {
      "text/markdown": [
       "[6: Augustin_de_La_Balme_73d1.html](http://localhost:8888/view/searchenginedemo/invertedindex/corpora/wiki-a/Augustin_de_La_Balme_73d1.html)"
      ],
      "text/plain": [
       "<IPython.core.display.Markdown object>"
      ]
     },
     "metadata": {},
     "output_type": "display_data"
    },
    {
     "data": {
      "text/markdown": [
       "[7: Agnes_of_Glasgow_3312.html](http://localhost:8888/view/searchenginedemo/invertedindex/corpora/wiki-a/Agnes_of_Glasgow_3312.html)"
      ],
      "text/plain": [
       "<IPython.core.display.Markdown object>"
      ]
     },
     "metadata": {},
     "output_type": "display_data"
    },
    {
     "data": {
      "text/markdown": [
       "[8: Alvin_Moore_be1d.html](http://localhost:8888/view/searchenginedemo/invertedindex/corpora/wiki-a/Alvin_Moore_be1d.html)"
      ],
      "text/plain": [
       "<IPython.core.display.Markdown object>"
      ]
     },
     "metadata": {},
     "output_type": "display_data"
    },
    {
     "data": {
      "text/markdown": [
       "[9: Afterschool_Sound_Records_e3c2.html](http://localhost:8888/view/searchenginedemo/invertedindex/corpora/wiki-a/Afterschool_Sound_Records_e3c2.html)"
      ],
      "text/plain": [
       "<IPython.core.display.Markdown object>"
      ]
     },
     "metadata": {},
     "output_type": "display_data"
    },
    {
     "data": {
      "text/markdown": [
       "[10: Asaph_Hall_f021.html](http://localhost:8888/view/searchenginedemo/invertedindex/corpora/wiki-a/Asaph_Hall_f021.html)"
      ],
      "text/plain": [
       "<IPython.core.display.Markdown object>"
      ]
     },
     "metadata": {},
     "output_type": "display_data"
    },
    {
     "name": "stdout",
     "output_type": "stream",
     "text": [
      "Boolean: \n"
     ]
    },
    {
     "data": {
      "text/markdown": [
       "[1: AP_United_States_Government_and_Politics_fc7f.html](http://localhost:8888/view/searchenginedemo/invertedindex/corpora/wiki-a/AP_United_States_Government_and_Politics_fc7f.html)"
      ],
      "text/plain": [
       "<IPython.core.display.Markdown object>"
      ]
     },
     "metadata": {},
     "output_type": "display_data"
    },
    {
     "data": {
      "text/markdown": [
       "[2: AFCEA_a4de.html](http://localhost:8888/view/searchenginedemo/invertedindex/corpora/wiki-a/AFCEA_a4de.html)"
      ],
      "text/plain": [
       "<IPython.core.display.Markdown object>"
      ]
     },
     "metadata": {},
     "output_type": "display_data"
    },
    {
     "data": {
      "text/markdown": [
       "[3: And_Tango_Makes_Three_fc68.html](http://localhost:8888/view/searchenginedemo/invertedindex/corpora/wiki-a/And_Tango_Makes_Three_fc68.html)"
      ],
      "text/plain": [
       "<IPython.core.display.Markdown object>"
      ]
     },
     "metadata": {},
     "output_type": "display_data"
    },
    {
     "data": {
      "text/markdown": [
       "[4: Arthur_Godfrey's_Talent_Scouts_3c7d.html](http://localhost:8888/view/searchenginedemo/invertedindex/corpora/wiki-a/Arthur_Godfrey's_Talent_Scouts_3c7d.html)"
      ],
      "text/plain": [
       "<IPython.core.display.Markdown object>"
      ]
     },
     "metadata": {},
     "output_type": "display_data"
    },
    {
     "data": {
      "text/markdown": [
       "[5: Annawan_Township,_Henry_County,_Illinois_3b95.html](http://localhost:8888/view/searchenginedemo/invertedindex/corpora/wiki-a/Annawan_Township,_Henry_County,_Illinois_3b95.html)"
      ],
      "text/plain": [
       "<IPython.core.display.Markdown object>"
      ]
     },
     "metadata": {},
     "output_type": "display_data"
    },
    {
     "data": {
      "text/markdown": [
       "[6: American_Presence_Post_6df8.html](http://localhost:8888/view/searchenginedemo/invertedindex/corpora/wiki-a/American_Presence_Post_6df8.html)"
      ],
      "text/plain": [
       "<IPython.core.display.Markdown object>"
      ]
     },
     "metadata": {},
     "output_type": "display_data"
    },
    {
     "data": {
      "text/markdown": [
       "[7: Alan_Brinkley_1861.html](http://localhost:8888/view/searchenginedemo/invertedindex/corpora/wiki-a/Alan_Brinkley_1861.html)"
      ],
      "text/plain": [
       "<IPython.core.display.Markdown object>"
      ]
     },
     "metadata": {},
     "output_type": "display_data"
    },
    {
     "data": {
      "text/markdown": [
       "[8: Arctic_Bay,_Nunavut_25d6.html](http://localhost:8888/view/searchenginedemo/invertedindex/corpora/wiki-a/Arctic_Bay,_Nunavut_25d6.html)"
      ],
      "text/plain": [
       "<IPython.core.display.Markdown object>"
      ]
     },
     "metadata": {},
     "output_type": "display_data"
    },
    {
     "data": {
      "text/markdown": [
       "[9: Antonio_Chatman_22d4.html](http://localhost:8888/view/searchenginedemo/invertedindex/corpora/wiki-a/Antonio_Chatman_22d4.html)"
      ],
      "text/plain": [
       "<IPython.core.display.Markdown object>"
      ]
     },
     "metadata": {},
     "output_type": "display_data"
    },
    {
     "data": {
      "text/markdown": [
       "[10: Asia_Nitollano_5074.html](http://localhost:8888/view/searchenginedemo/invertedindex/corpora/wiki-a/Asia_Nitollano_5074.html)"
      ],
      "text/plain": [
       "<IPython.core.display.Markdown object>"
      ]
     },
     "metadata": {},
     "output_type": "display_data"
    }
   ],
   "source": [
    "if not interactive:\n",
    "    print(\"Comparing the different retrievals on one example (query=american)...\\n\")\n",
    "    print(\"Vector: \")\n",
    "    resolve_results(inv_idx_wiki.get_top_ten_vector('american'))\n",
    "    print(\"Cosine: \")\n",
    "    resolve_results(inv_idx_wiki.get_top_ten_cosine('american'))\n",
    "    print(\"Boolean: \")\n",
    "    resolve_results(inv_idx_wiki.get_top_ten_boolean('american'))"
   ]
  },
  {
   "cell_type": "markdown",
   "metadata": {
    "collapsed": false
   },
   "source": [
    "Showing some more complex boolean retrievals:"
   ]
  },
  {
   "cell_type": "code",
   "execution_count": 6,
   "metadata": {
    "collapsed": false
   },
   "outputs": [
    {
     "name": "stdout",
     "output_type": "stream",
     "text": [
      "Some more complex boolean searches...\n",
      "\n",
      "not american\n"
     ]
    },
    {
     "data": {
      "text/markdown": [
       "[1: Archery_at_the_2004_Summer_Olympics_-_Women's_individual_2237.html](http://localhost:8888/view/searchenginedemo/invertedindex/corpora/wiki-a/Archery_at_the_2004_Summer_Olympics_-_Women's_individual_2237.html)"
      ],
      "text/plain": [
       "<IPython.core.display.Markdown object>"
      ]
     },
     "metadata": {},
     "output_type": "display_data"
    },
    {
     "data": {
      "text/markdown": [
       "[2: ATF1_c050.html](http://localhost:8888/view/searchenginedemo/invertedindex/corpora/wiki-a/ATF1_c050.html)"
      ],
      "text/plain": [
       "<IPython.core.display.Markdown object>"
      ]
     },
     "metadata": {},
     "output_type": "display_data"
    },
    {
     "data": {
      "text/markdown": [
       "[3: Amyloid_precursor_protein.html](http://localhost:8888/view/searchenginedemo/invertedindex/corpora/wiki-a/Amyloid_precursor_protein.html)"
      ],
      "text/plain": [
       "<IPython.core.display.Markdown object>"
      ]
     },
     "metadata": {},
     "output_type": "display_data"
    },
    {
     "data": {
      "text/markdown": [
       "[4: Aqua_(user_interface).html](http://localhost:8888/view/searchenginedemo/invertedindex/corpora/wiki-a/Aqua_(user_interface).html)"
      ],
      "text/plain": [
       "<IPython.core.display.Markdown object>"
      ]
     },
     "metadata": {},
     "output_type": "display_data"
    },
    {
     "data": {
      "text/markdown": [
       "[5: Aliens_versus_Predator_2_7706.html](http://localhost:8888/view/searchenginedemo/invertedindex/corpora/wiki-a/Aliens_versus_Predator_2_7706.html)"
      ],
      "text/plain": [
       "<IPython.core.display.Markdown object>"
      ]
     },
     "metadata": {},
     "output_type": "display_data"
    },
    {
     "data": {
      "text/markdown": [
       "[6: Artigues,_Aude_8b0a.html](http://localhost:8888/view/searchenginedemo/invertedindex/corpora/wiki-a/Artigues,_Aude_8b0a.html)"
      ],
      "text/plain": [
       "<IPython.core.display.Markdown object>"
      ]
     },
     "metadata": {},
     "output_type": "display_data"
    },
    {
     "data": {
      "text/markdown": [
       "[7: Alloa_Athletic_F.C._b8c0.html](http://localhost:8888/view/searchenginedemo/invertedindex/corpora/wiki-a/Alloa_Athletic_F.C._b8c0.html)"
      ],
      "text/plain": [
       "<IPython.core.display.Markdown object>"
      ]
     },
     "metadata": {},
     "output_type": "display_data"
    },
    {
     "data": {
      "text/markdown": [
       "[8: Allaines-Mervilliers_2603.html](http://localhost:8888/view/searchenginedemo/invertedindex/corpora/wiki-a/Allaines-Mervilliers_2603.html)"
      ],
      "text/plain": [
       "<IPython.core.display.Markdown object>"
      ]
     },
     "metadata": {},
     "output_type": "display_data"
    },
    {
     "data": {
      "text/markdown": [
       "[9: Alfred_Hitchcock_filmography_b0bf.html](http://localhost:8888/view/searchenginedemo/invertedindex/corpora/wiki-a/Alfred_Hitchcock_filmography_b0bf.html)"
      ],
      "text/plain": [
       "<IPython.core.display.Markdown object>"
      ]
     },
     "metadata": {},
     "output_type": "display_data"
    },
    {
     "data": {
      "text/markdown": [
       "[10: Arizona_locations_by_per_capita_income.html](http://localhost:8888/view/searchenginedemo/invertedindex/corpora/wiki-a/Arizona_locations_by_per_capita_income.html)"
      ],
      "text/plain": [
       "<IPython.core.display.Markdown object>"
      ]
     },
     "metadata": {},
     "output_type": "display_data"
    },
    {
     "name": "stdout",
     "output_type": "stream",
     "text": [
      "(american and airport) or sugar\n"
     ]
    },
    {
     "data": {
      "text/markdown": [
       "[1: Arctic_Bay,_Nunavut_25d6.html](http://localhost:8888/view/searchenginedemo/invertedindex/corpora/wiki-a/Arctic_Bay,_Nunavut_25d6.html)"
      ],
      "text/plain": [
       "<IPython.core.display.Markdown object>"
      ]
     },
     "metadata": {},
     "output_type": "display_data"
    },
    {
     "data": {
      "text/markdown": [
       "[2: Arcadia,_Florida_37bf.html](http://localhost:8888/view/searchenginedemo/invertedindex/corpora/wiki-a/Arcadia,_Florida_37bf.html)"
      ],
      "text/plain": [
       "<IPython.core.display.Markdown object>"
      ]
     },
     "metadata": {},
     "output_type": "display_data"
    },
    {
     "data": {
      "text/markdown": [
       "[3: Auburn_Township,_Tuscarawas_County,_Ohio_f424.html](http://localhost:8888/view/searchenginedemo/invertedindex/corpora/wiki-a/Auburn_Township,_Tuscarawas_County,_Ohio_f424.html)"
      ],
      "text/plain": [
       "<IPython.core.display.Markdown object>"
      ]
     },
     "metadata": {},
     "output_type": "display_data"
    },
    {
     "data": {
      "text/markdown": [
       "[4: Anvik,_Alaska_050e.html](http://localhost:8888/view/searchenginedemo/invertedindex/corpora/wiki-a/Anvik,_Alaska_050e.html)"
      ],
      "text/plain": [
       "<IPython.core.display.Markdown object>"
      ]
     },
     "metadata": {},
     "output_type": "display_data"
    },
    {
     "data": {
      "text/markdown": [
       "[5: Aviodrome.html](http://localhost:8888/view/searchenginedemo/invertedindex/corpora/wiki-a/Aviodrome.html)"
      ],
      "text/plain": [
       "<IPython.core.display.Markdown object>"
      ]
     },
     "metadata": {},
     "output_type": "display_data"
    },
    {
     "data": {
      "text/markdown": [
       "[6: August_26.html](http://localhost:8888/view/searchenginedemo/invertedindex/corpora/wiki-a/August_26.html)"
      ],
      "text/plain": [
       "<IPython.core.display.Markdown object>"
      ]
     },
     "metadata": {},
     "output_type": "display_data"
    },
    {
     "data": {
      "text/markdown": [
       "[7: Archery_at_the_2004_Summer_Olympics_-_Women's_individual_2237.html](http://localhost:8888/view/searchenginedemo/invertedindex/corpora/wiki-a/Archery_at_the_2004_Summer_Olympics_-_Women's_individual_2237.html)"
      ],
      "text/plain": [
       "<IPython.core.display.Markdown object>"
      ]
     },
     "metadata": {},
     "output_type": "display_data"
    },
    {
     "data": {
      "text/markdown": [
       "[8: ATF1_c050.html](http://localhost:8888/view/searchenginedemo/invertedindex/corpora/wiki-a/ATF1_c050.html)"
      ],
      "text/plain": [
       "<IPython.core.display.Markdown object>"
      ]
     },
     "metadata": {},
     "output_type": "display_data"
    },
    {
     "data": {
      "text/markdown": [
       "[9: Amyloid_precursor_protein.html](http://localhost:8888/view/searchenginedemo/invertedindex/corpora/wiki-a/Amyloid_precursor_protein.html)"
      ],
      "text/plain": [
       "<IPython.core.display.Markdown object>"
      ]
     },
     "metadata": {},
     "output_type": "display_data"
    },
    {
     "data": {
      "text/markdown": [
       "[10: Aliens_versus_Predator_2_7706.html](http://localhost:8888/view/searchenginedemo/invertedindex/corpora/wiki-a/Aliens_versus_Predator_2_7706.html)"
      ],
      "text/plain": [
       "<IPython.core.display.Markdown object>"
      ]
     },
     "metadata": {},
     "output_type": "display_data"
    },
    {
     "name": "stdout",
     "output_type": "stream",
     "text": [
      "not ((document or sugar) and american)\n"
     ]
    },
    {
     "data": {
      "text/markdown": [
       "[1: Augustinian_Province_of_the_Most_Holy_Name_of_Jesus_of_the_Philippines_970a.html](http://localhost:8888/view/searchenginedemo/invertedindex/corpora/wiki-a/Augustinian_Province_of_the_Most_Holy_Name_of_Jesus_of_the_Philippines_970a.html)"
      ],
      "text/plain": [
       "<IPython.core.display.Markdown object>"
      ]
     },
     "metadata": {},
     "output_type": "display_data"
    },
    {
     "data": {
      "text/markdown": [
       "[2: Aqua_(user_interface).html](http://localhost:8888/view/searchenginedemo/invertedindex/corpora/wiki-a/Aqua_(user_interface).html)"
      ],
      "text/plain": [
       "<IPython.core.display.Markdown object>"
      ]
     },
     "metadata": {},
     "output_type": "display_data"
    },
    {
     "data": {
      "text/markdown": [
       "[3: AP_United_States_Government_and_Politics_fc7f.html](http://localhost:8888/view/searchenginedemo/invertedindex/corpora/wiki-a/AP_United_States_Government_and_Politics_fc7f.html)"
      ],
      "text/plain": [
       "<IPython.core.display.Markdown object>"
      ]
     },
     "metadata": {},
     "output_type": "display_data"
    },
    {
     "data": {
      "text/markdown": [
       "[4: AFCEA_a4de.html](http://localhost:8888/view/searchenginedemo/invertedindex/corpora/wiki-a/AFCEA_a4de.html)"
      ],
      "text/plain": [
       "<IPython.core.display.Markdown object>"
      ]
     },
     "metadata": {},
     "output_type": "display_data"
    },
    {
     "data": {
      "text/markdown": [
       "[5: And_Tango_Makes_Three_fc68.html](http://localhost:8888/view/searchenginedemo/invertedindex/corpora/wiki-a/And_Tango_Makes_Three_fc68.html)"
      ],
      "text/plain": [
       "<IPython.core.display.Markdown object>"
      ]
     },
     "metadata": {},
     "output_type": "display_data"
    },
    {
     "data": {
      "text/markdown": [
       "[6: Arthur_Godfrey's_Talent_Scouts_3c7d.html](http://localhost:8888/view/searchenginedemo/invertedindex/corpora/wiki-a/Arthur_Godfrey's_Talent_Scouts_3c7d.html)"
      ],
      "text/plain": [
       "<IPython.core.display.Markdown object>"
      ]
     },
     "metadata": {},
     "output_type": "display_data"
    },
    {
     "data": {
      "text/markdown": [
       "[7: Annawan_Township,_Henry_County,_Illinois_3b95.html](http://localhost:8888/view/searchenginedemo/invertedindex/corpora/wiki-a/Annawan_Township,_Henry_County,_Illinois_3b95.html)"
      ],
      "text/plain": [
       "<IPython.core.display.Markdown object>"
      ]
     },
     "metadata": {},
     "output_type": "display_data"
    },
    {
     "data": {
      "text/markdown": [
       "[8: American_Presence_Post_6df8.html](http://localhost:8888/view/searchenginedemo/invertedindex/corpora/wiki-a/American_Presence_Post_6df8.html)"
      ],
      "text/plain": [
       "<IPython.core.display.Markdown object>"
      ]
     },
     "metadata": {},
     "output_type": "display_data"
    },
    {
     "data": {
      "text/markdown": [
       "[9: Alan_Brinkley_1861.html](http://localhost:8888/view/searchenginedemo/invertedindex/corpora/wiki-a/Alan_Brinkley_1861.html)"
      ],
      "text/plain": [
       "<IPython.core.display.Markdown object>"
      ]
     },
     "metadata": {},
     "output_type": "display_data"
    },
    {
     "data": {
      "text/markdown": [
       "[10: Arctic_Bay,_Nunavut_25d6.html](http://localhost:8888/view/searchenginedemo/invertedindex/corpora/wiki-a/Arctic_Bay,_Nunavut_25d6.html)"
      ],
      "text/plain": [
       "<IPython.core.display.Markdown object>"
      ]
     },
     "metadata": {},
     "output_type": "display_data"
    }
   ],
   "source": [
    "if not interactive:\n",
    "    print(\"Some more complex boolean searches...\\n\")\n",
    "    print(\"not american\")\n",
    "    resolve_results(inv_idx_wiki.get_top_ten_boolean('not american'))\n",
    "    print(\"(american and airport) or sugar\")\n",
    "    resolve_results(inv_idx_wiki.get_top_ten_boolean('(american and airport) or sugar'))\n",
    "    print(\"not ((document or sugar) and american)\")\n",
    "    resolve_results(inv_idx_wiki.get_top_ten_boolean('not ((document or sugar) and american)'))"
   ]
  },
  {
   "cell_type": "markdown",
   "metadata": {
    "collapsed": false
   },
   "source": [
    "### TXT Corpus"
   ]
  },
  {
   "cell_type": "markdown",
   "metadata": {
    "collapsed": false
   },
   "source": [
    "Comparison of the retrieval methods on one example:"
   ]
  },
  {
   "cell_type": "code",
   "execution_count": 7,
   "metadata": {
    "collapsed": false
   },
   "outputs": [
    {
     "name": "stdout",
     "output_type": "stream",
     "text": [
      "Comparing the different retrievals on one example (query=sugar)...\n",
      "\n",
      "Vector: \n"
     ]
    },
    {
     "data": {
      "text/markdown": [
       "[1: Reut_5214.txt](http://localhost:8888/view/searchenginedemo/invertedindex/corpora/reuters/Reut_5214.txt)"
      ],
      "text/plain": [
       "<IPython.core.display.Markdown object>"
      ]
     },
     "metadata": {},
     "output_type": "display_data"
    },
    {
     "data": {
      "text/markdown": [
       "[2: Reut_6657.txt](http://localhost:8888/view/searchenginedemo/invertedindex/corpora/reuters/Reut_6657.txt)"
      ],
      "text/plain": [
       "<IPython.core.display.Markdown object>"
      ]
     },
     "metadata": {},
     "output_type": "display_data"
    },
    {
     "data": {
      "text/markdown": [
       "[3: Reut_10306.txt](http://localhost:8888/view/searchenginedemo/invertedindex/corpora/reuters/Reut_10306.txt)"
      ],
      "text/plain": [
       "<IPython.core.display.Markdown object>"
      ]
     },
     "metadata": {},
     "output_type": "display_data"
    },
    {
     "data": {
      "text/markdown": [
       "[4: Reut_12790.txt](http://localhost:8888/view/searchenginedemo/invertedindex/corpora/reuters/Reut_12790.txt)"
      ],
      "text/plain": [
       "<IPython.core.display.Markdown object>"
      ]
     },
     "metadata": {},
     "output_type": "display_data"
    },
    {
     "data": {
      "text/markdown": [
       "[5: Reut_4630.txt](http://localhost:8888/view/searchenginedemo/invertedindex/corpora/reuters/Reut_4630.txt)"
      ],
      "text/plain": [
       "<IPython.core.display.Markdown object>"
      ]
     },
     "metadata": {},
     "output_type": "display_data"
    },
    {
     "data": {
      "text/markdown": [
       "[6: Reut_9069.txt](http://localhost:8888/view/searchenginedemo/invertedindex/corpora/reuters/Reut_9069.txt)"
      ],
      "text/plain": [
       "<IPython.core.display.Markdown object>"
      ]
     },
     "metadata": {},
     "output_type": "display_data"
    },
    {
     "data": {
      "text/markdown": [
       "[7: Reut_9163.txt](http://localhost:8888/view/searchenginedemo/invertedindex/corpora/reuters/Reut_9163.txt)"
      ],
      "text/plain": [
       "<IPython.core.display.Markdown object>"
      ]
     },
     "metadata": {},
     "output_type": "display_data"
    },
    {
     "data": {
      "text/markdown": [
       "[8: Reut_2246.txt](http://localhost:8888/view/searchenginedemo/invertedindex/corpora/reuters/Reut_2246.txt)"
      ],
      "text/plain": [
       "<IPython.core.display.Markdown object>"
      ]
     },
     "metadata": {},
     "output_type": "display_data"
    },
    {
     "data": {
      "text/markdown": [
       "[9: Reut_7308.txt](http://localhost:8888/view/searchenginedemo/invertedindex/corpora/reuters/Reut_7308.txt)"
      ],
      "text/plain": [
       "<IPython.core.display.Markdown object>"
      ]
     },
     "metadata": {},
     "output_type": "display_data"
    },
    {
     "data": {
      "text/markdown": [
       "[10: Reut_11387.txt](http://localhost:8888/view/searchenginedemo/invertedindex/corpora/reuters/Reut_11387.txt)"
      ],
      "text/plain": [
       "<IPython.core.display.Markdown object>"
      ]
     },
     "metadata": {},
     "output_type": "display_data"
    },
    {
     "name": "stdout",
     "output_type": "stream",
     "text": [
      "Cosine: \n"
     ]
    },
    {
     "data": {
      "text/markdown": [
       "[1: Reut_10107.txt](http://localhost:8888/view/searchenginedemo/invertedindex/corpora/reuters/Reut_10107.txt)"
      ],
      "text/plain": [
       "<IPython.core.display.Markdown object>"
      ]
     },
     "metadata": {},
     "output_type": "display_data"
    },
    {
     "data": {
      "text/markdown": [
       "[2: Reut_12790.txt](http://localhost:8888/view/searchenginedemo/invertedindex/corpora/reuters/Reut_12790.txt)"
      ],
      "text/plain": [
       "<IPython.core.display.Markdown object>"
      ]
     },
     "metadata": {},
     "output_type": "display_data"
    },
    {
     "data": {
      "text/markdown": [
       "[3: Reut_2246.txt](http://localhost:8888/view/searchenginedemo/invertedindex/corpora/reuters/Reut_2246.txt)"
      ],
      "text/plain": [
       "<IPython.core.display.Markdown object>"
      ]
     },
     "metadata": {},
     "output_type": "display_data"
    },
    {
     "data": {
      "text/markdown": [
       "[4: Reut_12415.txt](http://localhost:8888/view/searchenginedemo/invertedindex/corpora/reuters/Reut_12415.txt)"
      ],
      "text/plain": [
       "<IPython.core.display.Markdown object>"
      ]
     },
     "metadata": {},
     "output_type": "display_data"
    },
    {
     "data": {
      "text/markdown": [
       "[5: Reut_9398.txt](http://localhost:8888/view/searchenginedemo/invertedindex/corpora/reuters/Reut_9398.txt)"
      ],
      "text/plain": [
       "<IPython.core.display.Markdown object>"
      ]
     },
     "metadata": {},
     "output_type": "display_data"
    },
    {
     "data": {
      "text/markdown": [
       "[6: Reut_12003.txt](http://localhost:8888/view/searchenginedemo/invertedindex/corpora/reuters/Reut_12003.txt)"
      ],
      "text/plain": [
       "<IPython.core.display.Markdown object>"
      ]
     },
     "metadata": {},
     "output_type": "display_data"
    },
    {
     "data": {
      "text/markdown": [
       "[7: Reut_5214.txt](http://localhost:8888/view/searchenginedemo/invertedindex/corpora/reuters/Reut_5214.txt)"
      ],
      "text/plain": [
       "<IPython.core.display.Markdown object>"
      ]
     },
     "metadata": {},
     "output_type": "display_data"
    },
    {
     "data": {
      "text/markdown": [
       "[8: Reut_9163.txt](http://localhost:8888/view/searchenginedemo/invertedindex/corpora/reuters/Reut_9163.txt)"
      ],
      "text/plain": [
       "<IPython.core.display.Markdown object>"
      ]
     },
     "metadata": {},
     "output_type": "display_data"
    },
    {
     "data": {
      "text/markdown": [
       "[9: Reut_1216.txt](http://localhost:8888/view/searchenginedemo/invertedindex/corpora/reuters/Reut_1216.txt)"
      ],
      "text/plain": [
       "<IPython.core.display.Markdown object>"
      ]
     },
     "metadata": {},
     "output_type": "display_data"
    },
    {
     "data": {
      "text/markdown": [
       "[10: Reut_5175.txt](http://localhost:8888/view/searchenginedemo/invertedindex/corpora/reuters/Reut_5175.txt)"
      ],
      "text/plain": [
       "<IPython.core.display.Markdown object>"
      ]
     },
     "metadata": {},
     "output_type": "display_data"
    },
    {
     "name": "stdout",
     "output_type": "stream",
     "text": [
      "Boolean: \n"
     ]
    },
    {
     "data": {
      "text/markdown": [
       "[1: Reut_14440.txt](http://localhost:8888/view/searchenginedemo/invertedindex/corpora/reuters/Reut_14440.txt)"
      ],
      "text/plain": [
       "<IPython.core.display.Markdown object>"
      ]
     },
     "metadata": {},
     "output_type": "display_data"
    },
    {
     "data": {
      "text/markdown": [
       "[2: Reut_5214.txt](http://localhost:8888/view/searchenginedemo/invertedindex/corpora/reuters/Reut_5214.txt)"
      ],
      "text/plain": [
       "<IPython.core.display.Markdown object>"
      ]
     },
     "metadata": {},
     "output_type": "display_data"
    },
    {
     "data": {
      "text/markdown": [
       "[3: Reut_6486.txt](http://localhost:8888/view/searchenginedemo/invertedindex/corpora/reuters/Reut_6486.txt)"
      ],
      "text/plain": [
       "<IPython.core.display.Markdown object>"
      ]
     },
     "metadata": {},
     "output_type": "display_data"
    },
    {
     "data": {
      "text/markdown": [
       "[4: Reut_11043.txt](http://localhost:8888/view/searchenginedemo/invertedindex/corpora/reuters/Reut_11043.txt)"
      ],
      "text/plain": [
       "<IPython.core.display.Markdown object>"
      ]
     },
     "metadata": {},
     "output_type": "display_data"
    },
    {
     "data": {
      "text/markdown": [
       "[5: Reut_1216.txt](http://localhost:8888/view/searchenginedemo/invertedindex/corpora/reuters/Reut_1216.txt)"
      ],
      "text/plain": [
       "<IPython.core.display.Markdown object>"
      ]
     },
     "metadata": {},
     "output_type": "display_data"
    },
    {
     "data": {
      "text/markdown": [
       "[6: Reut_3577.txt](http://localhost:8888/view/searchenginedemo/invertedindex/corpora/reuters/Reut_3577.txt)"
      ],
      "text/plain": [
       "<IPython.core.display.Markdown object>"
      ]
     },
     "metadata": {},
     "output_type": "display_data"
    },
    {
     "data": {
      "text/markdown": [
       "[7: Reut_4117.txt](http://localhost:8888/view/searchenginedemo/invertedindex/corpora/reuters/Reut_4117.txt)"
      ],
      "text/plain": [
       "<IPython.core.display.Markdown object>"
      ]
     },
     "metadata": {},
     "output_type": "display_data"
    },
    {
     "data": {
      "text/markdown": [
       "[8: Reut_2206.txt](http://localhost:8888/view/searchenginedemo/invertedindex/corpora/reuters/Reut_2206.txt)"
      ],
      "text/plain": [
       "<IPython.core.display.Markdown object>"
      ]
     },
     "metadata": {},
     "output_type": "display_data"
    },
    {
     "data": {
      "text/markdown": [
       "[9: Reut_10299.txt](http://localhost:8888/view/searchenginedemo/invertedindex/corpora/reuters/Reut_10299.txt)"
      ],
      "text/plain": [
       "<IPython.core.display.Markdown object>"
      ]
     },
     "metadata": {},
     "output_type": "display_data"
    },
    {
     "data": {
      "text/markdown": [
       "[10: Reut_12760.txt](http://localhost:8888/view/searchenginedemo/invertedindex/corpora/reuters/Reut_12760.txt)"
      ],
      "text/plain": [
       "<IPython.core.display.Markdown object>"
      ]
     },
     "metadata": {},
     "output_type": "display_data"
    }
   ],
   "source": [
    "if not interactive:\n",
    "    print(\"Comparing the different retrievals on one example (query=sugar)...\\n\")\n",
    "    print(\"Vector: \")\n",
    "    resolve_results(inv_idx_txt.get_top_ten_vector('sugar'))\n",
    "    print(\"Cosine: \")\n",
    "    resolve_results(inv_idx_txt.get_top_ten_cosine('sugar'))\n",
    "    print(\"Boolean: \")\n",
    "    resolve_results(inv_idx_txt.get_top_ten_boolean('sugar'))"
   ]
  },
  {
   "cell_type": "markdown",
   "metadata": {
    "collapsed": false
   },
   "source": [
    "Showing some more complex boolean retrievals:"
   ]
  },
  {
   "cell_type": "code",
   "execution_count": 8,
   "metadata": {
    "collapsed": false
   },
   "outputs": [
    {
     "name": "stdout",
     "output_type": "stream",
     "text": [
      "Some more complex boolean searches...\n",
      "\n",
      "not sugar\n"
     ]
    },
    {
     "data": {
      "text/markdown": [
       "[1: Reut_5258.txt](http://localhost:8888/view/searchenginedemo/invertedindex/corpora/reuters/Reut_5258.txt)"
      ],
      "text/plain": [
       "<IPython.core.display.Markdown object>"
      ]
     },
     "metadata": {},
     "output_type": "display_data"
    },
    {
     "data": {
      "text/markdown": [
       "[2: Reut_13462.txt](http://localhost:8888/view/searchenginedemo/invertedindex/corpora/reuters/Reut_13462.txt)"
      ],
      "text/plain": [
       "<IPython.core.display.Markdown object>"
      ]
     },
     "metadata": {},
     "output_type": "display_data"
    },
    {
     "data": {
      "text/markdown": [
       "[3: Reut_10760.txt](http://localhost:8888/view/searchenginedemo/invertedindex/corpora/reuters/Reut_10760.txt)"
      ],
      "text/plain": [
       "<IPython.core.display.Markdown object>"
      ]
     },
     "metadata": {},
     "output_type": "display_data"
    },
    {
     "data": {
      "text/markdown": [
       "[4: Reut_4470.txt](http://localhost:8888/view/searchenginedemo/invertedindex/corpora/reuters/Reut_4470.txt)"
      ],
      "text/plain": [
       "<IPython.core.display.Markdown object>"
      ]
     },
     "metadata": {},
     "output_type": "display_data"
    },
    {
     "data": {
      "text/markdown": [
       "[5: Reut_6541.txt](http://localhost:8888/view/searchenginedemo/invertedindex/corpora/reuters/Reut_6541.txt)"
      ],
      "text/plain": [
       "<IPython.core.display.Markdown object>"
      ]
     },
     "metadata": {},
     "output_type": "display_data"
    },
    {
     "data": {
      "text/markdown": [
       "[6: Reut_8961.txt](http://localhost:8888/view/searchenginedemo/invertedindex/corpora/reuters/Reut_8961.txt)"
      ],
      "text/plain": [
       "<IPython.core.display.Markdown object>"
      ]
     },
     "metadata": {},
     "output_type": "display_data"
    },
    {
     "data": {
      "text/markdown": [
       "[7: Reut_1.txt](http://localhost:8888/view/searchenginedemo/invertedindex/corpora/reuters/Reut_1.txt)"
      ],
      "text/plain": [
       "<IPython.core.display.Markdown object>"
      ]
     },
     "metadata": {},
     "output_type": "display_data"
    },
    {
     "data": {
      "text/markdown": [
       "[8: Reut_11843.txt](http://localhost:8888/view/searchenginedemo/invertedindex/corpora/reuters/Reut_11843.txt)"
      ],
      "text/plain": [
       "<IPython.core.display.Markdown object>"
      ]
     },
     "metadata": {},
     "output_type": "display_data"
    },
    {
     "data": {
      "text/markdown": [
       "[9: Reut_3440.txt](http://localhost:8888/view/searchenginedemo/invertedindex/corpora/reuters/Reut_3440.txt)"
      ],
      "text/plain": [
       "<IPython.core.display.Markdown object>"
      ]
     },
     "metadata": {},
     "output_type": "display_data"
    },
    {
     "data": {
      "text/markdown": [
       "[10: Reut_10403.txt](http://localhost:8888/view/searchenginedemo/invertedindex/corpora/reuters/Reut_10403.txt)"
      ],
      "text/plain": [
       "<IPython.core.display.Markdown object>"
      ]
     },
     "metadata": {},
     "output_type": "display_data"
    },
    {
     "name": "stdout",
     "output_type": "stream",
     "text": [
      "(sugar and airport) or (throughout and january)\n"
     ]
    },
    {
     "data": {
      "text/markdown": [
       "[1: Reut_1.txt](http://localhost:8888/view/searchenginedemo/invertedindex/corpora/reuters/Reut_1.txt)"
      ],
      "text/plain": [
       "<IPython.core.display.Markdown object>"
      ]
     },
     "metadata": {},
     "output_type": "display_data"
    },
    {
     "data": {
      "text/markdown": [
       "[2: Reut_13462.txt](http://localhost:8888/view/searchenginedemo/invertedindex/corpora/reuters/Reut_13462.txt)"
      ],
      "text/plain": [
       "<IPython.core.display.Markdown object>"
      ]
     },
     "metadata": {},
     "output_type": "display_data"
    },
    {
     "data": {
      "text/markdown": [
       "[3: Reut_4470.txt](http://localhost:8888/view/searchenginedemo/invertedindex/corpora/reuters/Reut_4470.txt)"
      ],
      "text/plain": [
       "<IPython.core.display.Markdown object>"
      ]
     },
     "metadata": {},
     "output_type": "display_data"
    },
    {
     "data": {
      "text/markdown": [
       "[4: Reut_6541.txt](http://localhost:8888/view/searchenginedemo/invertedindex/corpora/reuters/Reut_6541.txt)"
      ],
      "text/plain": [
       "<IPython.core.display.Markdown object>"
      ]
     },
     "metadata": {},
     "output_type": "display_data"
    },
    {
     "data": {
      "text/markdown": [
       "[5: Reut_3440.txt](http://localhost:8888/view/searchenginedemo/invertedindex/corpora/reuters/Reut_3440.txt)"
      ],
      "text/plain": [
       "<IPython.core.display.Markdown object>"
      ]
     },
     "metadata": {},
     "output_type": "display_data"
    },
    {
     "data": {
      "text/markdown": [
       "[6: Reut_10403.txt](http://localhost:8888/view/searchenginedemo/invertedindex/corpora/reuters/Reut_10403.txt)"
      ],
      "text/plain": [
       "<IPython.core.display.Markdown object>"
      ]
     },
     "metadata": {},
     "output_type": "display_data"
    },
    {
     "data": {
      "text/markdown": [
       "[7: Reut_2968.txt](http://localhost:8888/view/searchenginedemo/invertedindex/corpora/reuters/Reut_2968.txt)"
      ],
      "text/plain": [
       "<IPython.core.display.Markdown object>"
      ]
     },
     "metadata": {},
     "output_type": "display_data"
    },
    {
     "data": {
      "text/markdown": [
       "[8: Reut_4061.txt](http://localhost:8888/view/searchenginedemo/invertedindex/corpora/reuters/Reut_4061.txt)"
      ],
      "text/plain": [
       "<IPython.core.display.Markdown object>"
      ]
     },
     "metadata": {},
     "output_type": "display_data"
    },
    {
     "data": {
      "text/markdown": [
       "[9: Reut_1902.txt](http://localhost:8888/view/searchenginedemo/invertedindex/corpora/reuters/Reut_1902.txt)"
      ],
      "text/plain": [
       "<IPython.core.display.Markdown object>"
      ]
     },
     "metadata": {},
     "output_type": "display_data"
    },
    {
     "data": {
      "text/markdown": [
       "[10: Reut_8109.txt](http://localhost:8888/view/searchenginedemo/invertedindex/corpora/reuters/Reut_8109.txt)"
      ],
      "text/plain": [
       "<IPython.core.display.Markdown object>"
      ]
     },
     "metadata": {},
     "output_type": "display_data"
    },
    {
     "name": "stdout",
     "output_type": "stream",
     "text": [
      "not (sugar or cargo or hello)\n"
     ]
    },
    {
     "data": {
      "text/markdown": [
       "[1: Reut_5258.txt](http://localhost:8888/view/searchenginedemo/invertedindex/corpora/reuters/Reut_5258.txt)"
      ],
      "text/plain": [
       "<IPython.core.display.Markdown object>"
      ]
     },
     "metadata": {},
     "output_type": "display_data"
    },
    {
     "data": {
      "text/markdown": [
       "[2: Reut_13462.txt](http://localhost:8888/view/searchenginedemo/invertedindex/corpora/reuters/Reut_13462.txt)"
      ],
      "text/plain": [
       "<IPython.core.display.Markdown object>"
      ]
     },
     "metadata": {},
     "output_type": "display_data"
    },
    {
     "data": {
      "text/markdown": [
       "[3: Reut_10760.txt](http://localhost:8888/view/searchenginedemo/invertedindex/corpora/reuters/Reut_10760.txt)"
      ],
      "text/plain": [
       "<IPython.core.display.Markdown object>"
      ]
     },
     "metadata": {},
     "output_type": "display_data"
    },
    {
     "data": {
      "text/markdown": [
       "[4: Reut_4470.txt](http://localhost:8888/view/searchenginedemo/invertedindex/corpora/reuters/Reut_4470.txt)"
      ],
      "text/plain": [
       "<IPython.core.display.Markdown object>"
      ]
     },
     "metadata": {},
     "output_type": "display_data"
    },
    {
     "data": {
      "text/markdown": [
       "[5: Reut_6541.txt](http://localhost:8888/view/searchenginedemo/invertedindex/corpora/reuters/Reut_6541.txt)"
      ],
      "text/plain": [
       "<IPython.core.display.Markdown object>"
      ]
     },
     "metadata": {},
     "output_type": "display_data"
    },
    {
     "data": {
      "text/markdown": [
       "[6: Reut_8961.txt](http://localhost:8888/view/searchenginedemo/invertedindex/corpora/reuters/Reut_8961.txt)"
      ],
      "text/plain": [
       "<IPython.core.display.Markdown object>"
      ]
     },
     "metadata": {},
     "output_type": "display_data"
    },
    {
     "data": {
      "text/markdown": [
       "[7: Reut_1.txt](http://localhost:8888/view/searchenginedemo/invertedindex/corpora/reuters/Reut_1.txt)"
      ],
      "text/plain": [
       "<IPython.core.display.Markdown object>"
      ]
     },
     "metadata": {},
     "output_type": "display_data"
    },
    {
     "data": {
      "text/markdown": [
       "[8: Reut_11843.txt](http://localhost:8888/view/searchenginedemo/invertedindex/corpora/reuters/Reut_11843.txt)"
      ],
      "text/plain": [
       "<IPython.core.display.Markdown object>"
      ]
     },
     "metadata": {},
     "output_type": "display_data"
    },
    {
     "data": {
      "text/markdown": [
       "[9: Reut_10403.txt](http://localhost:8888/view/searchenginedemo/invertedindex/corpora/reuters/Reut_10403.txt)"
      ],
      "text/plain": [
       "<IPython.core.display.Markdown object>"
      ]
     },
     "metadata": {},
     "output_type": "display_data"
    },
    {
     "data": {
      "text/markdown": [
       "[10: Reut_2968.txt](http://localhost:8888/view/searchenginedemo/invertedindex/corpora/reuters/Reut_2968.txt)"
      ],
      "text/plain": [
       "<IPython.core.display.Markdown object>"
      ]
     },
     "metadata": {},
     "output_type": "display_data"
    }
   ],
   "source": [
    "if not interactive:\n",
    "    print(\"Some more complex boolean searches...\\n\")\n",
    "    print(\"not sugar\")\n",
    "    resolve_results(inv_idx_txt.get_top_ten_boolean('not sugar'))\n",
    "    print(\"(sugar and airport) or (throughout and january)\")\n",
    "    resolve_results(inv_idx_txt.get_top_ten_boolean('(sugar and airport) or (throughout and january)'))\n",
    "    print(\"not (sugar or cargo or hello)\")\n",
    "    resolve_results(inv_idx_txt.get_top_ten_boolean('not (sugar or cargo or hello)'))"
   ]
  },
  {
   "cell_type": "markdown",
   "metadata": {
    "collapsed": false
   },
   "source": [
    "## Interactive Mode"
   ]
  },
  {
   "cell_type": "code",
   "execution_count": 9,
   "metadata": {
    "collapsed": false
   },
   "outputs": [],
   "source": [
    "import time\n",
    "\n",
    "def interactive_mode():\n",
    "    used_corpus = inv_idx_wiki\n",
    "    used_mode = 'vector'\n",
    "    while True:\n",
    "        # might want to adjust time you can take\n",
    "        time.sleep(5)\n",
    "        user_input = input('> ')\n",
    "\n",
    "        if user_input == '--help' or user_input == '--h':\n",
    "            print(\"\"\"> --help   or --h to get this help text.\n",
    "> --corpus or --c to switch corpora.\n",
    "> --modus  or --m to switch to a different method of retrieval (\\\"vector\\\", \\\"cosine\\\", or \\\"boolean\\\").\n",
    "> --exit   or --e to exit this here.\"\"\")\n",
    "            continue\n",
    "        if user_input == '--corpus' or user_input == '--c':\n",
    "            used_corpus = inv_idx_txt if used_corpus == inv_idx_wiki else inv_idx_wiki\n",
    "            corpus_response = 'HTML' if used_corpus.html else 'TXT'\n",
    "            print('> Successfully switched corpus to {0}!'.format(corpus_response))\n",
    "            continue\n",
    "        if user_input == '--exit' or user_input == '--e':\n",
    "            print('> Exiting...')\n",
    "            break\n",
    "        if user_input == '--modus' or user_input == '--m':\n",
    "            print('> Which mode do you want to use: \\\"vector\\\", \\\"cosine\\\", or \\\"boolean\\\"?')\n",
    "            user_input_mode = input('> Enter vector, cosine, or boolean for your wished mode: ')\n",
    "            if user_input_mode not in ['vector', 'cosine', 'boolean']:\n",
    "                print('> Invalid entry...')\n",
    "            else:\n",
    "                print('> Successfully switched to {0}!'.format(user_input_mode))\n",
    "                used_mode = user_input_mode\n",
    "            continue\n",
    "\n",
    "        try:\n",
    "            if not user_input.startswith('--'):\n",
    "                res = [('err', '')]\n",
    "                if used_mode == 'vector':\n",
    "                    res = used_corpus.get_top_ten_vector(user_input)\n",
    "                if used_mode == 'cosine':\n",
    "                    res = used_corpus.get_top_ten_cosine(user_input)\n",
    "                if used_mode == 'boolean':\n",
    "                    res = used_corpus.get_top_ten_boolean(user_input)\n",
    "\n",
    "                print('> The results for the query {0} in mode {1} are as followed: '.format(user_input, used_mode))\n",
    "                resolve_results(res)\n",
    "                continue\n",
    "        except Exception:\n",
    "            print('> Error occurred during retrieval, try again...')\n",
    "            continue\n",
    "\n",
    "        print('> Error occurred, try again...')"
   ]
  },
  {
   "cell_type": "markdown",
   "metadata": {
    "collapsed": false
   },
   "source": [
    "Making it optional (default=turned off):"
   ]
  },
  {
   "cell_type": "code",
   "execution_count": 10,
   "metadata": {
    "collapsed": false
   },
   "outputs": [],
   "source": [
    "if interactive:\n",
    "    print(\"Skipped examples... Entering interactive mode!\")\n",
    "    time.sleep(3)\n",
    "    interactive_mode()"
   ]
  }
 ],
 "metadata": {
  "kernelspec": {
   "display_name": "Python 3",
   "language": "python",
   "name": "python3"
  },
  "language_info": {
   "codemirror_mode": {
    "name": "ipython",
    "version": 2
   },
   "file_extension": ".py",
   "mimetype": "text/x-python",
   "name": "python",
   "nbconvert_exporter": "python",
   "pygments_lexer": "ipython2",
   "version": "3.10.6 (main, Nov 14 2022, 16:10:14) [GCC 11.3.0]"
  },
  "vscode": {
   "interpreter": {
    "hash": "e7370f93d1d0cde622a1f8e1c04877d8463912d04d973331ad4851f04de6915a"
   }
  }
 },
 "nbformat": 4,
 "nbformat_minor": 0
}
