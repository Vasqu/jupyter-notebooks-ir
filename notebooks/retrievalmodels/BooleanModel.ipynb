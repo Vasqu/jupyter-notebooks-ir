{
 "cells": [
  {
   "cell_type": "markdown",
   "source": [
    "# Examples for the Boolean Model\n",
    "## Creating our example corpus and queries"
   ],
   "metadata": {
    "collapsed": false
   }
  },
  {
   "cell_type": "code",
   "execution_count": 1,
   "outputs": [],
   "source": [
    "import pandas as pd"
   ],
   "metadata": {
    "collapsed": false
   }
  },
  {
   "cell_type": "markdown",
   "source": [
    "Some example documents:"
   ],
   "metadata": {
    "collapsed": false
   }
  },
  {
   "cell_type": "code",
   "execution_count": 2,
   "outputs": [],
   "source": [
    "document_1_raw = \"This is an exercise worth looking forward to.\"\n",
    "document_2_raw = \"Is this what I think it is?\"\n",
    "document_3_raw = \"A showcase for the Boolean Model!\""
   ],
   "metadata": {
    "collapsed": false
   }
  },
  {
   "cell_type": "markdown",
   "source": [
    "Get a set of words from the raw string by:\n",
    "- Setting every word to lower case\n",
    "- Removing punctuations\n",
    "- Taking every single word (in this case separated by one space)"
   ],
   "metadata": {
    "collapsed": false
   }
  },
  {
   "cell_type": "code",
   "execution_count": 3,
   "outputs": [
    {
     "data": {
      "text/plain": "           word_1    word_2 word_3 word_4 word_5    word_6   word_7 word_8\ndocument_1   this  exercise     an     to  worth   forward  looking     is\ndocument_2   this        it  think   what      i        is     None   None\ndocument_3    for   boolean  model      a    the  showcase     None   None",
      "text/html": "<div>\n<style scoped>\n    .dataframe tbody tr th:only-of-type {\n        vertical-align: middle;\n    }\n\n    .dataframe tbody tr th {\n        vertical-align: top;\n    }\n\n    .dataframe thead th {\n        text-align: right;\n    }\n</style>\n<table border=\"1\" class=\"dataframe\">\n  <thead>\n    <tr style=\"text-align: right;\">\n      <th></th>\n      <th>word_1</th>\n      <th>word_2</th>\n      <th>word_3</th>\n      <th>word_4</th>\n      <th>word_5</th>\n      <th>word_6</th>\n      <th>word_7</th>\n      <th>word_8</th>\n    </tr>\n  </thead>\n  <tbody>\n    <tr>\n      <th>document_1</th>\n      <td>this</td>\n      <td>exercise</td>\n      <td>an</td>\n      <td>to</td>\n      <td>worth</td>\n      <td>forward</td>\n      <td>looking</td>\n      <td>is</td>\n    </tr>\n    <tr>\n      <th>document_2</th>\n      <td>this</td>\n      <td>it</td>\n      <td>think</td>\n      <td>what</td>\n      <td>i</td>\n      <td>is</td>\n      <td>None</td>\n      <td>None</td>\n    </tr>\n    <tr>\n      <th>document_3</th>\n      <td>for</td>\n      <td>boolean</td>\n      <td>model</td>\n      <td>a</td>\n      <td>the</td>\n      <td>showcase</td>\n      <td>None</td>\n      <td>None</td>\n    </tr>\n  </tbody>\n</table>\n</div>"
     },
     "execution_count": 3,
     "metadata": {},
     "output_type": "execute_result"
    }
   ],
   "source": [
    "document_1_set = set(document_1_raw.lower().replace(\".\", \"\").split(\" \"))\n",
    "document_2_set = set(document_2_raw.lower().replace(\"?\", \"\").split(\" \"))\n",
    "document_3_set = set(document_3_raw.lower().replace(\"!\", \"\").split(\" \"))\n",
    "corpus = [document_1_set, document_2_set, document_3_set]\n",
    "\n",
    "words_max = max([len(document) for document in corpus])\n",
    "df_corpus = pd.DataFrame(corpus, ['document_' + str(i+1) for i in range(len(corpus))], [\"word_\" + str(i+1) for i in range(words_max)])\n",
    "df_corpus"
   ],
   "metadata": {
    "collapsed": false
   }
  },
  {
   "cell_type": "markdown",
   "source": [
    "Some example queries:"
   ],
   "metadata": {
    "collapsed": false
   }
  },
  {
   "cell_type": "code",
   "execution_count": 4,
   "outputs": [
    {
     "data": {
      "text/plain": "           word_1 word_2 word_3 word_4 word_5\nquery_1   boolean  model   None   None   None\nquery_2  showcase   what     is   None   None\nquery_3   boolean   None   None   None   None\nquery_4      this     is  worth  think     it",
      "text/html": "<div>\n<style scoped>\n    .dataframe tbody tr th:only-of-type {\n        vertical-align: middle;\n    }\n\n    .dataframe tbody tr th {\n        vertical-align: top;\n    }\n\n    .dataframe thead th {\n        text-align: right;\n    }\n</style>\n<table border=\"1\" class=\"dataframe\">\n  <thead>\n    <tr style=\"text-align: right;\">\n      <th></th>\n      <th>word_1</th>\n      <th>word_2</th>\n      <th>word_3</th>\n      <th>word_4</th>\n      <th>word_5</th>\n    </tr>\n  </thead>\n  <tbody>\n    <tr>\n      <th>query_1</th>\n      <td>boolean</td>\n      <td>model</td>\n      <td>None</td>\n      <td>None</td>\n      <td>None</td>\n    </tr>\n    <tr>\n      <th>query_2</th>\n      <td>showcase</td>\n      <td>what</td>\n      <td>is</td>\n      <td>None</td>\n      <td>None</td>\n    </tr>\n    <tr>\n      <th>query_3</th>\n      <td>boolean</td>\n      <td>None</td>\n      <td>None</td>\n      <td>None</td>\n      <td>None</td>\n    </tr>\n    <tr>\n      <th>query_4</th>\n      <td>this</td>\n      <td>is</td>\n      <td>worth</td>\n      <td>think</td>\n      <td>it</td>\n    </tr>\n  </tbody>\n</table>\n</div>"
     },
     "execution_count": 4,
     "metadata": {},
     "output_type": "execute_result"
    }
   ],
   "source": [
    "# strip everything down to the single words within a query\n",
    "\n",
    "query_1 = \"boolean AND model\"\n",
    "query_1_set = ' '.join(query_1.replace(\"AND\", \"\").split()).split(\" \")\n",
    "\n",
    "query_2 = \"(showcase OR what) AND is\"\n",
    "query_2_set = ' '.join(query_2.replace(\"AND\", \"\").replace(\"OR\", \"\").replace(\"(\", \"\").replace(\")\", \"\").split()).split(\" \")\n",
    "\n",
    "query_3 = \"NOT boolean\"\n",
    "query_3_set = ' '.join(query_3.replace(\"NOT\", \"\").split()).split(\" \")\n",
    "\n",
    "query_4 = \"this AND is AND (worth OR think) AND NOT it\"\n",
    "query_4_set = ' '.join(query_4.replace(\"AND\", \"\").replace(\"OR\", \"\").replace(\"(\", \"\").replace(\")\", \"\").replace(\"NOT\", \"\").split()).split(\" \")\n",
    "\n",
    "queries = [query_1_set, query_2_set, query_3_set, query_4_set]\n",
    "\n",
    "words_max = max([len(query) for query in queries])\n",
    "df_queries = pd.DataFrame(queries, ['query_' + str(i+1) for i in range(len(queries))], [\"word_\" + str(i+1) for i in range(words_max)])\n",
    "df_queries"
   ],
   "metadata": {
    "collapsed": false
   }
  },
  {
   "cell_type": "markdown",
   "source": [
    "## Evaluating queries on the documents\n",
    "Evaluation functions:"
   ],
   "metadata": {
    "collapsed": false
   }
  },
  {
   "cell_type": "code",
   "execution_count": 5,
   "outputs": [],
   "source": [
    "# generic evaluation according to a function\n",
    "def evaluate_query(eval_function, values):\n",
    "    return eval_function(values)\n",
    "\n",
    "# different evaluations for the different queries\n",
    "def eval_query_1(values):\n",
    "    return all(value == True for value in values)\n",
    "\n",
    "def eval_query_2(values):\n",
    "    # (showcase OR what)\n",
    "    expr_1 = values[0] or values[1]\n",
    "    # .. AND is\n",
    "    expr_2 = expr_1 and values[2]\n",
    "\n",
    "    if not expr_2: return False\n",
    "    return True\n",
    "\n",
    "def eval_query_3(values):\n",
    "    return all(value == False for value in values)\n",
    "\n",
    "def eval_query_4(values):\n",
    "    # this AND is\n",
    "    expr_1 = values[0] and values[1]\n",
    "    # .. AND (worth OR think)\n",
    "    expr_2 = expr_1 and (values[2] or values[3])\n",
    "    # .. AND NOT it\n",
    "    expr_3 = expr_2 and (not values[4])\n",
    "\n",
    "    if not expr_3: return False\n",
    "    return True"
   ],
   "metadata": {
    "collapsed": false
   }
  },
  {
   "cell_type": "markdown",
   "source": [
    "Create the results according to the query with its respective evaluation function."
   ],
   "metadata": {
    "collapsed": false
   }
  },
  {
   "cell_type": "code",
   "execution_count": 6,
   "outputs": [],
   "source": [
    "def create_results(query_set, eval_function):\n",
    "    # evaluate if a word (of the query) is in a document\n",
    "    query_results = {word : [word in document for document in corpus] for word in query_set}\n",
    "    # add the complete result for a document by evaluating accordingly\n",
    "    query_results = query_results | \\\n",
    "                      {\"total\" : [evaluate_query(eval_function, [query_results.get(key)[i] for key in query_results.keys()]) for i in range(len(corpus))]}\n",
    "\n",
    "    df = pd.DataFrame(query_results, ['document_' + str(i+1) for i in range(len(corpus))])\n",
    "    return df"
   ],
   "metadata": {
    "collapsed": false
   }
  },
  {
   "cell_type": "markdown",
   "source": [
    "Query 1: \"boolean AND model\""
   ],
   "metadata": {
    "collapsed": false
   }
  },
  {
   "cell_type": "code",
   "execution_count": 7,
   "outputs": [
    {
     "data": {
      "text/plain": "            boolean  model  total\ndocument_1    False  False  False\ndocument_2    False  False  False\ndocument_3     True   True   True",
      "text/html": "<div>\n<style scoped>\n    .dataframe tbody tr th:only-of-type {\n        vertical-align: middle;\n    }\n\n    .dataframe tbody tr th {\n        vertical-align: top;\n    }\n\n    .dataframe thead th {\n        text-align: right;\n    }\n</style>\n<table border=\"1\" class=\"dataframe\">\n  <thead>\n    <tr style=\"text-align: right;\">\n      <th></th>\n      <th>boolean</th>\n      <th>model</th>\n      <th>total</th>\n    </tr>\n  </thead>\n  <tbody>\n    <tr>\n      <th>document_1</th>\n      <td>False</td>\n      <td>False</td>\n      <td>False</td>\n    </tr>\n    <tr>\n      <th>document_2</th>\n      <td>False</td>\n      <td>False</td>\n      <td>False</td>\n    </tr>\n    <tr>\n      <th>document_3</th>\n      <td>True</td>\n      <td>True</td>\n      <td>True</td>\n    </tr>\n  </tbody>\n</table>\n</div>"
     },
     "execution_count": 7,
     "metadata": {},
     "output_type": "execute_result"
    }
   ],
   "source": [
    "df_1 = create_results(query_1_set, eval_query_1)\n",
    "df_1"
   ],
   "metadata": {
    "collapsed": false
   }
  },
  {
   "cell_type": "markdown",
   "source": [
    "Query 2: \"(showcase OR what) AND is\""
   ],
   "metadata": {
    "collapsed": false
   }
  },
  {
   "cell_type": "code",
   "execution_count": 8,
   "outputs": [
    {
     "data": {
      "text/plain": "            showcase   what     is  total\ndocument_1     False  False   True  False\ndocument_2     False   True   True   True\ndocument_3      True  False  False  False",
      "text/html": "<div>\n<style scoped>\n    .dataframe tbody tr th:only-of-type {\n        vertical-align: middle;\n    }\n\n    .dataframe tbody tr th {\n        vertical-align: top;\n    }\n\n    .dataframe thead th {\n        text-align: right;\n    }\n</style>\n<table border=\"1\" class=\"dataframe\">\n  <thead>\n    <tr style=\"text-align: right;\">\n      <th></th>\n      <th>showcase</th>\n      <th>what</th>\n      <th>is</th>\n      <th>total</th>\n    </tr>\n  </thead>\n  <tbody>\n    <tr>\n      <th>document_1</th>\n      <td>False</td>\n      <td>False</td>\n      <td>True</td>\n      <td>False</td>\n    </tr>\n    <tr>\n      <th>document_2</th>\n      <td>False</td>\n      <td>True</td>\n      <td>True</td>\n      <td>True</td>\n    </tr>\n    <tr>\n      <th>document_3</th>\n      <td>True</td>\n      <td>False</td>\n      <td>False</td>\n      <td>False</td>\n    </tr>\n  </tbody>\n</table>\n</div>"
     },
     "execution_count": 8,
     "metadata": {},
     "output_type": "execute_result"
    }
   ],
   "source": [
    "df_2 = create_results(query_2_set, eval_query_2)\n",
    "df_2"
   ],
   "metadata": {
    "collapsed": false
   }
  },
  {
   "cell_type": "markdown",
   "source": [
    "Query 3: \"NOT boolean\""
   ],
   "metadata": {
    "collapsed": false
   }
  },
  {
   "cell_type": "code",
   "execution_count": 9,
   "outputs": [
    {
     "data": {
      "text/plain": "            boolean  total\ndocument_1    False   True\ndocument_2    False   True\ndocument_3     True  False",
      "text/html": "<div>\n<style scoped>\n    .dataframe tbody tr th:only-of-type {\n        vertical-align: middle;\n    }\n\n    .dataframe tbody tr th {\n        vertical-align: top;\n    }\n\n    .dataframe thead th {\n        text-align: right;\n    }\n</style>\n<table border=\"1\" class=\"dataframe\">\n  <thead>\n    <tr style=\"text-align: right;\">\n      <th></th>\n      <th>boolean</th>\n      <th>total</th>\n    </tr>\n  </thead>\n  <tbody>\n    <tr>\n      <th>document_1</th>\n      <td>False</td>\n      <td>True</td>\n    </tr>\n    <tr>\n      <th>document_2</th>\n      <td>False</td>\n      <td>True</td>\n    </tr>\n    <tr>\n      <th>document_3</th>\n      <td>True</td>\n      <td>False</td>\n    </tr>\n  </tbody>\n</table>\n</div>"
     },
     "execution_count": 9,
     "metadata": {},
     "output_type": "execute_result"
    }
   ],
   "source": [
    "df_3 = create_results(query_3_set, eval_query_3)\n",
    "df_3"
   ],
   "metadata": {
    "collapsed": false
   }
  },
  {
   "cell_type": "markdown",
   "source": [
    "Query 4: \"this AND is AND (worth OR think) AND NOT it\""
   ],
   "metadata": {
    "collapsed": false
   }
  },
  {
   "cell_type": "code",
   "execution_count": 10,
   "outputs": [
    {
     "data": {
      "text/plain": "             this     is  worth  think     it  total\ndocument_1   True   True   True  False  False   True\ndocument_2   True   True  False   True   True  False\ndocument_3  False  False  False  False  False  False",
      "text/html": "<div>\n<style scoped>\n    .dataframe tbody tr th:only-of-type {\n        vertical-align: middle;\n    }\n\n    .dataframe tbody tr th {\n        vertical-align: top;\n    }\n\n    .dataframe thead th {\n        text-align: right;\n    }\n</style>\n<table border=\"1\" class=\"dataframe\">\n  <thead>\n    <tr style=\"text-align: right;\">\n      <th></th>\n      <th>this</th>\n      <th>is</th>\n      <th>worth</th>\n      <th>think</th>\n      <th>it</th>\n      <th>total</th>\n    </tr>\n  </thead>\n  <tbody>\n    <tr>\n      <th>document_1</th>\n      <td>True</td>\n      <td>True</td>\n      <td>True</td>\n      <td>False</td>\n      <td>False</td>\n      <td>True</td>\n    </tr>\n    <tr>\n      <th>document_2</th>\n      <td>True</td>\n      <td>True</td>\n      <td>False</td>\n      <td>True</td>\n      <td>True</td>\n      <td>False</td>\n    </tr>\n    <tr>\n      <th>document_3</th>\n      <td>False</td>\n      <td>False</td>\n      <td>False</td>\n      <td>False</td>\n      <td>False</td>\n      <td>False</td>\n    </tr>\n  </tbody>\n</table>\n</div>"
     },
     "execution_count": 10,
     "metadata": {},
     "output_type": "execute_result"
    }
   ],
   "source": [
    "df_4 = create_results(query_4_set, eval_query_4)\n",
    "df_4"
   ],
   "metadata": {
    "collapsed": false
   }
  }
 ],
 "metadata": {
  "kernelspec": {
   "display_name": "Python 3",
   "language": "python",
   "name": "python3"
  },
  "language_info": {
   "codemirror_mode": {
    "name": "ipython",
    "version": 2
   },
   "file_extension": ".py",
   "mimetype": "text/x-python",
   "name": "python",
   "nbconvert_exporter": "python",
   "pygments_lexer": "ipython2",
   "version": "2.7.6"
  }
 },
 "nbformat": 4,
 "nbformat_minor": 0
}
