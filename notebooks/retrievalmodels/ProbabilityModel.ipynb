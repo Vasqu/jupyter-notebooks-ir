{
 "cells": [
  {
   "cell_type": "markdown",
   "source": [
    "# Examples for the Probabilistic Model\n",
    "## Creating our example corpus and query"
   ],
   "metadata": {
    "collapsed": false
   }
  },
  {
   "cell_type": "code",
   "execution_count": 1,
   "outputs": [],
   "source": [
    "import pandas as pd"
   ],
   "metadata": {
    "collapsed": false
   }
  },
  {
   "cell_type": "code",
   "execution_count": 2,
   "outputs": [],
   "source": [
    "document_1 = ['is', 'information', 'retrieval', 'the', 'study', 'of', 'retrieving', 'documents']\n",
    "document_2 = ['documents', 'are', 'important', 'for', 'study']\n",
    "document_3 = ['this', 'is', 'a', 'filler', 'text', 'lorem', 'ipsum']\n",
    "corpus = [document_1, document_2, document_3]\n",
    "\n",
    "query = ['documents', 'study', 'of', 'filler', 'information']"
   ],
   "metadata": {
    "collapsed": false
   }
  },
  {
   "cell_type": "markdown",
   "source": [
    "Creating vectors that have information on if a term is in a document:"
   ],
   "metadata": {
    "collapsed": false
   }
  },
  {
   "cell_type": "code",
   "execution_count": 3,
   "outputs": [
    {
     "data": {
      "text/plain": "            filler  ipsum     is  lorem    the  retrieving      a   text  \\\ndocument_1   False  False   True  False   True        True  False  False   \ndocument_2   False  False  False  False  False       False  False  False   \ndocument_3    True   True   True   True  False       False   True   True   \nquery         True  False  False  False  False       False  False  False   \n\n              are  study  retrieval    for  important   this     of  \\\ndocument_1  False   True       True  False      False  False   True   \ndocument_2   True   True      False   True       True  False  False   \ndocument_3  False  False      False  False      False   True  False   \nquery       False   True      False  False      False  False   True   \n\n            information  documents  \ndocument_1         True       True  \ndocument_2        False       True  \ndocument_3        False      False  \nquery              True       True  ",
      "text/html": "<div>\n<style scoped>\n    .dataframe tbody tr th:only-of-type {\n        vertical-align: middle;\n    }\n\n    .dataframe tbody tr th {\n        vertical-align: top;\n    }\n\n    .dataframe thead th {\n        text-align: right;\n    }\n</style>\n<table border=\"1\" class=\"dataframe\">\n  <thead>\n    <tr style=\"text-align: right;\">\n      <th></th>\n      <th>filler</th>\n      <th>ipsum</th>\n      <th>is</th>\n      <th>lorem</th>\n      <th>the</th>\n      <th>retrieving</th>\n      <th>a</th>\n      <th>text</th>\n      <th>are</th>\n      <th>study</th>\n      <th>retrieval</th>\n      <th>for</th>\n      <th>important</th>\n      <th>this</th>\n      <th>of</th>\n      <th>information</th>\n      <th>documents</th>\n    </tr>\n  </thead>\n  <tbody>\n    <tr>\n      <th>document_1</th>\n      <td>False</td>\n      <td>False</td>\n      <td>True</td>\n      <td>False</td>\n      <td>True</td>\n      <td>True</td>\n      <td>False</td>\n      <td>False</td>\n      <td>False</td>\n      <td>True</td>\n      <td>True</td>\n      <td>False</td>\n      <td>False</td>\n      <td>False</td>\n      <td>True</td>\n      <td>True</td>\n      <td>True</td>\n    </tr>\n    <tr>\n      <th>document_2</th>\n      <td>False</td>\n      <td>False</td>\n      <td>False</td>\n      <td>False</td>\n      <td>False</td>\n      <td>False</td>\n      <td>False</td>\n      <td>False</td>\n      <td>True</td>\n      <td>True</td>\n      <td>False</td>\n      <td>True</td>\n      <td>True</td>\n      <td>False</td>\n      <td>False</td>\n      <td>False</td>\n      <td>True</td>\n    </tr>\n    <tr>\n      <th>document_3</th>\n      <td>True</td>\n      <td>True</td>\n      <td>True</td>\n      <td>True</td>\n      <td>False</td>\n      <td>False</td>\n      <td>True</td>\n      <td>True</td>\n      <td>False</td>\n      <td>False</td>\n      <td>False</td>\n      <td>False</td>\n      <td>False</td>\n      <td>True</td>\n      <td>False</td>\n      <td>False</td>\n      <td>False</td>\n    </tr>\n    <tr>\n      <th>query</th>\n      <td>True</td>\n      <td>False</td>\n      <td>False</td>\n      <td>False</td>\n      <td>False</td>\n      <td>False</td>\n      <td>False</td>\n      <td>False</td>\n      <td>False</td>\n      <td>True</td>\n      <td>False</td>\n      <td>False</td>\n      <td>False</td>\n      <td>False</td>\n      <td>True</td>\n      <td>True</td>\n      <td>True</td>\n    </tr>\n  </tbody>\n</table>\n</div>"
     },
     "execution_count": 3,
     "metadata": {},
     "output_type": "execute_result"
    }
   ],
   "source": [
    "def create_unique_vector(document, words):\n",
    "    return [word in document for word in words]\n",
    "\n",
    "words = document_1 + document_2 + document_3\n",
    "unique_words = set(words)\n",
    "vectors = [create_unique_vector(document, unique_words) for document in corpus] + [create_unique_vector(query, unique_words)]\n",
    "\n",
    "df_vectors = pd.DataFrame(vectors, ['document_' + str(i + 1) for i in range(len(corpus))] + ['query'], [word for word in unique_words])\n",
    "df_vectors"
   ],
   "metadata": {
    "collapsed": false
   }
  },
  {
   "cell_type": "markdown",
   "source": [
    "## Definition of necessary functions"
   ],
   "metadata": {
    "collapsed": false
   }
  },
  {
   "cell_type": "markdown",
   "source": [
    "The IDF component is defined as: $\\sum_{k_i \\in q \\wedge k_i \\in d_j} \\log{\\frac{N - n_i + 0.5}{n_i + 0.5}}$,\n",
    "where:\n",
    "- $N$ is the total number of documents in the corpus\n",
    "- $n_i$ is the amount of documents in the corpus that contain the term \"i\" at least once"
   ],
   "metadata": {
    "collapsed": false
   }
  },
  {
   "cell_type": "code",
   "execution_count": 4,
   "outputs": [],
   "source": [
    "import math\n",
    "\n",
    "def calculate_prob_idf(target, vectors):\n",
    "    query_vector = vectors[len(vectors)-1]\n",
    "    document_vectors = vectors[:len(vectors)-1]\n",
    "\n",
    "    # create respective vectors for n_i as well as the intersecting positions\n",
    "    df_vector = [sum([vector[index] > 0 for vector in document_vectors]) for index in range(len(document_vectors[0]))]\n",
    "    relevant_vector = [target[index] > 0 and query_vector[index] > 0 for index in range(len(query_vector))]\n",
    "\n",
    "    N = len(document_vectors)\n",
    "    return [calculate_partial_idf(df_vector[index], N, relevant_vector[index] > 0) for index in range(len(relevant_vector))]\n",
    "\n",
    "# only calculated when both query and document have the term\n",
    "def calculate_partial_idf(df_value, N, toAdd):\n",
    "    if not toAdd: return 0\n",
    "    return math.log((N-df_value+0.5) / (df_value + 0.5), 2)"
   ],
   "metadata": {
    "collapsed": false
   }
  },
  {
   "cell_type": "markdown",
   "source": [
    "The TF component is defined as: $B_{ij} = \\frac{(k_1 + 1) * f_{ij}}{k_1 * [(1-b) + b * \\frac{len(d_j)}{avg\\_doclen}] + f_{ij}}$,\n",
    "where:\n",
    "- $f_{ij}$ is the frequency of term \"i\" in document j\n",
    "- $k_1$ is a constant, usually in the intervall of $[1.2, 2.0]$\n",
    "- $b$ is a constant in the intervall of $[0, 1]$\n",
    "- $len(d_j)$ is the length of document j\n",
    "- $avg\\_doclen$ is the average length of a document in the corpus"
   ],
   "metadata": {
    "collapsed": false
   }
  },
  {
   "cell_type": "code",
   "execution_count": 5,
   "outputs": [],
   "source": [
    "avg_doc_len = sum([len(document) for document in corpus]) / (len(corpus))\n",
    "\n",
    "def calculate_prob_tf(k, b, document):\n",
    "    return [((k+1)*document.count(term)) / (k*((1-b) + b*(len(document)/avg_doc_len)) + document.count(term)) for term in document]"
   ],
   "metadata": {
    "collapsed": false
   }
  },
  {
   "cell_type": "markdown",
   "source": [
    "In total we get: $\\sum_{k_i \\in q \\wedge k_i \\in d_j} B_{ij} * \\log{\\frac{N - n_i + 0.5}{n_i + 0.5}}$"
   ],
   "metadata": {
    "collapsed": false
   }
  },
  {
   "cell_type": "markdown",
   "source": [
    "## Calculating the results"
   ],
   "metadata": {
    "collapsed": false
   }
  },
  {
   "cell_type": "markdown",
   "source": [
    "IDF can be used for any variation of BMXX:"
   ],
   "metadata": {
    "collapsed": false
   }
  },
  {
   "cell_type": "code",
   "execution_count": 6,
   "outputs": [],
   "source": [
    "idf_values = [calculate_prob_idf(vectors[index], vectors) for index in range(len(vectors)-1)]"
   ],
   "metadata": {
    "collapsed": false
   }
  },
  {
   "cell_type": "markdown",
   "source": [
    "### BM25 variation"
   ],
   "metadata": {
    "collapsed": false
   }
  },
  {
   "cell_type": "code",
   "execution_count": 7,
   "outputs": [
    {
     "data": {
      "text/plain": "                                                          idf  \\\ndocument_1  [0, 0, 0, 0, 0, 0, 0, 0, 0, -0.736965594166206...   \ndocument_2  [0, 0, 0, 0, 0, 0, 0, 0, 0, -0.736965594166206...   \ndocument_3  [0.7369655941662062, 0, 0, 0, 0, 0, 0, 0, 0, 0...   \n\n                                                         tf25      bm25  \ndocument_1  [1.7076326002587325, 1.7076326002587325, 1.661...  0.000000  \ndocument_2  [1.8088386433710177, 1.8088386433710177, 1.808... -2.134726  \ndocument_3  [1.6050026055237108, 1.6050026055237108, 1.605...  1.182832  ",
      "text/html": "<div>\n<style scoped>\n    .dataframe tbody tr th:only-of-type {\n        vertical-align: middle;\n    }\n\n    .dataframe tbody tr th {\n        vertical-align: top;\n    }\n\n    .dataframe thead th {\n        text-align: right;\n    }\n</style>\n<table border=\"1\" class=\"dataframe\">\n  <thead>\n    <tr style=\"text-align: right;\">\n      <th></th>\n      <th>idf</th>\n      <th>tf25</th>\n      <th>bm25</th>\n    </tr>\n  </thead>\n  <tbody>\n    <tr>\n      <th>document_1</th>\n      <td>[0, 0, 0, 0, 0, 0, 0, 0, 0, -0.736965594166206...</td>\n      <td>[1.7076326002587325, 1.7076326002587325, 1.661...</td>\n      <td>0.000000</td>\n    </tr>\n    <tr>\n      <th>document_2</th>\n      <td>[0, 0, 0, 0, 0, 0, 0, 0, 0, -0.736965594166206...</td>\n      <td>[1.8088386433710177, 1.8088386433710177, 1.808...</td>\n      <td>-2.134726</td>\n    </tr>\n    <tr>\n      <th>document_3</th>\n      <td>[0.7369655941662062, 0, 0, 0, 0, 0, 0, 0, 0, 0...</td>\n      <td>[1.6050026055237108, 1.6050026055237108, 1.605...</td>\n      <td>1.182832</td>\n    </tr>\n  </tbody>\n</table>\n</div>"
     },
     "execution_count": 7,
     "metadata": {},
     "output_type": "execute_result"
    }
   ],
   "source": [
    "# k=1.2, b=0.75\n",
    "tf_25_values = [calculate_prob_tf(1.2, 0.75, vectors[index]) for index in range(len(vectors)-1)]\n",
    "bm25 = [sum([pair[0]*pair[1] for pair in zip(idf_values[index], tf_25_values[index])]) for index in range(len(idf_values))]\n",
    "\n",
    "df_bm25 = pd.DataFrame(zip(idf_values, tf_25_values, bm25), ['document_' + str(i + 1) for i in range(len(corpus))], ['idf', 'tf25', 'bm25'])\n",
    "df_bm25"
   ],
   "metadata": {
    "collapsed": false
   }
  },
  {
   "cell_type": "markdown",
   "source": [
    "### BM15 variation"
   ],
   "metadata": {
    "collapsed": false
   }
  },
  {
   "cell_type": "code",
   "execution_count": 8,
   "outputs": [
    {
     "data": {
      "text/plain": "                                                          idf  \\\ndocument_1  [0, 0, 0, 0, 0, 0, 0, 0, 0, -0.736965594166206...   \ndocument_2  [0, 0, 0, 0, 0, 0, 0, 0, 0, -0.736965594166206...   \ndocument_3  [0.7369655941662062, 0, 0, 0, 0, 0, 0, 0, 0, 0...   \n\n                                                         tf15      bm15  \ndocument_1  [1.9411764705882355, 1.9411764705882355, 1.913...  0.000000  \ndocument_2  [2.0000000000000004, 2.0000000000000004, 2.000... -2.615039  \ndocument_3  [1.8780487804878052, 1.8780487804878052, 1.878...  1.384057  ",
      "text/html": "<div>\n<style scoped>\n    .dataframe tbody tr th:only-of-type {\n        vertical-align: middle;\n    }\n\n    .dataframe tbody tr th {\n        vertical-align: top;\n    }\n\n    .dataframe thead th {\n        text-align: right;\n    }\n</style>\n<table border=\"1\" class=\"dataframe\">\n  <thead>\n    <tr style=\"text-align: right;\">\n      <th></th>\n      <th>idf</th>\n      <th>tf15</th>\n      <th>bm15</th>\n    </tr>\n  </thead>\n  <tbody>\n    <tr>\n      <th>document_1</th>\n      <td>[0, 0, 0, 0, 0, 0, 0, 0, 0, -0.736965594166206...</td>\n      <td>[1.9411764705882355, 1.9411764705882355, 1.913...</td>\n      <td>0.000000</td>\n    </tr>\n    <tr>\n      <th>document_2</th>\n      <td>[0, 0, 0, 0, 0, 0, 0, 0, 0, -0.736965594166206...</td>\n      <td>[2.0000000000000004, 2.0000000000000004, 2.000...</td>\n      <td>-2.615039</td>\n    </tr>\n    <tr>\n      <th>document_3</th>\n      <td>[0.7369655941662062, 0, 0, 0, 0, 0, 0, 0, 0, 0...</td>\n      <td>[1.8780487804878052, 1.8780487804878052, 1.878...</td>\n      <td>1.384057</td>\n    </tr>\n  </tbody>\n</table>\n</div>"
     },
     "execution_count": 8,
     "metadata": {},
     "output_type": "execute_result"
    }
   ],
   "source": [
    "# k=1.2, b=0\n",
    "tf_15_values = [calculate_prob_tf(1.2, 0, vectors[index]) for index in range(len(vectors)-1)]\n",
    "bm15 = [sum([pair[0]*pair[1] for pair in zip(idf_values[index], tf_15_values[index])]) for index in range(len(idf_values))]\n",
    "\n",
    "df_bm15 = pd.DataFrame(zip(idf_values, tf_15_values, bm15), ['document_' + str(i + 1) for i in range(len(corpus))], ['idf', 'tf15', 'bm15'])\n",
    "df_bm15"
   ],
   "metadata": {
    "collapsed": false
   }
  },
  {
   "cell_type": "markdown",
   "source": [
    "### BM11 variation"
   ],
   "metadata": {
    "collapsed": false
   }
  },
  {
   "cell_type": "code",
   "execution_count": 9,
   "outputs": [
    {
     "data": {
      "text/plain": "                                                          idf  \\\ndocument_1  [0, 0, 0, 0, 0, 0, 0, 0, 0, -0.736965594166206...   \ndocument_2  [0, 0, 0, 0, 0, 0, 0, 0, 0, -0.736965594166206...   \ndocument_3  [0.7369655941662062, 0, 0, 0, 0, 0, 0, 0, 0, 0...   \n\n                                                         tf11      bm11  \ndocument_1  [1.6417910447761197, 1.6417910447761197, 1.591...  0.000000  \ndocument_2  [1.7529880478087652, 1.7529880478087652, 1.752... -2.011569  \ndocument_3  [1.5308151093439368, 1.5308151093439368, 1.530...  1.128158  ",
      "text/html": "<div>\n<style scoped>\n    .dataframe tbody tr th:only-of-type {\n        vertical-align: middle;\n    }\n\n    .dataframe tbody tr th {\n        vertical-align: top;\n    }\n\n    .dataframe thead th {\n        text-align: right;\n    }\n</style>\n<table border=\"1\" class=\"dataframe\">\n  <thead>\n    <tr style=\"text-align: right;\">\n      <th></th>\n      <th>idf</th>\n      <th>tf11</th>\n      <th>bm11</th>\n    </tr>\n  </thead>\n  <tbody>\n    <tr>\n      <th>document_1</th>\n      <td>[0, 0, 0, 0, 0, 0, 0, 0, 0, -0.736965594166206...</td>\n      <td>[1.6417910447761197, 1.6417910447761197, 1.591...</td>\n      <td>0.000000</td>\n    </tr>\n    <tr>\n      <th>document_2</th>\n      <td>[0, 0, 0, 0, 0, 0, 0, 0, 0, -0.736965594166206...</td>\n      <td>[1.7529880478087652, 1.7529880478087652, 1.752...</td>\n      <td>-2.011569</td>\n    </tr>\n    <tr>\n      <th>document_3</th>\n      <td>[0.7369655941662062, 0, 0, 0, 0, 0, 0, 0, 0, 0...</td>\n      <td>[1.5308151093439368, 1.5308151093439368, 1.530...</td>\n      <td>1.128158</td>\n    </tr>\n  </tbody>\n</table>\n</div>"
     },
     "execution_count": 9,
     "metadata": {},
     "output_type": "execute_result"
    }
   ],
   "source": [
    "# k=1.2, b=1\n",
    "tf_11_values = [calculate_prob_tf(1.2, 1, vectors[index]) for index in range(len(vectors)-1)]\n",
    "bm11 = [sum([pair[0]*pair[1] for pair in zip(idf_values[index], tf_11_values[index])]) for index in range(len(idf_values))]\n",
    "\n",
    "df_bm11 = pd.DataFrame(zip(idf_values, tf_11_values, bm11), ['document_' + str(i + 1) for i in range(len(corpus))], ['idf', 'tf11', 'bm11'])\n",
    "df_bm11"
   ],
   "metadata": {
    "collapsed": false
   }
  },
  {
   "cell_type": "markdown",
   "source": [
    "### BM variation with k=0"
   ],
   "metadata": {
    "collapsed": false
   }
  },
  {
   "cell_type": "code",
   "execution_count": 10,
   "outputs": [
    {
     "data": {
      "text/plain": "                                                          idf  \\\ndocument_1  [0, 0, 0, 0, 0, 0, 0, 0, 0, -0.736965594166206...   \ndocument_2  [0, 0, 0, 0, 0, 0, 0, 0, 0, -0.736965594166206...   \ndocument_3  [0.7369655941662062, 0, 0, 0, 0, 0, 0, 0, 0, 0...   \n\n                                                        tf_k0     bm_k0  \ndocument_1  [1.0, 1.0, 1.0, 1.0, 1.0, 1.0, 1.0, 1.0, 1.0, ...  0.000000  \ndocument_2  [1.0, 1.0, 1.0, 1.0, 1.0, 1.0, 1.0, 1.0, 1.0, ... -1.473931  \ndocument_3  [1.0, 1.0, 1.0, 1.0, 1.0, 1.0, 1.0, 1.0, 1.0, ...  0.736966  ",
      "text/html": "<div>\n<style scoped>\n    .dataframe tbody tr th:only-of-type {\n        vertical-align: middle;\n    }\n\n    .dataframe tbody tr th {\n        vertical-align: top;\n    }\n\n    .dataframe thead th {\n        text-align: right;\n    }\n</style>\n<table border=\"1\" class=\"dataframe\">\n  <thead>\n    <tr style=\"text-align: right;\">\n      <th></th>\n      <th>idf</th>\n      <th>tf_k0</th>\n      <th>bm_k0</th>\n    </tr>\n  </thead>\n  <tbody>\n    <tr>\n      <th>document_1</th>\n      <td>[0, 0, 0, 0, 0, 0, 0, 0, 0, -0.736965594166206...</td>\n      <td>[1.0, 1.0, 1.0, 1.0, 1.0, 1.0, 1.0, 1.0, 1.0, ...</td>\n      <td>0.000000</td>\n    </tr>\n    <tr>\n      <th>document_2</th>\n      <td>[0, 0, 0, 0, 0, 0, 0, 0, 0, -0.736965594166206...</td>\n      <td>[1.0, 1.0, 1.0, 1.0, 1.0, 1.0, 1.0, 1.0, 1.0, ...</td>\n      <td>-1.473931</td>\n    </tr>\n    <tr>\n      <th>document_3</th>\n      <td>[0.7369655941662062, 0, 0, 0, 0, 0, 0, 0, 0, 0...</td>\n      <td>[1.0, 1.0, 1.0, 1.0, 1.0, 1.0, 1.0, 1.0, 1.0, ...</td>\n      <td>0.736966</td>\n    </tr>\n  </tbody>\n</table>\n</div>"
     },
     "execution_count": 10,
     "metadata": {},
     "output_type": "execute_result"
    }
   ],
   "source": [
    "# k=0, b=0\n",
    "tf_k0_values = [calculate_prob_tf(0, 0, vectors[index]) for index in range(len(vectors)-1)]\n",
    "bm_k0 = [sum([pair[0]*pair[1] for pair in zip(idf_values[index], tf_k0_values[index])]) for index in range(len(idf_values))]\n",
    "\n",
    "df_bm_k0 = pd.DataFrame(zip(idf_values, tf_k0_values, bm_k0), ['document_' + str(i + 1) for i in range(len(corpus))], ['idf', 'tf_k0', 'bm_k0'])\n",
    "df_bm_k0"
   ],
   "metadata": {
    "collapsed": false
   }
  }
 ],
 "metadata": {
  "kernelspec": {
   "display_name": "Python 3",
   "language": "python",
   "name": "python3"
  },
  "language_info": {
   "codemirror_mode": {
    "name": "ipython",
    "version": 2
   },
   "file_extension": ".py",
   "mimetype": "text/x-python",
   "name": "python",
   "nbconvert_exporter": "python",
   "pygments_lexer": "ipython2",
   "version": "2.7.6"
  }
 },
 "nbformat": 4,
 "nbformat_minor": 0
}
