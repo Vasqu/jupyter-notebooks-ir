{
 "cells": [
  {
   "cell_type": "markdown",
   "source": [
    "# String matching examples\n",
    "## Another similarity measure"
   ],
   "metadata": {
    "collapsed": false
   }
  },
  {
   "cell_type": "markdown",
   "source": [
    "This similarity measure (which is a built-in in python) is another way to compare two strings:"
   ],
   "metadata": {
    "collapsed": false
   }
  },
  {
   "cell_type": "code",
   "execution_count": 1,
   "outputs": [],
   "source": [
    "from difflib import SequenceMatcher"
   ],
   "metadata": {
    "collapsed": false
   }
  },
  {
   "cell_type": "code",
   "execution_count": 2,
   "outputs": [],
   "source": [
    "# similar to other similarity algorithms like levenshtein but returns the similarity in % as we take the ratio\n",
    "def similar(str1, str2):\n",
    "    return round(SequenceMatcher(None, str1, str2).ratio(), 2)"
   ],
   "metadata": {
    "collapsed": false
   }
  },
  {
   "cell_type": "markdown",
   "source": [
    "A simple function to convert the result into a beautified string:"
   ],
   "metadata": {
    "collapsed": false
   }
  },
  {
   "cell_type": "code",
   "execution_count": 3,
   "outputs": [],
   "source": [
    "def stringify_sim(ratio, str1, str2):\n",
    "    # printf-ish formatting\n",
    "    return (\"Similarity between {0} and {1}: \" + str(ratio)).format(str1, str2)"
   ],
   "metadata": {
    "collapsed": false
   }
  },
  {
   "cell_type": "markdown",
   "source": [
    "A few examples:"
   ],
   "metadata": {
    "collapsed": false
   }
  },
  {
   "cell_type": "code",
   "execution_count": 4,
   "outputs": [
    {
     "name": "stdout",
     "output_type": "stream",
     "text": [
      "Similarity between retrieval and retro: 0.57\n",
      "Similarity between spam and park: 0.5\n",
      "Similarity between height and heihgt: 0.83\n"
     ]
    }
   ],
   "source": [
    "print(stringify_sim(similar(\"retrieval\", \"retro\"), \"retrieval\", \"retro\"))\n",
    "print(stringify_sim(similar(\"spam\", \"park\"), \"spam\", \"park\"))\n",
    "print(stringify_sim(similar(\"height\", \"heihgt\"), \"height\", \"heihgt\"))"
   ],
   "metadata": {
    "collapsed": false
   }
  },
  {
   "cell_type": "markdown",
   "source": [
    "## Exact string matching variations"
   ],
   "metadata": {
    "collapsed": false
   }
  },
  {
   "cell_type": "code",
   "execution_count": 5,
   "outputs": [],
   "source": [
    "import re"
   ],
   "metadata": {
    "collapsed": false
   }
  },
  {
   "cell_type": "markdown",
   "source": [
    "Function for evaluating if a string matches in the text - returns first occurrence or an error value if not found:"
   ],
   "metadata": {
    "collapsed": false
   }
  },
  {
   "cell_type": "code",
   "execution_count": 6,
   "outputs": [],
   "source": [
    "def evaluate_single_match(pattern, s):\n",
    "    match = re.search(pattern, s)\n",
    "    return (match.start(), match.end()-1) if match is not None else (-1,-1)"
   ],
   "metadata": {
    "collapsed": false
   }
  },
  {
   "cell_type": "markdown",
   "source": [
    "Function for evaluating if a string matches in the text - returns all occurrences:"
   ],
   "metadata": {
    "collapsed": false
   }
  },
  {
   "cell_type": "code",
   "execution_count": 7,
   "outputs": [],
   "source": [
    "def evaluate_all_matches(pattern_str, s):\n",
    "    pattern = re.compile(pattern_str)\n",
    "    match = pattern.search(s)\n",
    "\n",
    "    if not match: return []\n",
    "    res = []\n",
    "    while match:\n",
    "        res.append((match.start(), match.end()-1))\n",
    "        match = pattern.search(s, match.start() + 1)\n",
    "    return res"
   ],
   "metadata": {
    "collapsed": false
   }
  },
  {
   "cell_type": "markdown",
   "source": [
    "Function for evaluating if any string in a set matches in the text - returns all occurrences with their respective word:"
   ],
   "metadata": {
    "collapsed": false
   }
  },
  {
   "cell_type": "code",
   "execution_count": 8,
   "outputs": [],
   "source": [
    "def evaluate_all_on_sets(set_of_words, s):\n",
    "    res = []\n",
    "    for word in set_of_words:\n",
    "        res = res + [(match, word) for match in evaluate_all_matches(word, s)]\n",
    "\n",
    "    return res"
   ],
   "metadata": {
    "collapsed": false
   }
  },
  {
   "cell_type": "markdown",
   "source": [
    "A few examples:"
   ],
   "metadata": {
    "collapsed": false
   }
  },
  {
   "cell_type": "code",
   "execution_count": 9,
   "outputs": [],
   "source": [
    "first_text = \"This is an example text.\"\n",
    "second_text = \"I'd like an apple (guess I'm hungry...).\""
   ],
   "metadata": {
    "collapsed": false
   }
  },
  {
   "cell_type": "markdown",
   "source": [
    "- Single match:"
   ],
   "metadata": {
    "collapsed": false
   }
  },
  {
   "cell_type": "code",
   "execution_count": 10,
   "outputs": [
    {
     "name": "stdout",
     "output_type": "stream",
     "text": [
      "(-1, -1)\n",
      "(12, 16)\n"
     ]
    }
   ],
   "source": [
    "print(evaluate_single_match(\"apple\", first_text))\n",
    "print(evaluate_single_match(\"apple\", second_text))"
   ],
   "metadata": {
    "collapsed": false
   }
  },
  {
   "cell_type": "markdown",
   "source": [
    "- All matches:"
   ],
   "metadata": {
    "collapsed": false
   }
  },
  {
   "cell_type": "code",
   "execution_count": 11,
   "outputs": [
    {
     "name": "stdout",
     "output_type": "stream",
     "text": [
      "[]\n",
      "[(0, 0), (25, 25)]\n"
     ]
    }
   ],
   "source": [
    "print(evaluate_all_matches(\"I\", first_text))\n",
    "print(evaluate_all_matches(\"I\", second_text))"
   ],
   "metadata": {
    "collapsed": false
   }
  },
  {
   "cell_type": "markdown",
   "source": [
    "- All matches on set:"
   ],
   "metadata": {
    "collapsed": false
   }
  },
  {
   "cell_type": "code",
   "execution_count": 12,
   "outputs": [
    {
     "name": "stdout",
     "output_type": "stream",
     "text": [
      "[((8, 9), 'an'), ((11, 17), 'example')]\n",
      "[((9, 10), 'an'), ((0, 0), 'I'), ((25, 25), 'I')]\n"
     ]
    }
   ],
   "source": [
    "print(evaluate_all_on_sets({\"I\", \"an\", \"example\"}, first_text))\n",
    "print(evaluate_all_on_sets({\"I\", \"an\", \"example\"}, second_text))"
   ],
   "metadata": {
    "collapsed": false
   }
  },
  {
   "cell_type": "markdown",
   "source": [
    "## Regex string matching"
   ],
   "metadata": {
    "collapsed": false
   }
  },
  {
   "cell_type": "markdown",
   "source": [
    "All regex algorithms are built-in in python via the \"re\" library. Thus, only a small function is defined to use the library appropriately:"
   ],
   "metadata": {
    "collapsed": false
   }
  },
  {
   "cell_type": "code",
   "execution_count": 13,
   "outputs": [],
   "source": [
    "# own findall function for simplicity\n",
    "def findall_regex(regex, text):\n",
    "    return [x.group(0) for x in re.finditer(regex, text)]"
   ],
   "metadata": {
    "collapsed": false
   }
  },
  {
   "cell_type": "markdown",
   "source": [
    "A few regex examples on the wikipedia introduction text on information retrieval:"
   ],
   "metadata": {
    "collapsed": false
   }
  },
  {
   "cell_type": "code",
   "execution_count": 14,
   "outputs": [
    {
     "name": "stdout",
     "output_type": "stream",
     "text": [
      "Information retrieval (IR) in computing and information science is the process of obtaining information system resources that are relevant to an information need from a collection of those resources. Searches can be based on full-text or other content-based indexing. Information retrieval is the science of searching for information in a document, searching for documents themselves, and also searching for the metadata that describes data, and for databases of texts, images or sounds.\n",
      "\n",
      "Automated information retrieval systems are used to reduce what has been called information overload. An IR system is a software system that provides\n",
      "access to books, journals and other documents; stores and manages those documents. Web search engines are the most visible IR applications.\n"
     ]
    }
   ],
   "source": [
    "wiki_ir_intro = \"\"\"Information retrieval (IR) in computing and information science is the process of obtaining information system resources that are relevant to an information need from a collection of those resources. Searches can be based on full-text or other content-based indexing. Information retrieval is the science of searching for information in a document, searching for documents themselves, and also searching for the metadata that describes data, and for databases of texts, images or sounds.\n",
    "\n",
    "Automated information retrieval systems are used to reduce what has been called information overload. An IR system is a software system that provides\n",
    "access to books, journals and other documents; stores and manages those documents. Web search engines are the most visible IR applications.\"\"\"\n",
    "\n",
    "print(wiki_ir_intro)"
   ],
   "metadata": {
    "collapsed": false
   }
  },
  {
   "cell_type": "markdown",
   "source": [
    "Match all words:"
   ],
   "metadata": {
    "collapsed": false
   }
  },
  {
   "cell_type": "code",
   "execution_count": 15,
   "outputs": [
    {
     "name": "stdout",
     "output_type": "stream",
     "text": [
      "['Information', 'retrieval', 'IR', 'in', 'computing', 'and', 'information', 'science', 'is', 'the', 'process', 'of', 'obtaining', 'information', 'system', 'resources', 'that', 'are', 'relevant', 'to', 'an', 'information', 'need', 'from', 'a', 'collection', 'of', 'those', 'resources', 'Searches', 'can', 'be', 'based', 'on', 'full-text', 'or', 'other', 'content-based', 'indexing', 'Information', 'retrieval', 'is', 'the', 'science', 'of', 'searching', 'for', 'information', 'in', 'a', 'document', 'searching', 'for', 'documents', 'themselves', 'and', 'also', 'searching', 'for', 'the', 'metadata', 'that', 'describes', 'data', 'and', 'for', 'databases', 'of', 'texts', 'images', 'or', 'sounds', 'Automated', 'information', 'retrieval', 'systems', 'are', 'used', 'to', 'reduce', 'what', 'has', 'been', 'called', 'information', 'overload', 'An', 'IR', 'system', 'is', 'a', 'software', 'system', 'that', 'provides', 'access', 'to', 'books', 'journals', 'and', 'other', 'documents', 'stores', 'and', 'manages', 'those', 'documents', 'Web', 'search', 'engines', 'are', 'the', 'most', 'visible', 'IR', 'applications']\n"
     ]
    }
   ],
   "source": [
    "words_regex = \"[a-zA-Z]+(-[a-zA-Z]+)?\"\n",
    "\n",
    "print(findall_regex(words_regex, wiki_ir_intro))"
   ],
   "metadata": {
    "collapsed": false
   }
  },
  {
   "cell_type": "markdown",
   "source": [
    "Match all words starting with i/I:"
   ],
   "metadata": {
    "collapsed": false
   }
  },
  {
   "cell_type": "code",
   "execution_count": 16,
   "outputs": [
    {
     "name": "stdout",
     "output_type": "stream",
     "text": [
      "['in', 'information', 'is', 'information', 'information', 'indexing', 'Information', 'is', 'information', 'in', 'images', 'information', 'information', 'IR', 'is', 'IR']\n"
     ]
    }
   ],
   "source": [
    "words_with_i_regex = \"(?<=\\s)(i|I)[a-zA-Z]+\"\n",
    "\n",
    "print(findall_regex(words_with_i_regex, wiki_ir_intro))"
   ],
   "metadata": {
    "collapsed": false
   }
  },
  {
   "cell_type": "markdown",
   "source": [
    "Match all hyphens:"
   ],
   "metadata": {
    "collapsed": false
   }
  },
  {
   "cell_type": "code",
   "execution_count": 17,
   "outputs": [
    {
     "name": "stdout",
     "output_type": "stream",
     "text": [
      "['full-text', 'content-based']\n"
     ]
    }
   ],
   "source": [
    "hyphen_regex = \"[a-zA-Z]+-[a-zA-Z]+\"\n",
    "\n",
    "print(findall_regex(hyphen_regex, wiki_ir_intro))"
   ],
   "metadata": {
    "collapsed": false
   }
  },
  {
   "cell_type": "markdown",
   "source": [
    "Match all sentences:"
   ],
   "metadata": {
    "collapsed": false
   }
  },
  {
   "cell_type": "code",
   "execution_count": 18,
   "outputs": [
    {
     "name": "stdout",
     "output_type": "stream",
     "text": [
      "['Information retrieval (IR) in computing and information science is the process of obtaining information system resources that are relevant to an information need from a collection of those resources.', 'Searches can be based on full-text or other content-based indexing.', 'Information retrieval is the science of searching for information in a document, searching for documents themselves, and also searching for the metadata that describes data, and for databases of texts, images or sounds.', 'Automated information retrieval systems are used to reduce what has been called information overload.', 'An IR system is a software system that provides\\naccess to books, journals and other documents; stores and manages those documents.', 'Web search engines are the most visible IR applications.']\n"
     ]
    }
   ],
   "source": [
    "sentence_regex = r'[^\\s](.|\\s)*?\\.'\n",
    "\n",
    "print(findall_regex(sentence_regex, wiki_ir_intro))"
   ],
   "metadata": {
    "collapsed": false
   }
  }
 ],
 "metadata": {
  "kernelspec": {
   "display_name": "Python 3",
   "language": "python",
   "name": "python3"
  },
  "language_info": {
   "codemirror_mode": {
    "name": "ipython",
    "version": 2
   },
   "file_extension": ".py",
   "mimetype": "text/x-python",
   "name": "python",
   "nbconvert_exporter": "python",
   "pygments_lexer": "ipython2",
   "version": "2.7.6"
  }
 },
 "nbformat": 4,
 "nbformat_minor": 0
}
