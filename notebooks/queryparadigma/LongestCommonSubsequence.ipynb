{
 "cells": [
  {
   "cell_type": "markdown",
   "source": [
    "# Longest Common Subsequence\n",
    "## Own simple implementation"
   ],
   "metadata": {
    "collapsed": false
   }
  },
  {
   "cell_type": "markdown",
   "source": [
    "First a simple base implementation of longest common subsequence that only finds one possile sequence:"
   ],
   "metadata": {
    "collapsed": false
   }
  },
  {
   "cell_type": "code",
   "execution_count": 1,
   "outputs": [],
   "source": [
    "# dynamic programming variation to find one sequence\n",
    "def longest_common_subsequenceDP(str1, str2):\n",
    "    # base case automatically included where both have nothing in common\n",
    "    matrix = [[\"\" for x in range(len(str2))] for x in range(len(str1))]\n",
    "\n",
    "    for i in range(len(str1)):\n",
    "        for j in range(len(str2)):\n",
    "            # common\n",
    "            if str1[i] == str2[j]:\n",
    "                # we basically take the char as results\n",
    "                if i == 0 or j == 0:\n",
    "                    matrix[i][j] = str1[i]\n",
    "                # we add the char to our result up to this point\n",
    "                else:\n",
    "                    matrix[i][j] = matrix[i-1][j-1] + str1[i]\n",
    "            # not in common\n",
    "            else:\n",
    "                # take the longest sequence up to this point\n",
    "                matrix[i][j] = max(matrix[i-1][j], matrix[i][j-1], key=len)\n",
    "\n",
    "    # resulting sequence\n",
    "    return matrix[-1][-1]"
   ],
   "metadata": {
    "collapsed": false
   }
  },
  {
   "cell_type": "markdown",
   "source": [
    "A simple function to convert the result into a beautified string:"
   ],
   "metadata": {
    "collapsed": false
   }
  },
  {
   "cell_type": "code",
   "execution_count": 2,
   "outputs": [],
   "source": [
    "def stringify_lcs(sequence, str1, str2):\n",
    "    # printf-ish formatting\n",
    "    return (\"Longest common subsequence of {0} and {1}: \\\"\" + sequence + \"\\\"; length of sequence: \" + str(len(sequence))).format(str1, str2)"
   ],
   "metadata": {
    "collapsed": false
   }
  },
  {
   "cell_type": "markdown",
   "source": [
    "A few examples:"
   ],
   "metadata": {
    "collapsed": false
   }
  },
  {
   "cell_type": "code",
   "execution_count": 3,
   "outputs": [
    {
     "name": "stdout",
     "output_type": "stream",
     "text": [
      "Longest common subsequence of misspelled and misinterpretted: \"mispeed\"; length of sequence: 7\n"
     ]
    }
   ],
   "source": [
    "sequence = longest_common_subsequenceDP(\"misspelled\", \"misinterpretted\")\n",
    "\n",
    "print(stringify_lcs(sequence, \"misspelled\", \"misinterpretted\"))"
   ],
   "metadata": {
    "collapsed": false
   }
  },
  {
   "cell_type": "code",
   "execution_count": 4,
   "outputs": [
    {
     "name": "stdout",
     "output_type": "stream",
     "text": [
      "Longest common subsequence of xBCDxFGxxxKLMx and aBCDeFGhijKLMn: \"BCDFGKLM\"; length of sequence: 8\n"
     ]
    }
   ],
   "source": [
    "sequence = longest_common_subsequenceDP(\"xBCDxFGxxxKLMx\", \"aBCDeFGhijKLMn\")\n",
    "\n",
    "print(stringify_lcs(sequence, \"xBCDxFGxxxKLMx\", \"aBCDeFGhijKLMn\"))"
   ],
   "metadata": {
    "collapsed": false
   }
  },
  {
   "cell_type": "code",
   "execution_count": 5,
   "outputs": [
    {
     "name": "stdout",
     "output_type": "stream",
     "text": [
      "Longest common subsequence of information and retrieval: \"rti\"; length of sequence: 3\n"
     ]
    }
   ],
   "source": [
    "sequence = longest_common_subsequenceDP(\"information\", \"retrieval\")\n",
    "\n",
    "print(stringify_lcs(sequence, \"information\", \"retrieval\"))"
   ],
   "metadata": {
    "collapsed": false
   }
  },
  {
   "cell_type": "markdown",
   "source": [
    "## Library implementation"
   ],
   "metadata": {
    "collapsed": false
   }
  },
  {
   "cell_type": "markdown",
   "source": [
    "For the same examples as above we compose the longest common subsequence:"
   ],
   "metadata": {
    "collapsed": false
   }
  },
  {
   "cell_type": "code",
   "execution_count": 6,
   "outputs": [],
   "source": [
    "import pylcs"
   ],
   "metadata": {
    "collapsed": false
   }
  },
  {
   "cell_type": "code",
   "execution_count": 7,
   "outputs": [
    {
     "name": "stdout",
     "output_type": "stream",
     "text": [
      "Longest common subsequence of misspelled and misinterpretted: \"mispeed\"; length of sequence: 7\n"
     ]
    }
   ],
   "source": [
    "str1 = \"misspelled\"\n",
    "str2 = \"misinterpretted\"\n",
    "\n",
    "indexes_to_keep = pylcs.lcs_sequence_idx(str1, str2)\n",
    "sequence = ''.join([str2[i] for i in indexes_to_keep if i != -1])\n",
    "\n",
    "print(stringify_lcs(sequence, str1, str2))"
   ],
   "metadata": {
    "collapsed": false
   }
  },
  {
   "cell_type": "code",
   "execution_count": 8,
   "outputs": [
    {
     "name": "stdout",
     "output_type": "stream",
     "text": [
      "Longest common subsequence of xBCDxFGxxxKLMx and aBCDeFGhijKLMn: \"BCDFGKLM\"; length of sequence: 8\n"
     ]
    }
   ],
   "source": [
    "str1 = \"xBCDxFGxxxKLMx\"\n",
    "str2 = \"aBCDeFGhijKLMn\"\n",
    "\n",
    "indexes_to_keep = pylcs.lcs_sequence_idx(str1, str2)\n",
    "sequence = ''.join([str2[i] for i in indexes_to_keep if i != -1])\n",
    "\n",
    "print(stringify_lcs(sequence, str1, str2))"
   ],
   "metadata": {
    "collapsed": false
   }
  },
  {
   "cell_type": "code",
   "execution_count": 9,
   "outputs": [
    {
     "name": "stdout",
     "output_type": "stream",
     "text": [
      "Longest common subsequence of information and retrieval: \"rti\"; length of sequence: 3\n"
     ]
    }
   ],
   "source": [
    "str1 = \"information\"\n",
    "str2 = \"retrieval\"\n",
    "\n",
    "indexes_to_keep = pylcs.lcs_sequence_idx(str1, str2)\n",
    "sequence = ''.join([str2[i] for i in indexes_to_keep if i != -1])\n",
    "\n",
    "print(stringify_lcs(sequence, str1, str2))"
   ],
   "metadata": {
    "collapsed": false
   }
  },
  {
   "cell_type": "markdown",
   "source": [
    "In case, only the length of the sequence is wanted the library provides another function:"
   ],
   "metadata": {
    "collapsed": false
   }
  },
  {
   "cell_type": "code",
   "execution_count": 10,
   "outputs": [
    {
     "name": "stdout",
     "output_type": "stream",
     "text": [
      "7\n"
     ]
    }
   ],
   "source": [
    "str1 = \"misspelled\"\n",
    "str2 = \"misinterpretted\"\n",
    "\n",
    "lcs_length = pylcs.lcs_sequence_length(str1, str2)\n",
    "\n",
    "print(lcs_length)"
   ],
   "metadata": {
    "collapsed": false
   }
  }
 ],
 "metadata": {
  "kernelspec": {
   "display_name": "Python 3",
   "language": "python",
   "name": "python3"
  },
  "language_info": {
   "codemirror_mode": {
    "name": "ipython",
    "version": 2
   },
   "file_extension": ".py",
   "mimetype": "text/x-python",
   "name": "python",
   "nbconvert_exporter": "python",
   "pygments_lexer": "ipython2",
   "version": "2.7.6"
  }
 },
 "nbformat": 4,
 "nbformat_minor": 0
}
