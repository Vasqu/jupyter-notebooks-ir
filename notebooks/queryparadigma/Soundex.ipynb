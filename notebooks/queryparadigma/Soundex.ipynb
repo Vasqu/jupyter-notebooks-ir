{
 "cells": [
  {
   "cell_type": "markdown",
   "source": [
    "# Soundex\n",
    "## Own simple Implementation"
   ],
   "metadata": {
    "collapsed": false
   }
  },
  {
   "cell_type": "markdown",
   "source": [
    "The base implementation according to the lecture:"
   ],
   "metadata": {
    "collapsed": false
   }
  },
  {
   "cell_type": "code",
   "execution_count": 1,
   "outputs": [],
   "source": [
    "def soundex(str_to_convert : str):\n",
    "    # case insensitive\n",
    "    str_to_convert = str_to_convert.lower()\n",
    "\n",
    "    # save first char for later\n",
    "    first_char = str_to_convert[0]\n",
    "    str_to_convert = str_to_convert[:0] + str_to_convert[1:]\n",
    "\n",
    "    # remove vowels and the other unnecessary steps ~steps 1 and 2\n",
    "    str_to_convert = str_to_convert.replace(\"a\", \"\")\\\n",
    "                        .replace(\"e\", \"\")\\\n",
    "                        .replace(\"i\", \"\")\\\n",
    "                        .replace(\"o\", \"\")\\\n",
    "                        .replace(\"u\", \"\")\\\n",
    "                        .replace(\"y\", \"\")\\\n",
    "                        .replace(\"h\", \"\")\\\n",
    "                        .replace(\"w\", \"\")\\\n",
    "                        .strip()\n",
    "\n",
    "    # convert the letters to their equivalent digit ~step 1\n",
    "    str_to_convert = str_to_convert.replace(\"b\", \"1\")\\\n",
    "                        .replace(\"f\", \"1\")\\\n",
    "                        .replace(\"p\", \"1\")\\\n",
    "                        .replace(\"v\", \"1\")\\\n",
    "                        .replace(\"c\", \"2\")\\\n",
    "                        .replace(\"g\", \"2\")\\\n",
    "                        .replace(\"j\", \"2\")\\\n",
    "                        .replace(\"k\", \"2\")\\\n",
    "                        .replace(\"q\", \"2\")\\\n",
    "                        .replace(\"s\", \"2\")\\\n",
    "                        .replace(\"x\", \"2\")\\\n",
    "                        .replace(\"z\", \"2\")\\\n",
    "                        .replace(\"d\", \"3\")\\\n",
    "                        .replace(\"t\", \"3\")\\\n",
    "                        .replace(\"l\", \"4\")\\\n",
    "                        .replace(\"m\", \"5\")\\\n",
    "                        .replace(\"n\", \"5\")\\\n",
    "                        .replace(\"r\", \"6\")\\\n",
    "                        .strip()\n",
    "\n",
    "    # reducing all in succession occurring digits ~step 3\n",
    "    while True:\n",
    "        succession_found = False\n",
    "        for i in range(len(str_to_convert)-1):\n",
    "            # succession found?\n",
    "            if str_to_convert[i] == str_to_convert[i+1]:\n",
    "                # remove char at index i\n",
    "                str_to_convert = str_to_convert[:i] + str_to_convert[i+1:]\n",
    "                succession_found = True\n",
    "                # break as the range is not valid anymore\n",
    "                break\n",
    "\n",
    "        if not succession_found:\n",
    "            break\n",
    "\n",
    "    # add the first character back and reduce to 4 digits ~step 1 and 4\n",
    "    return str(first_char.upper()) + str_to_convert[:3]"
   ],
   "metadata": {
    "collapsed": false
   }
  },
  {
   "cell_type": "markdown",
   "source": [
    "A few examples:"
   ],
   "metadata": {
    "collapsed": false
   }
  },
  {
   "cell_type": "markdown",
   "source": [
    "- We get the wanted result as those names are practically the same."
   ],
   "metadata": {
    "collapsed": false
   }
  },
  {
   "cell_type": "code",
   "execution_count": 2,
   "outputs": [
    {
     "name": "stdout",
     "output_type": "stream",
     "text": [
      "Fairdale => F634\n",
      "Faredale => F634\n"
     ]
    }
   ],
   "source": [
    "print(\"Fairdale => \" + soundex(\"Fairdale\"))\n",
    "print(\"Faredale => \" + soundex(\"Faredale\"))"
   ],
   "metadata": {
    "collapsed": false
   }
  },
  {
   "cell_type": "markdown",
   "source": [
    "- We get a false result as the other spelling variation results in a different result."
   ],
   "metadata": {
    "collapsed": false
   }
  },
  {
   "cell_type": "code",
   "execution_count": 3,
   "outputs": [
    {
     "name": "stdout",
     "output_type": "stream",
     "text": [
      "Rodgers => R326\n",
      "Rodgers => R262\n"
     ]
    }
   ],
   "source": [
    "print(\"Rodgers => \" + soundex(\"Rodgers\"))\n",
    "print(\"Rodgers => \" + soundex(\"Rogers\"))"
   ],
   "metadata": {
    "collapsed": false
   }
  },
  {
   "cell_type": "markdown",
   "source": [
    "- Completely different words lead to different results (as expected)."
   ],
   "metadata": {
    "collapsed": false
   }
  },
  {
   "cell_type": "code",
   "execution_count": 4,
   "outputs": [
    {
     "name": "stdout",
     "output_type": "stream",
     "text": [
      "Smith => S53\n",
      "MacDonald => M235\n"
     ]
    }
   ],
   "source": [
    "print(\"Smith => \" + soundex(\"Smith\"))\n",
    "print(\"MacDonald => \" + soundex(\"MacDonald\"))"
   ],
   "metadata": {
    "collapsed": false
   }
  },
  {
   "cell_type": "markdown",
   "source": [
    "## Library implementation"
   ],
   "metadata": {
    "collapsed": false
   }
  },
  {
   "cell_type": "markdown",
   "source": [
    "We use for the same examples a library instead of our own implementation:"
   ],
   "metadata": {
    "collapsed": false
   }
  },
  {
   "cell_type": "code",
   "execution_count": 5,
   "outputs": [],
   "source": [
    "from jellyfish import soundex as sx"
   ],
   "metadata": {
    "collapsed": false
   }
  },
  {
   "cell_type": "code",
   "execution_count": 6,
   "outputs": [
    {
     "name": "stdout",
     "output_type": "stream",
     "text": [
      "Fairdale => F634\n",
      "Faredale => F634\n"
     ]
    }
   ],
   "source": [
    "print(\"Fairdale => \" + sx(\"Fairdale\"))\n",
    "print(\"Faredale => \" + sx(\"Faredale\"))"
   ],
   "metadata": {
    "collapsed": false
   }
  },
  {
   "cell_type": "code",
   "execution_count": 7,
   "outputs": [
    {
     "name": "stdout",
     "output_type": "stream",
     "text": [
      "Rodgers => R326\n",
      "Rodgers => R262\n"
     ]
    }
   ],
   "source": [
    "print(\"Rodgers => \" + soundex(\"Rodgers\"))\n",
    "print(\"Rodgers => \" + soundex(\"Rogers\"))"
   ],
   "metadata": {
    "collapsed": false
   }
  },
  {
   "cell_type": "code",
   "execution_count": 8,
   "outputs": [
    {
     "name": "stdout",
     "output_type": "stream",
     "text": [
      "Smith => S53\n",
      "MacDonald => M235\n"
     ]
    }
   ],
   "source": [
    "print(\"Smith => \" + soundex(\"Smith\"))\n",
    "print(\"MacDonald => \" + soundex(\"MacDonald\"))"
   ],
   "metadata": {
    "collapsed": false
   }
  }
 ],
 "metadata": {
  "kernelspec": {
   "display_name": "Python 3",
   "language": "python",
   "name": "python3"
  },
  "language_info": {
   "codemirror_mode": {
    "name": "ipython",
    "version": 2
   },
   "file_extension": ".py",
   "mimetype": "text/x-python",
   "name": "python",
   "nbconvert_exporter": "python",
   "pygments_lexer": "ipython2",
   "version": "2.7.6"
  }
 },
 "nbformat": 4,
 "nbformat_minor": 0
}
