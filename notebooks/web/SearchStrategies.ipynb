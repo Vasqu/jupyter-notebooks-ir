{
 "cells": [
  {
   "cell_type": "markdown",
   "source": [
    "# Search Strategies"
   ],
   "metadata": {
    "collapsed": false
   }
  },
  {
   "cell_type": "markdown",
   "source": [
    "## Example graph"
   ],
   "metadata": {
    "collapsed": false
   }
  },
  {
   "cell_type": "markdown",
   "source": [
    "<img src=\"./figures/graph.png\" width=550 height=480 />"
   ],
   "metadata": {
    "collapsed": false
   }
  },
  {
   "cell_type": "code",
   "execution_count": 1,
   "outputs": [],
   "source": [
    "import queue as q"
   ],
   "metadata": {
    "collapsed": false
   }
  },
  {
   "cell_type": "code",
   "execution_count": 2,
   "outputs": [],
   "source": [
    "graph = {\n",
    "    # define 0 as root marker\n",
    "    0 : [1],\n",
    "    1 : [3, 5],\n",
    "    2 : [],\n",
    "    3 : [9, 7],\n",
    "    4 : [6],\n",
    "    5 : [10,11],\n",
    "    6 : [8],\n",
    "    7 : [],\n",
    "    8 : [],\n",
    "    9 : [12],\n",
    "    10: [],\n",
    "    11: [4,2],\n",
    "    12: []\n",
    "}"
   ],
   "metadata": {
    "collapsed": false
   }
  },
  {
   "cell_type": "markdown",
   "source": [
    "### Breadth first search"
   ],
   "metadata": {
    "collapsed": false
   }
  },
  {
   "cell_type": "code",
   "execution_count": 3,
   "outputs": [],
   "source": [
    "def bfs_queue(graph):\n",
    "    result = []\n",
    "\n",
    "    # fifo queue (first in, first out)\n",
    "    queue = q.Queue()\n",
    "    visited = []\n",
    "    root = graph.get(0)[0]\n",
    "\n",
    "    visited.append(root)\n",
    "    queue.put(root)\n",
    "\n",
    "    while not queue.empty():\n",
    "        current_node = queue.get()\n",
    "        result.append(current_node)\n",
    "\n",
    "        for neighbour in graph[current_node]:\n",
    "            if neighbour not in visited:\n",
    "                visited.append(neighbour)\n",
    "                queue.put(neighbour)\n",
    "\n",
    "    return result"
   ],
   "metadata": {
    "collapsed": false
   }
  },
  {
   "cell_type": "code",
   "execution_count": 4,
   "outputs": [
    {
     "name": "stdout",
     "output_type": "stream",
     "text": [
      "[1, 3, 5, 9, 7, 10, 11, 12, 4, 2, 6, 8]\n"
     ]
    }
   ],
   "source": [
    "res = bfs_queue(graph)\n",
    "\n",
    "print(res)"
   ],
   "metadata": {
    "collapsed": false
   }
  },
  {
   "cell_type": "markdown",
   "source": [
    "### Depth first search"
   ],
   "metadata": {
    "collapsed": false
   }
  },
  {
   "cell_type": "markdown",
   "source": [
    "This variant is often seen in literature (but applies dfs mirrored to how we are used to it ~ \"from right to left\")"
   ],
   "metadata": {
    "collapsed": false
   }
  },
  {
   "cell_type": "code",
   "execution_count": 5,
   "outputs": [],
   "source": [
    "def dfs_queue(graph):\n",
    "    result = []\n",
    "\n",
    "    # lifo queue (last in, first out)\n",
    "    queue = q.LifoQueue()\n",
    "    visited = []\n",
    "    root = graph.get(0)[0]\n",
    "\n",
    "    visited.append(root)\n",
    "    queue.put(root)\n",
    "\n",
    "    while not queue.empty():\n",
    "        current_node = queue.get()\n",
    "        result.append(current_node)\n",
    "\n",
    "        for neighbour in graph[current_node]:\n",
    "            if neighbour not in visited:\n",
    "                visited.append(neighbour)\n",
    "                queue.put(neighbour)\n",
    "\n",
    "    return result"
   ],
   "metadata": {
    "collapsed": false
   }
  },
  {
   "cell_type": "code",
   "execution_count": 6,
   "outputs": [
    {
     "name": "stdout",
     "output_type": "stream",
     "text": [
      "[1, 5, 11, 2, 4, 6, 8, 10, 3, 7, 9, 12]\n"
     ]
    }
   ],
   "source": [
    "res = dfs_queue(graph)\n",
    "\n",
    "print(res)"
   ],
   "metadata": {
    "collapsed": false
   }
  },
  {
   "cell_type": "markdown",
   "source": [
    "Recursive variant (dfs \"from left to right\"):"
   ],
   "metadata": {
    "collapsed": false
   }
  },
  {
   "cell_type": "code",
   "execution_count": 7,
   "outputs": [],
   "source": [
    "def dfs_recursive(graph):\n",
    "    result = []\n",
    "    dfs_helper(graph, graph.get(0)[0], set(), result)\n",
    "    return result\n",
    "\n",
    "def dfs_helper(graph, node, visited, result):\n",
    "    if node not in visited:\n",
    "        result.append(node)\n",
    "        visited.add(node)\n",
    "        for neighbour in graph[node]:\n",
    "            dfs_helper(graph, neighbour, visited, result)"
   ],
   "metadata": {
    "collapsed": false
   }
  },
  {
   "cell_type": "code",
   "execution_count": 8,
   "outputs": [
    {
     "name": "stdout",
     "output_type": "stream",
     "text": [
      "[1, 3, 9, 12, 7, 5, 10, 11, 4, 6, 8, 2]\n"
     ]
    }
   ],
   "source": [
    "res = dfs_recursive(graph)\n",
    "\n",
    "print(res)"
   ],
   "metadata": {
    "collapsed": false
   }
  },
  {
   "cell_type": "markdown",
   "source": [
    "### Priority first search"
   ],
   "metadata": {
    "collapsed": false
   }
  },
  {
   "cell_type": "markdown",
   "source": [
    "This variant compares by items values which is the order of the numbers in this case, e.g. 1 > 2 > 3 > .. > n\n",
    "(custom comparators are possible but need a custom implementation):"
   ],
   "metadata": {
    "collapsed": false
   }
  },
  {
   "cell_type": "code",
   "execution_count": 9,
   "outputs": [],
   "source": [
    "def pfs_queue(graph):\n",
    "    result = []\n",
    "\n",
    "    queue = q.PriorityQueue()\n",
    "    visited = []\n",
    "    root = graph.get(0)[0]\n",
    "\n",
    "    visited.append(root)\n",
    "    queue.put(root)\n",
    "\n",
    "    while not queue.empty():\n",
    "        current_node = queue.get()\n",
    "        result.append(current_node)\n",
    "\n",
    "        for neighbour in graph[current_node]:\n",
    "            if neighbour not in visited:\n",
    "                visited.append(neighbour)\n",
    "                queue.put(neighbour)\n",
    "\n",
    "    return result"
   ],
   "metadata": {
    "collapsed": false
   }
  },
  {
   "cell_type": "code",
   "execution_count": 10,
   "outputs": [
    {
     "name": "stdout",
     "output_type": "stream",
     "text": [
      "[1, 3, 5, 7, 9, 10, 11, 2, 4, 6, 8, 12]\n"
     ]
    }
   ],
   "source": [
    "res = pfs_queue(graph)\n",
    "\n",
    "print(res)"
   ],
   "metadata": {
    "collapsed": false
   }
  }
 ],
 "metadata": {
  "kernelspec": {
   "display_name": "Python 3",
   "language": "python",
   "name": "python3"
  },
  "language_info": {
   "codemirror_mode": {
    "name": "ipython",
    "version": 2
   },
   "file_extension": ".py",
   "mimetype": "text/x-python",
   "name": "python",
   "nbconvert_exporter": "python",
   "pygments_lexer": "ipython2",
   "version": "2.7.6"
  }
 },
 "nbformat": 4,
 "nbformat_minor": 0
}
