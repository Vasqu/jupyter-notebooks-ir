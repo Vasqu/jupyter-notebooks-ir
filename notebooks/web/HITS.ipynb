{
 "cells": [
  {
   "cell_type": "markdown",
   "source": [
    "# HITS-Algorithm"
   ],
   "metadata": {
    "collapsed": false
   }
  },
  {
   "cell_type": "markdown",
   "source": [
    "Implementation:"
   ],
   "metadata": {
    "collapsed": false
   }
  },
  {
   "cell_type": "code",
   "execution_count": 1,
   "outputs": [],
   "source": [
    "import numpy as np"
   ],
   "metadata": {
    "collapsed": false
   }
  },
  {
   "cell_type": "code",
   "execution_count": 2,
   "outputs": [],
   "source": [
    "def HITS(A, limit, print_):\n",
    "    # only nxn matrices are allowed\n",
    "    if A.shape[0] != A.shape[1]: return ([], [])\n",
    "\n",
    "    # iterate until convergence or step limit is reached\n",
    "    return HITS_iterator(A, np.zeros(A.shape[0]), np.zeros(A.shape[0]), 0, limit, print_)\n",
    "\n",
    "def HITS_iterator(A, a, h, i, limit, print_):\n",
    "    # store old values to see if convergence is reached\n",
    "    a_before = a\n",
    "    h_before = h\n",
    "\n",
    "    # sum of column at first step after h dot A (== A^T dot h)\n",
    "    a = A.sum(axis=0) if i == 0 else h.dot(A)\n",
    "    # A dot a\n",
    "    h = A.dot(a)\n",
    "\n",
    "    # normalize\n",
    "    c_a = np.sqrt(np.sum(a**2))\n",
    "    a_norm = a.dot(1/c_a)\n",
    "    c_h = np.sqrt(np.sum(h**2))\n",
    "    h_norm = h.dot(1/c_h)\n",
    "\n",
    "    # get iteration results in console\n",
    "    if print_:\n",
    "        print(\"Iteration: {0}\".format(i))\n",
    "        print(\"a = {0}\".format(a))\n",
    "        print(\"Norm of a = {0}\".format(a_norm))\n",
    "        print(\"h = {0}\".format(h))\n",
    "        print(\"Norm of h = {0}\".format(h_norm))\n",
    "        print()\n",
    "\n",
    "    # break condition: convergence or step limit\n",
    "    if (np.allclose(a_before, a_norm) and np.allclose(h_before, h_norm)) or limit <= i:\n",
    "        return a_norm.tolist(), h_norm.tolist()\n",
    "\n",
    "    i+=1\n",
    "    return HITS_iterator(A, a_norm, h_norm, i, limit, print_)"
   ],
   "metadata": {
    "collapsed": false
   }
  },
  {
   "cell_type": "markdown",
   "source": [
    "Example:"
   ],
   "metadata": {
    "collapsed": false
   }
  },
  {
   "cell_type": "markdown",
   "source": [
    "<img src=\"./figures/graph2.png\" width=300 height=250 />"
   ],
   "metadata": {
    "collapsed": false
   }
  },
  {
   "cell_type": "code",
   "execution_count": 3,
   "outputs": [
    {
     "name": "stdout",
     "output_type": "stream",
     "text": [
      "Iteration: 0\n",
      "a = [0 0 2 3 1]\n",
      "Norm of a = [0.         0.         0.53452248 0.80178373 0.26726124]\n",
      "h = [3 6 5 0 0]\n",
      "Norm of h = [0.35856858 0.71713717 0.5976143  0.         0.        ]\n",
      "\n",
      "Iteration: 1\n",
      "a = [0.         0.         1.31475147 1.67332005 0.71713717]\n",
      "Norm of a = [0.         0.         0.58547092 0.74514481 0.31934778]\n",
      "h = [1.67332005 3.70520869 2.98807152 0.         0.        ]\n",
      "Norm of h = [0.33164556 0.73435802 0.59222421 0.         0.        ]\n",
      "\n",
      "Iteration: 2\n",
      "a = [0.         0.         1.32658224 1.65822779 0.73435802]\n",
      "Norm of a = [0.         0.         0.59039024 0.7379878  0.32682317]\n",
      "h = [1.65822779 3.71916805 2.98481003 0.         0.        ]\n",
      "Norm of h = [0.32843586 0.73663472 0.59118455 0.         0.        ]\n",
      "\n",
      "Iteration: 3\n",
      "a = [0.         0.         1.32781927 1.65625513 0.73663472]\n",
      "Norm of a = [0.         0.         0.59093526 0.73710299 0.32783334]\n",
      "h = [1.65625513 3.72070912 2.98407441 0.         0.        ]\n",
      "Norm of h = [0.3280417  0.7369322  0.59103264 0.         0.        ]\n",
      "\n",
      "Iteration: 4\n",
      "a = [0.         0.         1.32796484 1.65600653 0.7369322 ]\n",
      "Norm of a = [0.         0.         0.59099995 0.73699224 0.32796568]\n",
      "h = [1.65600653 3.72090357 2.98397137 0.         0.        ]\n",
      "Norm of h = [0.3279924  0.73697059 0.59101213 0.         0.        ]\n",
      "\n",
      "Iteration: 5\n",
      "a = [0.         0.         1.32798272 1.65597512 0.73697059]\n",
      "Norm of a = [0.         0.         0.59100791 0.73697826 0.32798277]\n",
      "h = [1.65597512 3.72092842 2.98395784 0.         0.        ]\n",
      "Norm of h = [0.32798618 0.73697551 0.59100945 0.         0.        ]\n",
      "\n",
      "Iteration: 6\n",
      "a = [0.         0.         1.32798495 1.65597114 0.73697551]\n",
      "Norm of a = [0.         0.         0.5910089  0.73697649 0.32798496]\n",
      "h = [1.65597114 3.7209316  2.98395609 0.         0.        ]\n",
      "Norm of h = [0.32798539 0.73697614 0.5910091  0.         0.        ]\n",
      "\n"
     ]
    },
    {
     "data": {
      "text/plain": "([0.0, 0.0, 0.5910089043962758, 0.736976487377864, 0.3279849569362884],\n [0.3279853925503597, 0.7369761371980774, 0.5910090993158964, 0.0, 0.0])"
     },
     "execution_count": 3,
     "metadata": {},
     "output_type": "execute_result"
    }
   ],
   "source": [
    "A = np.array([[0,0,0,1,0],\n",
    "              [0,0,1,1,1],\n",
    "              [0,0,1,1,0],\n",
    "              [0,0,0,0,0],\n",
    "              [0,0,0,0,0]])\n",
    "\n",
    "HITS(A, 10, True)"
   ],
   "metadata": {
    "collapsed": false
   }
  }
 ],
 "metadata": {
  "kernelspec": {
   "display_name": "Python 3",
   "language": "python",
   "name": "python3"
  },
  "language_info": {
   "codemirror_mode": {
    "name": "ipython",
    "version": 2
   },
   "file_extension": ".py",
   "mimetype": "text/x-python",
   "name": "python",
   "nbconvert_exporter": "python",
   "pygments_lexer": "ipython2",
   "version": "2.7.6"
  }
 },
 "nbformat": 4,
 "nbformat_minor": 0
}
