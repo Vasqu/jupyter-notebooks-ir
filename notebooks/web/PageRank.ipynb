{
 "cells": [
  {
   "cell_type": "markdown",
   "source": [
    "# PageRank - Algorithm"
   ],
   "metadata": {
    "collapsed": false
   }
  },
  {
   "cell_type": "markdown",
   "source": [
    "Implementation:"
   ],
   "metadata": {
    "collapsed": false
   }
  },
  {
   "cell_type": "code",
   "execution_count": 1,
   "outputs": [],
   "source": [
    "import numpy as np"
   ],
   "metadata": {
    "collapsed": false
   }
  },
  {
   "cell_type": "code",
   "execution_count": 2,
   "outputs": [],
   "source": [
    "def PageRank(A, limit, print_, alpha=1):\n",
    "    # only nxn matrices are allowed\n",
    "    if A.shape[0] != A.shape[1]: return []\n",
    "\n",
    "    # number of outgoing links of each page to ^-1\n",
    "    N_u = np.float_power(A.sum(axis=1), -1)\n",
    "    # create matrix that indicates the incoming flow\n",
    "    A_pr = np.multiply(N_u, A.transpose())\n",
    "    # create start ranks with equal distribution\n",
    "    r_start = np.full(A_pr.shape[0], 1/A_pr.shape[0])\n",
    "    # create source\n",
    "    E = np.full(A_pr.shape[0], 1/A_pr.shape[0])\n",
    "\n",
    "    if print_:\n",
    "        print(\"Iteration: {0}\".format(0))\n",
    "        print(\"r = {0}\".format(r_start))\n",
    "        print()\n",
    "\n",
    "    # iterate until convergence or step limit is reached\n",
    "    return PageRank_iterator(A_pr, r_start, alpha, E, 1, limit, print_)\n",
    "\n",
    "def PageRank_iterator(A, r, alpha, E, i, limit, print_):\n",
    "    # store old values to see if convergence is reached\n",
    "    r_before = r\n",
    "\n",
    "    # sum of rank_q/N_q for each p and optionally use source E (if wanted)\n",
    "    r = alpha*A.dot(r) + (1-alpha) * E\n",
    "\n",
    "    # get iteration results in console\n",
    "    if print_:\n",
    "        print(\"Iteration: {0}\".format(i))\n",
    "        print(\"r = {0}\".format(r))\n",
    "        print()\n",
    "\n",
    "    # break condition: convergence or step limit\n",
    "    if np.allclose(r_before, r) or limit <= i:\n",
    "        return r.tolist()\n",
    "\n",
    "    i+=1\n",
    "    return PageRank_iterator(A, r, alpha, E, i, limit, print_)"
   ],
   "metadata": {
    "collapsed": false
   }
  },
  {
   "cell_type": "markdown",
   "source": [
    "Example:"
   ],
   "metadata": {
    "collapsed": false
   }
  },
  {
   "cell_type": "markdown",
   "source": [
    "<img src=\"./figures/graph3.png\" width=300 height=250 />"
   ],
   "metadata": {
    "collapsed": false
   }
  },
  {
   "cell_type": "code",
   "execution_count": 3,
   "outputs": [],
   "source": [
    "A = np.array([[0,1,0,0],\n",
    "              [0,0,1,1],\n",
    "              [1,1,0,0],\n",
    "              [1,0,0,1]])"
   ],
   "metadata": {
    "collapsed": false
   }
  },
  {
   "cell_type": "markdown",
   "source": [
    "Without using a source:"
   ],
   "metadata": {
    "collapsed": false
   }
  },
  {
   "cell_type": "code",
   "execution_count": 4,
   "outputs": [
    {
     "name": "stdout",
     "output_type": "stream",
     "text": [
      "Iteration: 0\n",
      "r = [0.25 0.25 0.25 0.25]\n",
      "\n",
      "Iteration: 1\n",
      "r = [0.25  0.375 0.125 0.25 ]\n",
      "\n",
      "Iteration: 2\n",
      "r = [0.1875 0.3125 0.1875 0.3125]\n",
      "\n",
      "Iteration: 3\n",
      "r = [0.25    0.28125 0.15625 0.3125 ]\n",
      "\n",
      "Iteration: 4\n",
      "r = [0.234375 0.328125 0.140625 0.296875]\n",
      "\n",
      "Iteration: 5\n",
      "r = [0.21875   0.3046875 0.1640625 0.3125   ]\n",
      "\n",
      "Iteration: 6\n",
      "r = [0.23828125 0.30078125 0.15234375 0.30859375]\n",
      "\n",
      "Iteration: 7\n",
      "r = [0.23046875 0.31445312 0.15039062 0.3046875 ]\n",
      "\n",
      "Iteration: 8\n",
      "r = [0.22753906 0.30566406 0.15722656 0.30957031]\n",
      "\n",
      "Iteration: 9\n",
      "r = [0.23339844 0.30615234 0.15283203 0.30761719]\n",
      "\n",
      "Iteration: 10\n",
      "r = [0.23022461 0.30981445 0.15307617 0.30688477]\n",
      "\n",
      "Iteration: 11\n",
      "r = [0.22998047 0.3067627  0.15490723 0.30834961]\n",
      "\n",
      "Iteration: 12\n",
      "r = [0.23162842 0.30743408 0.15338135 0.30755615]\n",
      "\n",
      "Iteration: 13\n",
      "r = [0.23046875 0.30831909 0.15371704 0.30749512]\n",
      "\n",
      "Iteration: 14\n",
      "r = [0.23060608 0.30732727 0.15415955 0.3079071 ]\n",
      "\n",
      "Iteration: 15\n",
      "r = [0.23103333 0.30768585 0.15366364 0.30761719]\n",
      "\n",
      "Iteration: 16\n",
      "r = [0.23064041 0.30786514 0.15384293 0.30765152]\n",
      "\n",
      "Iteration: 17\n",
      "r = [0.23074722 0.30756187 0.15393257 0.30775833]\n",
      "\n",
      "Iteration: 18\n",
      "r = [0.23084545 0.30771351 0.15378094 0.3076601 ]\n",
      "\n",
      "Iteration: 19\n",
      "r = [0.23072052 0.30773592 0.15385675 0.30768681]\n",
      "\n",
      "Iteration: 20\n",
      "r = [0.23077178 0.3076489  0.15386796 0.30771136]\n",
      "\n",
      "Iteration: 21\n",
      "r = [0.23078966 0.30770576 0.15382445 0.30768013]\n",
      "\n",
      "Iteration: 22\n",
      "r = [0.23075229 0.30770189 0.15385288 0.30769295]\n",
      "\n",
      "Iteration: 23\n",
      "r = [0.23077291 0.30767873 0.15385094 0.30769742]\n",
      "\n",
      "Iteration: 24\n",
      "r = [0.23077418 0.30769838 0.15383936 0.30768807]\n",
      "\n",
      "Iteration: 25\n",
      "r = [0.23076372 0.30769386 0.15384919 0.30769323]\n",
      "\n",
      "Iteration: 26\n",
      "r = [0.23077121 0.30768831 0.15384693 0.30769354]\n",
      "\n",
      "Iteration: 27\n",
      "r = [0.23077024 0.30769468 0.15384416 0.30769093]\n",
      "\n",
      "Iteration: 28\n",
      "r = [0.23076754 0.30769232 0.15384734 0.3076928 ]\n",
      "\n",
      "Iteration: 29\n",
      "r = [0.23077007 0.30769121 0.15384616 0.30769256]\n",
      "\n",
      "Iteration: 30\n",
      "r = [0.23076936 0.30769315 0.15384561 0.30769189]\n",
      "\n"
     ]
    },
    {
     "data": {
      "text/plain": "[0.23076935880817473,\n 0.307693149195984,\n 0.15384560613892972,\n 0.30769188585691154]"
     },
     "execution_count": 4,
     "metadata": {},
     "output_type": "execute_result"
    }
   ],
   "source": [
    "PageRank(A, 40, True)"
   ],
   "metadata": {
    "collapsed": false
   }
  },
  {
   "cell_type": "markdown",
   "source": [
    "With using a source:"
   ],
   "metadata": {
    "collapsed": false
   }
  },
  {
   "cell_type": "code",
   "execution_count": 5,
   "outputs": [
    {
     "name": "stdout",
     "output_type": "stream",
     "text": [
      "Iteration: 0\n",
      "r = [0.25 0.25 0.25 0.25]\n",
      "\n",
      "Iteration: 1\n",
      "r = [0.25    0.35625 0.14375 0.25   ]\n",
      "\n",
      "Iteration: 2\n",
      "r = [0.20484375 0.31109375 0.18890625 0.29515625]\n",
      "\n",
      "Iteration: 3\n",
      "r = [0.24322656 0.29190234 0.16971484 0.29515625]\n",
      "\n",
      "Iteration: 4\n",
      "r = [0.23507021 0.31637139 0.1615585  0.2869999 ]\n",
      "\n",
      "Iteration: 5\n",
      "r = [0.22813732 0.30597204 0.17195784 0.2939328 ]\n",
      "\n",
      "Iteration: 6\n",
      "r = [0.23550352 0.3044988  0.16753812 0.29245956]\n",
      "\n",
      "Iteration: 7\n",
      "r = [0.23299901 0.30888169 0.16691199 0.2912073 ]\n",
      "\n",
      "Iteration: 8\n",
      "r = [0.2322007  0.30648676 0.16877472 0.29253782]\n",
      "\n",
      "Iteration: 9\n",
      "r = [0.23355783 0.30659985 0.16775687 0.29208545]\n",
      "\n",
      "Iteration: 10\n",
      "r = [0.23293299 0.30732083 0.16780494 0.29194125]\n",
      "\n",
      "Iteration: 11\n",
      "r = [0.23289213 0.30681014 0.16811135 0.29218638]\n",
      "\n",
      "Iteration: 12\n",
      "r = [0.23312654 0.30690563 0.16789431 0.29207352]\n",
      "\n",
      "Iteration: 13\n",
      "r = [0.23298633 0.30701264 0.16793489 0.29206614]\n",
      "\n",
      "Iteration: 14\n",
      "r = [0.23300044 0.30691071 0.16798037 0.29210848]\n",
      "\n",
      "Iteration: 15\n",
      "r = [0.23303776 0.30694203 0.16793705 0.29208316]\n",
      "\n",
      "Iteration: 16\n",
      "r = [0.23300859 0.30695534 0.16795036 0.2920857 ]\n",
      "\n",
      "Iteration: 17\n",
      "r = [0.23301533 0.3069362  0.16795602 0.29209245]\n",
      "\n",
      "Iteration: 18\n",
      "r = [0.2330206  0.30694434 0.16794789 0.29208718]\n",
      "\n",
      "Iteration: 19\n",
      "r = [0.2330149  0.30694536 0.16795134 0.29208839]\n",
      "\n",
      "Iteration: 20\n",
      "r = [0.23301689 0.30694199 0.16795178 0.29208935]\n",
      "\n",
      "Iteration: 21\n",
      "r = [0.23301748 0.30694386 0.16795034 0.29208832]\n",
      "\n"
     ]
    },
    {
     "data": {
      "text/plain": "[0.23301747763797725,\n 0.30694386100138904,\n 0.16795034473901818,\n 0.2920883166216154]"
     },
     "execution_count": 5,
     "metadata": {},
     "output_type": "execute_result"
    }
   ],
   "source": [
    "PageRank(A, 40, True, 0.85)"
   ],
   "metadata": {
    "collapsed": false
   }
  }
 ],
 "metadata": {
  "kernelspec": {
   "display_name": "Python 3",
   "language": "python",
   "name": "python3"
  },
  "language_info": {
   "codemirror_mode": {
    "name": "ipython",
    "version": 2
   },
   "file_extension": ".py",
   "mimetype": "text/x-python",
   "name": "python",
   "nbconvert_exporter": "python",
   "pygments_lexer": "ipython2",
   "version": "2.7.6"
  }
 },
 "nbformat": 4,
 "nbformat_minor": 0
}
