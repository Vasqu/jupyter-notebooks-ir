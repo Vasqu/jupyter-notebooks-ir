{
 "cells": [
  {
   "cell_type": "markdown",
   "source": [
    "# Parsing of a .txt file\n",
    "## Naive Implementation"
   ],
   "metadata": {
    "collapsed": false
   }
  },
  {
   "cell_type": "code",
   "execution_count": 1,
   "outputs": [
    {
     "name": "stdout",
     "output_type": "stream",
     "text": [
      "bahia cocoa review 13 showers continued throughout the week in the bahia cocoa zone alleviating the drought since early january and improving prospects for the coming temporao although normal humidity levels have not been restored comissaria smith said in its weekly review the dry period means the temporao will be late this year arrivals for the week ended february 22 were 155 221 bags of 60 kilos making a cumulative total for the season of 5 93 mln against 5 81 at the same stage last year again it seems that cocoa delivered earlier on consignment was included in the arrivals figures comissaria smith said there is still some doubt as to how much old crop cocoa is still available as harvesting has practically come to an end with total bahia crop estimates around 6 4 mln bags and sales standing at almost 6 2 mln there are a few hundred thousand bags still in the hands of farmers middlemen exporters and processors there are doubts as to how much of this cocoa would be fit for export as shippers are now experiencing dificulties in obtaining bahia superior certificates in view of the lower quality over recent weeks farmers have sold a good part of their cocoa held on consignment comissaria smith said spot bean prices rose to 340 to 350 cruzados per arroba of 15 kilos bean shippers were reluctant to offer nearby shipment and only limited sales were booked for march shipment at 1 750 to 1 780 dlrs per tonne to ports to be named new crop sales were also light and all to open ports with june july going at 1 850 and 1 880 dlrs and at 35 and 45 dlrs under new york july aug sept at 1 870 1 875 and 1 880 dlrs per tonne fob routine sales of butter were made march april sold at 4 340 4 345 and 4 350 dlrs april may butter went at 2 27 times new york may june july at 4 400 and 4 415 dlrs aug sept at 4 351 to 4 450 dlrs and at 2 27 and 2 28 times new york sept and oct dec at 4 480 dlrs and 2 27 times new york dec comissaria smith said destinations were the u s covertible currency areas uruguay and open ports cake sales were registered at 785 to 995 dlrs for march april 785 dlrs for may 753 dlrs for aug and 0 39 times new york dec for oct dec buyers were the u s argentina uruguay and convertible currency areas liquor sales were limited with march april selling at 2 325 and 2 380 dlrs june july at 2 375 dlrs and at 1 25 times new york july aug sept at 2 400 dlrs and at 1 25 times new york sept and oct dec at 1 25 times new york dec comissaria smith said total bahia sales are currently estimated at 6 13 mln bags against the 1986 87 crop and 1 06 mln bags against the 1987 88 crop final figures for the period to february 28 are expected to be published by the brazilian cocoa trade commission after carnival which ends midday on february 27 reuter \n"
     ]
    }
   ],
   "source": [
    "# reading line to line\n",
    "txt_naive = \"\"\n",
    "# example txt from reuters corpus\n",
    "with open('files/Reut_1.txt') as file:\n",
    "    lines = file.readlines()\n",
    "    for line in lines:\n",
    "        txt_naive += line\n",
    "print(txt_naive)"
   ],
   "metadata": {
    "collapsed": false
   }
  },
  {
   "cell_type": "markdown",
   "source": [
    "## More advanced variation"
   ],
   "metadata": {
    "collapsed": false
   }
  },
  {
   "cell_type": "code",
   "execution_count": 2,
   "outputs": [
    {
     "name": "stdout",
     "output_type": "stream",
     "text": [
      "['bahia', 'cocoa', 'review', 'showers', 'continued', 'throughout', 'the', 'week', 'in', 'the', 'bahia', 'cocoa', 'zone', 'alleviating', 'the', 'drought', 'since', 'early', 'january', 'and', 'improving', 'prospects', 'for', 'the', 'coming', 'temporao', 'although', 'normal', 'humidity', 'levels', 'have', 'not', 'been', 'restored', 'comissaria', 'smith', 'said', 'in', 'its', 'weekly', 'review', 'the', 'dry', 'period', 'means', 'the', 'temporao', 'will', 'be', 'late', 'this', 'year', 'arrivals', 'for', 'the', 'week', 'ended', 'february', 'were', 'bags', 'of', 'kilos', 'making', 'a', 'cumulative', 'total', 'for', 'the', 'season', 'of', 'mln', 'against', 'at', 'the', 'same', 'stage', 'last', 'year', 'again', 'it', 'seems', 'that', 'cocoa', 'delivered', 'earlier', 'on', 'consignment', 'was', 'included', 'in', 'the', 'arrivals', 'figures', 'comissaria', 'smith', 'said', 'there', 'is', 'still', 'some', 'doubt', 'as', 'to', 'how', 'much', 'old', 'crop', 'cocoa', 'is', 'still', 'available', 'as', 'harvesting', 'has', 'practically', 'come', 'to', 'an', 'end', 'with', 'total', 'bahia', 'crop', 'estimates', 'around', 'mln', 'bags', 'and', 'sales', 'standing', 'at', 'almost', 'mln', 'there', 'are', 'a', 'few', 'hundred', 'thousand', 'bags', 'still', 'in', 'the', 'hands', 'of', 'farmers', 'middlemen', 'exporters', 'and', 'processors', 'there', 'are', 'doubts', 'as', 'to', 'how', 'much', 'of', 'this', 'cocoa', 'would', 'be', 'fit', 'for', 'export', 'as', 'shippers', 'are', 'now', 'experiencing', 'dificulties', 'in', 'obtaining', 'bahia', 'superior', 'certificates', 'in', 'view', 'of', 'the', 'lower', 'quality', 'over', 'recent', 'weeks', 'farmers', 'have', 'sold', 'a', 'good', 'part', 'of', 'their', 'cocoa', 'held', 'on', 'consignment', 'comissaria', 'smith', 'said', 'spot', 'bean', 'prices', 'rose', 'to', 'to', 'cruzados', 'per', 'arroba', 'of', 'kilos', 'bean', 'shippers', 'were', 'reluctant', 'to', 'offer', 'nearby', 'shipment', 'and', 'only', 'limited', 'sales', 'were', 'booked', 'for', 'march', 'shipment', 'at', 'to', 'dlrs', 'per', 'tonne', 'to', 'ports', 'to', 'be', 'named', 'new', 'crop', 'sales', 'were', 'also', 'light', 'and', 'all', 'to', 'open', 'ports', 'with', 'june', 'july', 'going', 'at', 'and', 'dlrs', 'and', 'at', 'and', 'dlrs', 'under', 'new', 'york', 'july', 'aug', 'sept', 'at', 'and', 'dlrs', 'per', 'tonne', 'fob', 'routine', 'sales', 'of', 'butter', 'were', 'made', 'march', 'april', 'sold', 'at', 'and', 'dlrs', 'april', 'may', 'butter', 'went', 'at', 'times', 'new', 'york', 'may', 'june', 'july', 'at', 'and', 'dlrs', 'aug', 'sept', 'at', 'to', 'dlrs', 'and', 'at', 'and', 'times', 'new', 'york', 'sept', 'and', 'oct', 'dec', 'at', 'dlrs', 'and', 'times', 'new', 'york', 'dec', 'comissaria', 'smith', 'said', 'destinations', 'were', 'the', 'u', 's', 'covertible', 'currency', 'areas', 'uruguay', 'and', 'open', 'ports', 'cake', 'sales', 'were', 'registered', 'at', 'to', 'dlrs', 'for', 'march', 'april', 'dlrs', 'for', 'may', 'dlrs', 'for', 'aug', 'and', 'times', 'new', 'york', 'dec', 'for', 'oct', 'dec', 'buyers', 'were', 'the', 'u', 's', 'argentina', 'uruguay', 'and', 'convertible', 'currency', 'areas', 'liquor', 'sales', 'were', 'limited', 'with', 'march', 'april', 'selling', 'at', 'and', 'dlrs', 'june', 'july', 'at', 'dlrs', 'and', 'at', 'times', 'new', 'york', 'july', 'aug', 'sept', 'at', 'dlrs', 'and', 'at', 'times', 'new', 'york', 'sept', 'and', 'oct', 'dec', 'at', 'times', 'new', 'york', 'dec', 'comissaria', 'smith', 'said', 'total', 'bahia', 'sales', 'are', 'currently', 'estimated', 'at', 'mln', 'bags', 'against', 'the', 'crop', 'and', 'mln', 'bags', 'against', 'the', 'crop', 'final', 'figures', 'for', 'the', 'period', 'to', 'february', 'are', 'expected', 'to', 'be', 'published', 'by', 'the', 'brazilian', 'cocoa', 'trade', 'commission', 'after', 'carnival', 'which', 'ends', 'midday', 'on', 'february', 'reuter', '']\n"
     ]
    }
   ],
   "source": [
    "# some basic parsing\n",
    "import re\n",
    "\n",
    "# remove unnecessary punctuations such as \",\", \"|\", etc.\n",
    "txt_naive = txt_naive\\\n",
    "    .replace(\":\", \".\")\\\n",
    "    .replace(\".\", \")\")\\\n",
    "    .replace(\")\", \"(\")\\\n",
    "    .replace(\"(\", \"-\")\\\n",
    "    .replace(\"-\", \"•\")\\\n",
    "    .replace(\"•\", \"|\")\\\n",
    "    .replace(\"|\", \";\")\\\n",
    "    .replace(\";\", \",\")\\\n",
    "    .replace(\",\", \"\")\n",
    "# remove any numbers\n",
    "txt_naive = re.sub('\\d+', ' ', txt_naive)\n",
    "# turn multi spaces into single spaces\n",
    "txt_naive = re.sub('\\s+', ' ', txt_naive)\n",
    "\n",
    "tokens = txt_naive.split(\" \")\n",
    "\n",
    "print(tokens)"
   ],
   "metadata": {
    "collapsed": false
   }
  },
  {
   "cell_type": "markdown",
   "source": [
    "Applying Porter Stemmer:"
   ],
   "metadata": {
    "collapsed": false
   }
  },
  {
   "cell_type": "code",
   "execution_count": 3,
   "outputs": [
    {
     "name": "stdout",
     "output_type": "stream",
     "text": [
      "['bahia', 'cocoa', 'review', 'shower', 'continu', 'throughout', 'the', 'week', 'in', 'the', 'bahia', 'cocoa', 'zone', 'allevi', 'the', 'drought', 'sinc', 'earli', 'januari', 'and', 'improv', 'prospect', 'for', 'the', 'come', 'temporao', 'although', 'normal', 'humid', 'level', 'have', 'not', 'been', 'restor', 'comissaria', 'smith', 'said', 'in', 'it', 'weekli', 'review', 'the', 'dri', 'period', 'mean', 'the', 'temporao', 'will', 'be', 'late', 'thi', 'year', 'arriv', 'for', 'the', 'week', 'end', 'februari', 'were', 'bag', 'of', 'kilo', 'make', 'a', 'cumul', 'total', 'for', 'the', 'season', 'of', 'mln', 'against', 'at', 'the', 'same', 'stage', 'last', 'year', 'again', 'it', 'seem', 'that', 'cocoa', 'deliv', 'earlier', 'on', 'consign', 'wa', 'includ', 'in', 'the', 'arriv', 'figur', 'comissaria', 'smith', 'said', 'there', 'is', 'still', 'some', 'doubt', 'as', 'to', 'how', 'much', 'old', 'crop', 'cocoa', 'is', 'still', 'avail', 'as', 'harvest', 'ha', 'practic', 'come', 'to', 'an', 'end', 'with', 'total', 'bahia', 'crop', 'estim', 'around', 'mln', 'bag', 'and', 'sale', 'stand', 'at', 'almost', 'mln', 'there', 'are', 'a', 'few', 'hundr', 'thousand', 'bag', 'still', 'in', 'the', 'hand', 'of', 'farmer', 'middlemen', 'export', 'and', 'processor', 'there', 'are', 'doubt', 'as', 'to', 'how', 'much', 'of', 'thi', 'cocoa', 'would', 'be', 'fit', 'for', 'export', 'as', 'shipper', 'are', 'now', 'experienc', 'dificulti', 'in', 'obtain', 'bahia', 'superior', 'certif', 'in', 'view', 'of', 'the', 'lower', 'qualiti', 'over', 'recent', 'week', 'farmer', 'have', 'sold', 'a', 'good', 'part', 'of', 'their', 'cocoa', 'held', 'on', 'consign', 'comissaria', 'smith', 'said', 'spot', 'bean', 'price', 'rose', 'to', 'to', 'cruzado', 'per', 'arroba', 'of', 'kilo', 'bean', 'shipper', 'were', 'reluct', 'to', 'offer', 'nearbi', 'shipment', 'and', 'onli', 'limit', 'sale', 'were', 'book', 'for', 'march', 'shipment', 'at', 'to', 'dlr', 'per', 'tonn', 'to', 'port', 'to', 'be', 'name', 'new', 'crop', 'sale', 'were', 'also', 'light', 'and', 'all', 'to', 'open', 'port', 'with', 'june', 'juli', 'go', 'at', 'and', 'dlr', 'and', 'at', 'and', 'dlr', 'under', 'new', 'york', 'juli', 'aug', 'sept', 'at', 'and', 'dlr', 'per', 'tonn', 'fob', 'routin', 'sale', 'of', 'butter', 'were', 'made', 'march', 'april', 'sold', 'at', 'and', 'dlr', 'april', 'may', 'butter', 'went', 'at', 'time', 'new', 'york', 'may', 'june', 'juli', 'at', 'and', 'dlr', 'aug', 'sept', 'at', 'to', 'dlr', 'and', 'at', 'and', 'time', 'new', 'york', 'sept', 'and', 'oct', 'dec', 'at', 'dlr', 'and', 'time', 'new', 'york', 'dec', 'comissaria', 'smith', 'said', 'destin', 'were', 'the', 'u', 's', 'covert', 'currenc', 'area', 'uruguay', 'and', 'open', 'port', 'cake', 'sale', 'were', 'regist', 'at', 'to', 'dlr', 'for', 'march', 'april', 'dlr', 'for', 'may', 'dlr', 'for', 'aug', 'and', 'time', 'new', 'york', 'dec', 'for', 'oct', 'dec', 'buyer', 'were', 'the', 'u', 's', 'argentina', 'uruguay', 'and', 'convert', 'currenc', 'area', 'liquor', 'sale', 'were', 'limit', 'with', 'march', 'april', 'sell', 'at', 'and', 'dlr', 'june', 'juli', 'at', 'dlr', 'and', 'at', 'time', 'new', 'york', 'juli', 'aug', 'sept', 'at', 'dlr', 'and', 'at', 'time', 'new', 'york', 'sept', 'and', 'oct', 'dec', 'at', 'time', 'new', 'york', 'dec', 'comissaria', 'smith', 'said', 'total', 'bahia', 'sale', 'are', 'current', 'estim', 'at', 'mln', 'bag', 'against', 'the', 'crop', 'and', 'mln', 'bag', 'against', 'the', 'crop', 'final', 'figur', 'for', 'the', 'period', 'to', 'februari', 'are', 'expect', 'to', 'be', 'publish', 'by', 'the', 'brazilian', 'cocoa', 'trade', 'commiss', 'after', 'carniv', 'which', 'end', 'midday', 'on', 'februari', 'reuter', '']\n"
     ]
    }
   ],
   "source": [
    "from nltk.stem import PorterStemmer\n",
    "\n",
    "# apply stemming on every word\n",
    "stemmer = PorterStemmer()\n",
    "stemmed_tokens = [stemmer.stem(token) for token in tokens]\n",
    "\n",
    "print(stemmed_tokens)"
   ],
   "metadata": {
    "collapsed": false
   }
  },
  {
   "cell_type": "markdown",
   "source": [
    "Removing stopwords:"
   ],
   "metadata": {
    "collapsed": false
   }
  },
  {
   "cell_type": "code",
   "execution_count": 4,
   "outputs": [
    {
     "name": "stdout",
     "output_type": "stream",
     "text": [
      "['bahia', 'cocoa', 'review', 'shower', 'continu', 'throughout', 'week', 'bahia', 'cocoa', 'zone', 'allevi', 'drought', 'sinc', 'earli', 'januari', 'improv', 'prospect', 'come', 'temporao', 'although', 'normal', 'humid', 'level', 'restor', 'comissaria', 'smith', 'said', 'weekli', 'review', 'dri', 'period', 'mean', 'temporao', 'late', 'thi', 'year', 'arriv', 'week', 'end', 'februari', 'bag', 'kilo', 'make', 'cumul', 'total', 'season', 'mln', 'stage', 'last', 'year', 'seem', 'cocoa', 'deliv', 'earlier', 'consign', 'wa', 'includ', 'arriv', 'figur', 'comissaria', 'smith', 'said', 'still', 'doubt', 'much', 'old', 'crop', 'cocoa', 'still', 'avail', 'harvest', 'ha', 'practic', 'come', 'end', 'total', 'bahia', 'crop', 'estim', 'around', 'mln', 'bag', 'sale', 'stand', 'almost', 'mln', 'hundr', 'thousand', 'bag', 'still', 'hand', 'farmer', 'middlemen', 'export', 'processor', 'doubt', 'much', 'thi', 'cocoa', 'would', 'fit', 'export', 'shipper', 'experienc', 'dificulti', 'obtain', 'bahia', 'superior', 'certif', 'view', 'lower', 'qualiti', 'recent', 'week', 'farmer', 'sold', 'good', 'part', 'cocoa', 'held', 'consign', 'comissaria', 'smith', 'said', 'spot', 'bean', 'price', 'rose', 'cruzado', 'per', 'arroba', 'kilo', 'bean', 'shipper', 'reluct', 'offer', 'nearbi', 'shipment', 'onli', 'limit', 'sale', 'book', 'march', 'shipment', 'dlr', 'per', 'tonn', 'port', 'name', 'new', 'crop', 'sale', 'also', 'light', 'open', 'port', 'june', 'juli', 'go', 'dlr', 'dlr', 'new', 'york', 'juli', 'aug', 'sept', 'dlr', 'per', 'tonn', 'fob', 'routin', 'sale', 'butter', 'made', 'march', 'april', 'sold', 'dlr', 'april', 'may', 'butter', 'went', 'time', 'new', 'york', 'may', 'june', 'juli', 'dlr', 'aug', 'sept', 'dlr', 'time', 'new', 'york', 'sept', 'oct', 'dec', 'dlr', 'time', 'new', 'york', 'dec', 'comissaria', 'smith', 'said', 'destin', 'u', 'covert', 'currenc', 'area', 'uruguay', 'open', 'port', 'cake', 'sale', 'regist', 'dlr', 'march', 'april', 'dlr', 'may', 'dlr', 'aug', 'time', 'new', 'york', 'dec', 'oct', 'dec', 'buyer', 'u', 'argentina', 'uruguay', 'convert', 'currenc', 'area', 'liquor', 'sale', 'limit', 'march', 'april', 'sell', 'dlr', 'june', 'juli', 'dlr', 'time', 'new', 'york', 'juli', 'aug', 'sept', 'dlr', 'time', 'new', 'york', 'sept', 'oct', 'dec', 'time', 'new', 'york', 'dec', 'comissaria', 'smith', 'said', 'total', 'bahia', 'sale', 'current', 'estim', 'mln', 'bag', 'crop', 'mln', 'bag', 'crop', 'final', 'figur', 'period', 'februari', 'expect', 'publish', 'brazilian', 'cocoa', 'trade', 'commiss', 'carniv', 'end', 'midday', 'februari', 'reuter', '']\n",
      "\n",
      "294 (filtered) vs. 457 (unfiltered)\n"
     ]
    },
    {
     "name": "stderr",
     "output_type": "stream",
     "text": [
      "[nltk_data] Downloading package stopwords to /home/av11/nltk_data...\n",
      "[nltk_data]   Package stopwords is already up-to-date!\n"
     ]
    }
   ],
   "source": [
    "import nltk\n",
    "from nltk.corpus import stopwords\n",
    "# update/download database if necessary\n",
    "nltk.download('stopwords')\n",
    "\n",
    "# filter stop words\n",
    "stop_words = set(stopwords.words('english'))\n",
    "filtered_words = [word for word in stemmed_tokens if word not in stop_words]\n",
    "\n",
    "print(str(filtered_words) + \"\\n\")\n",
    "print(str(len(filtered_words)) + \" (filtered) vs. \" + str(len(stemmed_tokens)) + \" (unfiltered)\")"
   ],
   "metadata": {
    "collapsed": false
   }
  }
 ],
 "metadata": {
  "kernelspec": {
   "display_name": "Python 3",
   "language": "python",
   "name": "python3"
  },
  "language_info": {
   "codemirror_mode": {
    "name": "ipython",
    "version": 2
   },
   "file_extension": ".py",
   "mimetype": "text/x-python",
   "name": "python",
   "nbconvert_exporter": "python",
   "pygments_lexer": "ipython2",
   "version": "2.7.6"
  }
 },
 "nbformat": 4,
 "nbformat_minor": 0
}
