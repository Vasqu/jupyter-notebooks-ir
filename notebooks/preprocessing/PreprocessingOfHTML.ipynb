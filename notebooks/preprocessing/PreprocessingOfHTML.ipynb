{
 "cells": [
  {
   "cell_type": "markdown",
   "source": [
    "# Parsing of a .html file\n",
    "## Naive Implementation"
   ],
   "metadata": {
    "collapsed": false
   }
  },
  {
   "cell_type": "code",
   "execution_count": 1,
   "outputs": [
    {
     "name": "stdout",
     "output_type": "stream",
     "text": [
      "<!DOCTYPE html PUBLIC \"-//W3C//DTD XHTML 1.0 Transitional//EN\" \"http://www.w3.org/TR/xhtml1/DTD/xhtml1-transitional.dtd\">\n",
      "<html xmlns=\"http://www.w3.org/1999/xhtml\" xml:lang=\"en\" lang=\"en\" dir=\"ltr\">\n",
      "  <head>\n",
      "    <meta http-equiv=\"Content-Type\" content=\"text/html; charset=UTF-8\" />\n",
      "\t<!-- headlinks removed -->\n",
      "\t<link rel=\"shortcut icon\" href=\"../../../../misc/favicon.ico\"/>\n",
      "    <title>Aakrosh (1998 film) - Wikipedia, the free encyclopedia</title>\n",
      "    <style type=\"text/css\">/*<![CDATA[*/ @import \"../../../../skins/offline/main.css\"; /*]]>*/</style>\n",
      "    <link rel=\"stylesheet\" type=\"text/css\" media=\"print\" href=\"../../../../skins/common/commonPrint.css\" />\n",
      "    <!--[if lt IE 5.5000]><style type=\"text/css\">@import \"../../../../skins/monobook/IE50Fixes.css\";</style><![endif]-->\n",
      "    <!--[if IE 5.5000]><style type=\"text/css\">@import \"../../../../skins/monobook/IE55Fixes.css\";</style><![endif]-->\n",
      "    <!--[if IE 6]><style type=\"text/css\">@import \"../../../../skins/monobook/IE60Fixes.css\";</style><![endif]-->\n",
      "    <!--[if IE]><script type=\"text/javascript\" src=\"../../../../skins/common/IEFixes.js\"></script>\n",
      "    <meta http-equiv=\"imagetoolbar\" content=\"no\" /><![endif]-->\n",
      "    <script type=\"text/javascript\" src=\"../../../../skins/common/wikibits.js\"></script>\n",
      "    <script type=\"text/javascript\" src=\"../../../../skins/offline/md5.js\"></script>\n",
      "    <script type=\"text/javascript\" src=\"../../../../skins/offline/utf8.js\"></script>\n",
      "    <script type=\"text/javascript\" src=\"../../../../skins/offline/lookup.js\"></script>\n",
      "    <script type=\"text/javascript\" src=\"../../../../raw/gen.js\"></script>        <style type=\"text/css\">/*<![CDATA[*/\n",
      "@import \"../../../../raw/MediaWiki%7ECommon.css\";\n",
      "@import \"../../../../raw/MediaWiki%7EMonobook.css\";\n",
      "@import \"../../../../raw/gen.css\";\n",
      "/*]]>*/</style>          </head>\n",
      "  <body\n",
      "    class=\"ns-0\">\n",
      "    <div id=\"globalWrapper\">\n",
      "      <div id=\"column-content\">\n",
      "\t<div id=\"content\">\n",
      "\t  <a name=\"top\" id=\"contentTop\"></a>\n",
      "\t        <h1 class=\"firstHeading\">Aakrosh (1998 film)</h1>\n",
      "\t  <div id=\"bodyContent\">\n",
      "\t    <h3 id=\"siteSub\">From Wikipedia, the free encyclopedia</h3>\n",
      "\t    <div id=\"contentSub\"></div>\n",
      "\t    \t    \t    <!-- start content -->\n",
      "\t    <div class=\"dablink\">For the 1980 film by <a href=\"../../../../articles/g/o/v/Govind_Nihalani_7ef0.html\" title=\"Govind Nihalani\">Govind Nihalani</a>, see <a href=\"../../../../articles/a/a/k/Aakrosh_%281980_film%29.html\" title=\"Aakrosh (1980 film)\">Aakrosh (1980 film)</a>.</div>\n",
      "<table class=\"infobox vevent\" style=\"width:20em; text-align:left; font-size:90%;\" cellspacing=\"2\">\n",
      "<tr>\n",
      "<th class=\"summary\" style=\"font-size: 110%; text-align: center;\" colspan=\"2\"><i>Aakrosh: Cyclone of Anger</i></th>\n",
      "</tr>\n",
      "<tr>\n",
      "<td style=\"font-size: 95%; line-height:1.5em; text-align: center;\" colspan=\"2\"><a href=\"../../../../articles/a/a/k/Image%7EAakrosh.jpg_af39.html\" class=\"image\" title=\"Aakrosh.jpg\"><img alt=\"\" src=\"../../../../images/local/thumb/1/1f/Aakrosh.jpg/200px-Aakrosh.jpg\" width=\"200\" height=\"250\" border=\"0\" /></a><br />\n",
      "DVD cover</td>\n",
      "</tr>\n",
      "<tr class=\"description\">\n",
      "<th>Directed by</th>\n",
      "<td>Lateef Binny</td>\n",
      "</tr>\n",
      "<tr>\n",
      "<th>Produced&#160;by</th>\n",
      "<td>Ramesh J. Sharma</td>\n",
      "</tr>\n",
      "<tr>\n",
      "<th>Starring</th>\n",
      "<td><a href=\"../../../../articles/s/u/n/Sunil_Shetty_9425.html\" title=\"Sunil Shetty\">Sunil Shetty</a><br />\n",
      "<a href=\"../../../../articles/s/h/i/Shilpa_Shetty_564b.html\" title=\"Shilpa Shetty\">Shilpa Shetty</a><br />\n",
      "<a href=\"../../../../articles/g/i/r/Girish_Karnad_1285.html\" title=\"Girish Karnad\">Girish Karnad</a></td>\n",
      "</tr>\n",
      "<tr>\n",
      "<th>Music&#160;by</th>\n",
      "<td><a href=\"../../../../articles/a/n/a/Anand_Raj_Anand_1ea7.html\" title=\"Anand Raj Anand\">Anand Raj Anand</a></td>\n",
      "</tr>\n",
      "<tr>\n",
      "<th>Release&#160;date(s)</th>\n",
      "<td><a href=\"../../../../articles/a/p/r/April_3.html\" title=\"April 3\">April 3</a>, <a href=\"../../../../articles/1/9/9/1998.html\" title=\"1998\">1998</a></td>\n",
      "</tr>\n",
      "<tr>\n",
      "<th>Country</th>\n",
      "<td><span class=\"flagicon\"><a href=\"../../../../articles/f/l/a/Image%7EFlag_of_India.svg_d5a5.html\" class=\"image\" title=\"Flag of India\"><img alt=\"Flag of India\" src=\"../../../../images/shared/thumb/4/41/Flag_of_India.svg/22px-Flag_of_India.svg.png\" width=\"22\" height=\"15\" border=\"0\" class=\"thumbborder\" /></a>&#160;</span><a href=\"../../../../articles/i/n/d/India.html\" title=\"India\">India</a></td>\n",
      "</tr>\n",
      "<tr>\n",
      "<th>Language</th>\n",
      "<td><a href=\"../../../../articles/h/i/n/Hindi.html\" title=\"Hindi\">Hindi</a></td>\n",
      "</tr>\n",
      "<tr>\n",
      "<th style=\"font-size: 100%;\" align=\"center\" colspan=\"2\"><b><a href=\"http://www.imdb.com/title/tt0286416/\" class=\"external text\" title=\"http://www.imdb.com/title/tt0286416/\" rel=\"nofollow\">IMDb profile</a></b></th>\n",
      "</tr>\n",
      "</table>\n",
      "<p><b>Aakrosh</b> (<a href=\"../../../../articles/e/n/g/English_language.html\" title=\"English language\">English language</a>:Aakrosh:Cyclone of Anger) is a <a href=\"../../../../articles/1/9/9/1998_in_film.html\" title=\"1998 in film\">1998</a> <a href=\"../../../../articles/b/o/l/Bollywood.html\" title=\"Bollywood\">Bollywood</a> <a href=\"../../../../articles/a/c/t/Action_film.html\" title=\"Action film\">action</a> <a href=\"../../../../articles/c/r/i/Crime_film.html\" title=\"Crime film\">crime</a> <a href=\"../../../../articles/t/h/r/Thriller_film.html\" class=\"mw-redirect\" title=\"Thriller film\">thriller</a> directed by Lateef Binny starring <a href=\"../../../../articles/s/u/n/Sunil_Shetty_9425.html\" title=\"Sunil Shetty\">Sunil Shetty</a>, <a href=\"../../../../articles/s/h/i/Shilpa_Shetty_564b.html\" title=\"Shilpa Shetty\">Shilpa Shetty</a> and <a href=\"../../../../articles/g/i/r/Girish_Karnad_1285.html\" title=\"Girish Karnad\">Girish Karnad</a>.</p>\n",
      "<p><a name=\"Synopsis\" id=\"Synopsis\"></a></p>\n",
      "<h2><span class=\"editsection\">[<a href=\"../../../../articles/a/a/k/Aakrosh_%281998_film%29.html\" title=\"Edit section: Synopsis\">edit</a>]</span> <span class=\"mw-headline\">Synopsis</span></h2>\n",
      "<p>Due to his activities, Anjali Gulraj separates from Mahendra Pratap Gujral, and marries Dr. Malhotra. She does bring up her son, Dev from her first marriage, who grows up to become a Police Officer. Years later, on the tracks of Gujral, Dev, and his close colleague, Komal come across Suraj Singh, and find out that he is indeed Gujral. At this point Gujral decides to play on Dev's emotions by reminding of his past affection for him, and blaming his entire criminal career on a <a href=\"../../../../articles/p/o/l/Politician.html\" title=\"Politician\">politician</a>, Rajvansh Shashtri. Dev must know decide to go after Shastri, or disbelieve his father altogether. But will his seniors permit Dev to arrest his own biological father, knowing Dev does have some affection for him, and will they ever allow a mere police officer to arrest a top politician?</p>\n",
      "<p><a name=\"Cast\" id=\"Cast\"></a></p>\n",
      "<h2><span class=\"editsection\">[<a href=\"../../../../articles/a/a/k/Aakrosh_%281998_film%29.html\" title=\"Edit section: Cast\">edit</a>]</span> <span class=\"mw-headline\">Cast</span></h2>\n",
      "<div class=\"floatright\"><span><a href=\"../../../../articles/a/a/k/Image%7EAakroshscreenshot.jpg_5293.html\" class=\"image\" title=\"Aakroshscreenshot.jpg\"><img alt=\"\" src=\"../../../../images/local/9/92/Aakroshscreenshot.jpg\" width=\"200\" height=\"167\" border=\"0\" /></a></span></div>\n",
      "<ul>\n",
      "<li><a href=\"../../../../articles/s/u/n/Sunil_Shetty_9425.html\" title=\"Sunil Shetty\">Sunil Shetty</a> .... Officer Dev Malhotra</li>\n",
      "<li><a href=\"../../../../articles/s/h/i/Shilpa_Shetty_564b.html\" title=\"Shilpa Shetty\">Shilpa Shetty</a> .... Komal</li>\n",
      "<li><a href=\"../../../../articles/g/i/r/Girish_Karnad_1285.html\" title=\"Girish Karnad\">Girish Karnad</a> .... Rajwansh Shashtri</li>\n",
      "<li><a href=\"../../../../articles/s/u/r/Suresh_Oberoi_57b7.html\" title=\"Suresh Oberoi\">Suresh Oberoi</a> .... Mahendra Pratap Gujral/Suraj Singh</li>\n",
      "<li>Mohan Joshi .... Colonel/Chavan</li>\n",
      "<li><a href=\"../../../../articles/j/o/h/Johnny_Lever_846a.html\" title=\"Johnny Lever\">Johnny Lever</a> .... Gopi</li>\n",
      "<li><a href=\"../../../../articles/n/a/v/Navin_Nischol_8fa7.html\" title=\"Navin Nischol\">Navin Nischol</a> .... Dr. Malhotra</li>\n",
      "<li>Anjana Mumtaz .... Anjali Malhotra</li>\n",
      "<li><a href=\"../../../../articles/k/u/l/Kulbhushan_Kharbanda_80e1.html\" title=\"Kulbhushan Kharbanda\">Kulbhushan Kharbanda</a> .... Vikram Dutt</li>\n",
      "<li>Suresh Bhagwat .... Thief</li>\n",
      "<li><a href=\"../../../../articles/r/a/n/Ranjeet.html\" title=\"Ranjeet\">Ranjeet</a> .... Sairas</li>\n",
      "<li><a href=\"../../../../articles/s/h/i/Shiva.html\" title=\"Shiva\">Shiva</a> .... Goonga/Girdhari</li>\n",
      "</ul>\n",
      "<p><a name=\"External_links\" id=\"External_links\"></a></p>\n",
      "<h2><span class=\"editsection\">[<a href=\"../../../../articles/a/a/k/Aakrosh_%281998_film%29.html\" title=\"Edit section: External links\">edit</a>]</span> <span class=\"mw-headline\">External links</span></h2>\n",
      "<ul>\n",
      "<li><a href=\"http://www.imdb.com/title/tt0286416/\" class=\"external text\" title=\"http://www.imdb.com/title/tt0286416/\" rel=\"nofollow\"><i>Aakrosh</i></a> at the <a href=\"../../../../articles/i/n/t/Internet_Movie_Database_7ea7.html\" title=\"Internet Movie Database\">Internet Movie Database</a></li>\n",
      "</ul>\n",
      "<table class=\"navbox\" cellspacing=\"0\" style=\";\">\n",
      "<tr>\n",
      "<td style=\"padding:2px;\">\n",
      "<table cellspacing=\"0\" class=\"nowraplinks collapsible autocollapse\" style=\"width:100%;background:transparent;color:inherit;;\">\n",
      "<tr>\n",
      "<th style=\";\" colspan=\"3\" class=\"navbox-title\">\n",
      "<div style=\"float:left; width:6em;text-align:left;\">\n",
      "<div class=\"noprint plainlinksneverexpand\" style=\"background-color:transparent; padding:0; white-space:nowrap; font-weight:normal; font-size:xx-small;&#160;;;border:none;;\"><a href=\"../../../../articles/c/i/n/Template%7ECinemaofIndia_5c59.html\" title=\"Template:CinemaofIndia\"><span title=\"View this template\" style=\";;border:none;;\">v</span></a>&#160;<span style=\"font-size:80%;\">•</span>&#160;<a href=\"../../../../articles/c/i/n/Template_talk%7ECinemaofIndia_3060.html\" class=\"mw-redirect\" title=\"Template talk:CinemaofIndia\"><span style=\"color:#002bb8;;;border:none;;\" title=\"Discussion about this template\">d</span></a>&#160;<span style=\"font-size:80%;\">•</span>&#160;<a href=\"http://en.wikipedia.org../../../../articles/c/i/n/Template%7ECinemaofIndia_5c59.html\" class=\"external text\" title=\"http://en.wikipedia.org../../../../articles/c/i/n/Template%7ECinemaofIndia_5c59.html\" rel=\"nofollow\"><span style=\"color:#002bb8;;;border:none;;\" title=\"You can edit this template. Please use the preview button before saving.\">e</span></a></div>\n",
      "</div>\n",
      "<span style=\"font-size:110%;\"><a href=\"../../../../articles/c/i/n/Cinema_of_India_31ef.html\" title=\"Cinema of India\">Cinema of India</a></span></th>\n",
      "</tr>\n",
      "<tr style=\"height:2px;\">\n",
      "<td></td>\n",
      "</tr>\n",
      "<tr>\n",
      "<td class=\"navbox-abovebelow\" style=\";\" colspan=\"3\"><span style=\"white-space:nowrap;\"><b>Industries</b>: <i><a href=\"../../../../articles/a/s/s/Assamese_cinema.html\" title=\"Assamese cinema\">Assamese</a></i> •</span> <span style=\"white-space:nowrap;\"><i><a href=\"../../../../articles/b/e/n/Bengali_cinema.html\" title=\"Bengali cinema\">Bengal</a></i> •</span> <span style=\"white-space:nowrap;\"><i><a href=\"../../../../articles/b/o/l/Bollywood.html\" title=\"Bollywood\">Bollywood</a></i> •</span> <span style=\"white-space:nowrap;\"><i><a href=\"../../../../articles/c/i/n/Cinema_of_Karnataka_a0d1.html\" title=\"Cinema of Karnataka\">Karnataka</a></i> •</span> <span style=\"white-space:nowrap;\"><i><a href=\"../../../../articles/k/o/l/Kollywood.html\" class=\"mw-redirect\" title=\"Kollywood\">Kollywood</a></i> •</span> <span style=\"white-space:nowrap;\"><i><a href=\"../../../../articles/m/a/l/Malayalam_cinema.html\" title=\"Malayalam cinema\">Malayalam</a></i> •</span> <span style=\"white-space:nowrap;\"><i><a href=\"../../../../articles/m/a/r/Marathi_cinema.html\" title=\"Marathi cinema\">Marathi</a></i> •</span> <span style=\"white-space:nowrap;\"><i><a href=\"../../../../articles/p/u/n/Punjwood.html\" title=\"Punjwood\">Punjwood</a></i> •</span><span style=\"white-space:nowrap;\"><i><a href=\"../../../../articles/t/o/l/Tollywood.html\" class=\"mw-redirect\" title=\"Tollywood\">Tollywood</a></i></span></td>\n",
      "</tr>\n",
      "<tr style=\"height:2px;\">\n",
      "<td></td>\n",
      "</tr>\n",
      "<tr>\n",
      "<td style=\"width:0%;padding:0px 2px 0px 0px;\" rowspan=\"1\"><a href=\"../../../../articles/i/n/d/Image%7EIndiafilm.png_b245.html\" class=\"image\" title=\"Indiafilm.png\"><img alt=\"\" src=\"../../../../images/shared/thumb/b/bc/Indiafilm.png/40px-Indiafilm.png\" width=\"40\" height=\"44\" border=\"0\" /></a></td>\n",
      "<td colspan=\"2\" style=\"width:100%;padding:0px;;;\" class=\"navbox-list navbox-odd\">\n",
      "<div style=\"padding:0em 0.25em\">\n",
      "<div>\n",
      "<p><span style=\"white-space:nowrap;\"><a href=\"../../../../articles/i/n/d/Category%7EIndian_films_0e36.html\" title=\"Category:Indian films\">Indian films A–Z</a> •</span> <span style=\"white-space:nowrap;\"><b>Films:</b> <a href=\"../../../../articles/a/s/s/Category%7EAssamese-language_films_f847.html\" title=\"Category:Assamese-language films\">Assamese</a> •</span> <span style=\"white-space:nowrap;\"><a href=\"../../../../articles/b/e/n/Category%7EBengali-language_films_5e78.html\" title=\"Category:Bengali-language films\">Bengali</a> •</span> <span style=\"white-space:nowrap;\"><a href=\"../../../../articles/b/h/o/Category%7EBhojpuri-language_films_d4de.html\" title=\"Category:Bhojpuri-language films\">Bhojpuri</a> •</span> <span style=\"white-space:nowrap;\"><a href=\"../../../../articles/g/u/j/Category%7EGujarati-language_films_f136.html\" title=\"Category:Gujarati-language films\">Gujarati</a> •</span> <span style=\"white-space:nowrap;\"><a href=\"../../../../articles/h/i/n/Category%7EHindi-language_films_9faf.html\" title=\"Category:Hindi-language films\">Hindi</a> •</span> <span style=\"white-space:nowrap;\"><a href=\"../../../../articles/k/a/n/Category%7EKannada-language_films_0447.html\" title=\"Category:Kannada-language films\">Kannada</a> •</span> <span style=\"white-space:nowrap;\"><a href=\"../../../../articles/m/a/l/Category%7EMalayalam-language_films_5713.html\" title=\"Category:Malayalam-language films\">Malayalam</a> •</span> <span style=\"white-space:nowrap;\"><a href=\"../../../../articles/m/a/r/Category%7EMarathi-language_films_573b.html\" title=\"Category:Marathi-language films\">Marathi</a> •</span> <span style=\"white-space:nowrap;\"><a href=\"../../../../articles/p/u/n/Category%7EPunjabi-language_films_bbd6.html\" title=\"Category:Punjabi-language films\">Punjabi</a> •</span> <span style=\"white-space:nowrap;\"><a href=\"../../../../articles/s/i/n/Category%7ESindhi-language_films_7912.html\" title=\"Category:Sindhi-language films\">Sindhi</a> •</span> <span style=\"white-space:nowrap;\"><a href=\"../../../../articles/t/a/m/Category%7ETamil-language_films_7fe6.html\" title=\"Category:Tamil-language films\">Tamil</a> •</span> <span style=\"white-space:nowrap;\"><a href=\"../../../../articles/t/e/l/Category%7ETelugu-language_films_8dd4.html\" title=\"Category:Telugu-language films\">Telugu</a> •</span> <span style=\"white-space:nowrap;\"><a href=\"../../../../articles/u/r/d/Category%7EUrdu-language_films_66e9.html\" title=\"Category:Urdu-language films\">Urdu</a></span><br />\n",
      "<span style=\"white-space:nowrap;\"><a href=\"../../../../articles/i/n/d/Category%7EIndian_actors_b4f7.html\" title=\"Category:Indian actors\">Actors</a> •</span> <span style=\"white-space:nowrap;\"><a href=\"../../../../articles/i/n/d/Category%7EIndian_art_directors_4708.html\" title=\"Category:Indian art directors\">Art Directors</a> •</span> <span style=\"white-space:nowrap;\"><a href=\"../../../../articles/i/n/d/Category%7EIndian_film_awards_9945.html\" title=\"Category:Indian film awards\">Awards</a> •</span> <span style=\"white-space:nowrap;\"><a href=\"../../../../articles/i/n/d/Category%7EIndian_film_directors_7ffd.html\" title=\"Category:Indian film directors\">Directors</a> •</span> <span style=\"white-space:nowrap;\"><a href=\"../../../../articles/i/n/d/Category%7EIndian_film_choreographers_a36f.html\" title=\"Category:Indian film choreographers\">Choreographers</a> •</span> <span style=\"white-space:nowrap;\"><a href=\"../../../../articles/i/n/d/Category%7EIndian_cinematographers_f514.html\" title=\"Category:Indian cinematographers\">Cinematographers</a> •</span> <span style=\"white-space:nowrap;\"><a href=\"../../../../articles/i/n/d/Category%7EIndian_film_score_composers_958b.html\" title=\"Category:Indian film score composers\">Composers</a> •</span> <span style=\"white-space:nowrap;\"><a href=\"../../../../articles/i/n/d/Category%7EIndian_film_editors_e465.html\" title=\"Category:Indian film editors\">Editors</a> •</span> <span style=\"white-space:nowrap;\"><a href=\"../../../../articles/f/i/l/Category%7EFilm_festivals_in_India_1d44.html\" title=\"Category:Film festivals in India\">Festivals</a> •</span> <span style=\"white-space:nowrap;\"><a href=\"../../../../articles/i/n/d/Category%7EIndian_lyricists_7711.html\" title=\"Category:Indian lyricists\">Lyricists</a> •</span> <span style=\"white-space:nowrap;\"><a href=\"../../../../articles/i/n/d/Category%7EIndian_film_singers_b913.html\" title=\"Category:Indian film singers\">Playback singers</a> •</span> <span style=\"white-space:nowrap;\"><a href=\"../../../../articles/i/n/d/Category%7EIndian_film_producers_9db8.html\" title=\"Category:Indian film producers\">Producers</a> •</span> <span style=\"white-space:nowrap;\"><a href=\"../../../../articles/i/n/d/Category%7EIndian_screenwriters_5b40.html\" title=\"Category:Indian screenwriters\">Screenwriters</a></span></p>\n",
      "</div>\n",
      "</div>\n",
      "</td>\n",
      "</tr>\n",
      "</table>\n",
      "</td>\n",
      "</tr>\n",
      "</table>\n",
      "<div class=\"boilerplate metadata\" id=\"stub\">\n",
      "<table cellpadding=\"0\" cellspacing=\"0\" style=\"background-color:transparent\">\n",
      "<tr>\n",
      "<td></td>\n",
      "<td><i>&#160;<a href=\"../../../../articles/i/n/d/Image%7EIndiafilm.png_b245.html\" class=\"image\" title=\"Indiafilm.png\"><img alt=\"\" src=\"../../../../images/shared/thumb/b/bc/Indiafilm.png/30px-Indiafilm.png\" width=\"30\" height=\"33\" border=\"0\" /></a> This article about a <a href=\"../../../../articles/h/i/n/Hindi.html\" title=\"Hindi\">Hindi</a> <a href=\"../../../../articles/f/i/l/Film.html\" title=\"Film\">film</a> of the 1990s is a <a href=\"../../../../articles/s/t/u/Wikipedia%7EStub_72af.html\" title=\"Wikipedia:Stub\">stub</a>. You can help Wikipedia by <a href=\"http://en.wikipedia.org../../../../articles/a/a/k/Aakrosh_%281998_film%29.html\" class=\"external text\" title=\"http://en.wikipedia.org../../../../articles/a/a/k/Aakrosh_%281998_film%29.html\" rel=\"nofollow\">expanding it</a>.</i></td>\n",
      "</tr>\n",
      "</table>\n",
      "</div>\n",
      "<div class=\"boilerplate\" id=\"stub\"><a href=\"../../../../articles/a/c/t/Image%7EActionfilm.png_004e.html\" class=\"image\" title=\"Actionfilm.png\"><img alt=\"\" src=\"../../../../images/shared/thumb/6/6d/Actionfilm.png/30px-Actionfilm.png\" width=\"30\" height=\"30\" border=\"0\" /></a> <i>This article about an <a href=\"../../../../articles/a/c/t/Action_film.html\" title=\"Action film\">action film</a> is a <a href=\"../../../../articles/s/t/u/Wikipedia%7EStub_72af.html\" title=\"Wikipedia:Stub\">stub</a>. You can help Wikipedia by <span class=\"plainlinks\"><a href=\"http://en.wikipedia.org../../../../articles/a/a/k/Aakrosh_%281998_film%29.html\" class=\"external text\" title=\"http://en.wikipedia.org../../../../articles/a/a/k/Aakrosh_%281998_film%29.html\" rel=\"nofollow\">expanding it</a></span></i>.</div>\n",
      "\n",
      "\n",
      "<!-- \n",
      "NewPP limit report\n",
      "Preprocessor node count: 816/1000000\n",
      "Post-expand include size: 20308/2048000 bytes\n",
      "Template argument size: 12260/2048000 bytes\n",
      "Expensive parser function count: 0/500\n",
      "-->\n",
      "<div class=\"printfooter\">\n",
      "</div>\n",
      "\t    <div id=\"catlinks\"><div id='catlinks' class='catlinks'><div id=\"mw-normal-catlinks\"><a href=\"../../../../articles/c/a/t/Special%7ECategories_101d.html\" title=\"Special:Categories\">Categories</a>:&#32;<span dir='ltr'><a href=\"../../../../articles/1/9/9/Category%7E1998_films.html\" title=\"Category:1998 films\">1998 films</a></span> | <span dir='ltr'><a href=\"../../../../articles/1/9/9/Category%7E1990s_action_films.html\" title=\"Category:1990s action films\">1990s action films</a></span> | <span dir='ltr'><a href=\"../../../../articles/a/c/t/Category%7EAction_thriller_films_8f07.html\" title=\"Category:Action thriller films\">Action thriller films</a></span> | <span dir='ltr'><a href=\"../../../../articles/c/r/i/Category%7ECrime_thriller_films_449e.html\" title=\"Category:Crime thriller films\">Crime thriller films</a></span> | <span dir='ltr'><a href=\"../../../../articles/d/r/a/Category%7EDrama_films_a11c.html\" title=\"Category:Drama films\">Drama films</a></span> | <span dir='ltr'><a href=\"../../../../articles/h/i/n/Category%7EHindi-language_films_9faf.html\" title=\"Category:Hindi-language films\">Hindi-language films</a></span> | <span dir='ltr'><a href=\"../../../../articles/i/n/d/Category%7EIndian_films_0e36.html\" title=\"Category:Indian films\">Indian films</a></span> | <span dir='ltr'><a href=\"../../../../articles/1/9/9/Category%7E1990s_Hindi-language_film_stubs_941b.html\" title=\"Category:1990s Hindi-language film stubs\">1990s Hindi-language film stubs</a></span> | <span dir='ltr'><a href=\"../../../../articles/a/c/t/Category%7EAction_film_stubs_de02.html\" title=\"Category:Action film stubs\">Action film stubs</a></span></div></div></div>\t    <!-- end content -->\n",
      "\t    <div class=\"visualClear\"></div>\n",
      "\t  </div>\n",
      "\t</div>\n",
      "      </div>\n",
      "      <div id=\"column-one\">\n",
      "\t<div id=\"p-cactions\" class=\"portlet\">\n",
      "\t  <h5>Views</h5>\n",
      "\t  <ul>\n",
      "\t    <li id=\"ca-nstab-main\"\n",
      "\t       class=\"selected\"\t       ><a href=\"../../../../articles/a/a/k/Aakrosh_%281998_film%29.html\">Article</a></li><li id=\"ca-talk\"\n",
      "\t       \t       ><a href=\"../../../../articles/a/a/k/Talk%7EAakrosh_%281998_film%29_578e.html\">Discussion</a></li><li id=\"ca-current\"\n",
      "\t       \t       ><a href=\"http://en.wikipedia.org/wiki/Aakrosh_%281998_film%29\">Current revision</a></li>\t  </ul>\n",
      "\t</div>\n",
      "\t<div class=\"portlet\" id=\"p-logo\">\n",
      "\t  <a style=\"background-image: url(../../../../misc/Wiki.png);\"\n",
      "\t    href=\"../../../../index.html\"\n",
      "\t    title=\"Main Page\"></a>\n",
      "\t</div>\n",
      "\t<script type=\"text/javascript\"> if (window.isMSIE55) fixalpha(); </script>\n",
      "\t\t<div class='portlet' id='p-navigation'>\n",
      "\t  <h5>Navigation</h5>\n",
      "\t  <div class='pBody'>\n",
      "\t    <ul>\n",
      "\t    \t      <li id=\"n-mainpage\"><a href=\"../../../../index.html\">Main Page</a></li>\n",
      "\t     \t      <li id=\"n-Contents\"><a href=\"../../../../articles/c/o/n/Portal%7EContents_b878.html\">Contents</a></li>\n",
      "\t     \t      <li id=\"n-featuredcontent\"><a href=\"../../../../articles/f/e/a/Portal%7EFeatured_content_5442.html\">Featured content</a></li>\n",
      "\t     \t      <li id=\"n-currentevents\"><a href=\"../../../../articles/c/u/r/Portal%7ECurrent_events_bb60.html\">Current events</a></li>\n",
      "\t     \t    </ul>\n",
      "\t  </div>\n",
      "\t</div>\n",
      "\t\t<div class='portlet' id='p-interaction'>\n",
      "\t  <h5>Interaction</h5>\n",
      "\t  <div class='pBody'>\n",
      "\t    <ul>\n",
      "\t    \t      <li id=\"n-aboutsite\"><a href=\"../../../../articles/a/b/o/Wikipedia%7EAbout_8d82.html\">About Wikipedia</a></li>\n",
      "\t     \t      <li id=\"n-portal\"><a href=\"../../../../articles/c/o/m/Wikipedia%7ECommunity_Portal_6a3c.html\">Community portal</a></li>\n",
      "\t     \t      <li id=\"n-recentchanges\"><a href=\"../../../../articles/r/e/c/Special%7ERecentChanges_e0d0.html\">Recent changes</a></li>\n",
      "\t     \t      <li id=\"n-contact\"><a href=\"../../../../articles/c/o/n/Wikipedia%7EContact_us_afd6.html\">Contact Wikipedia</a></li>\n",
      "\t     \t      <li id=\"n-sitesupport\"><a href=\"http://wikimediafoundation.org/wiki/Donate\">Donate to Wikipedia</a></li>\n",
      "\t     \t      <li id=\"n-help\"><a href=\"../../../../articles/c/o/n/Help%7EContents_22de.html\">Help</a></li>\n",
      "\t     \t    </ul>\n",
      "\t  </div>\n",
      "\t</div>\n",
      "\t\t<div id=\"p-search\" class=\"portlet\">\n",
      "\t  <h5><label for=\"searchInput\">Search</label></h5>\n",
      "\t  <div id=\"searchBody\" class=\"pBody\">\n",
      "\t    <form action=\"javascript:goToStatic(3)\" id=\"searchform\"><div>\n",
      "\t      <input id=\"searchInput\" name=\"search\" type=\"text\"\n",
      "\t        accesskey=\"f\" value=\"\" />\n",
      "\t      <input type='submit' name=\"go\" class=\"searchButton\" id=\"searchGoButton\"\n",
      "\t        value=\"Go\" />\n",
      "\t    </div></form>\n",
      "\t  </div>\n",
      "\t</div>\n",
      "\t      </div><!-- end of the left (by default at least) column -->\n",
      "      <div class=\"visualClear\"></div>\n",
      "      <div id=\"footer\">\n",
      "    <div id=\"f-poweredbyico\"><a href=\"http://www.mediawiki.org/\"><img src=\"../../../../skins/common/images/poweredby_mediawiki_88x31.png\" alt=\"Powered by MediaWiki\" /></a></div>\t<div id=\"f-copyrightico\"><a href=\"http://wikimediafoundation.org/\"><img src=\"../../../../misc/wikimedia-button.png\" border=\"0\" alt=\"Wikimedia Foundation\"/></a></div>\t<ul id=\"f-list\">\n",
      "\t  \t  \t  <li id=\"f-credits\">This page was last modified 13:27, 1 June 2008 by Wikipedia user\n",
      "\t\t\t\t  <a href=\"../../../../articles/g/r/e/User%7EGregorB_c220.html\" title=\"User:GregorB\">GregorB</a>. Based on work by Wikipedia user(s)\n",
      "\t\t\t\t  <a href=\"../../../../articles/e/k/a/User%7EEkabhishek_2dd7.html\" title=\"User:Ekabhishek\">Ekabhishek</a>,\n",
      "\t\t\t\t  <a href=\"../../../../articles/a/l/a/User%7EAlaibot_de3d.html\" title=\"User:Alaibot\">Alaibot</a>,\n",
      "\t\t\t\t  <a href=\"../../../../articles/b/l/o/User%7EBlofeld_of_SPECTRE_840d.html\" title=\"User:Blofeld of SPECTRE\">Blofeld of SPECTRE</a>,\n",
      "\t\t\t\t  <a href=\"../../../../articles/r/e/p/User%7ERepublicDeGuyana_8fe1.html\" title=\"User:RepublicDeGuyana\">RepublicDeGuyana</a> and\n",
      "\t\t\t\t  <a href=\"../../../../articles/g/r/e/User%7EGrenavitar_5bda.html\" title=\"User:Grenavitar\">Grenavitar</a> and Anonymous user(s) of Wikipedia.\n",
      "\t\t\t  </li>\t  <li id=\"f-copyright\">All text is available under the terms of the <a class='internal' href=\"http://en.wikipedia.org/wiki/Wikipedia:Text_of_the_GNU_Free_Documentation_License\" title=\"Wikipedia:Text of the GNU Free Documentation License\">GNU Free Documentation License</a>. (See <b><a class='internal' href=\"http://en.wikipedia.org/wiki/Wikipedia:Copyrights\" title=\"Wikipedia:Copyrights\">Copyrights</a></b> for details.) <br /> Wikipedia&reg; is a registered trademark of the <a href=\"http://www.wikimediafoundation.org\">Wikimedia Foundation, Inc</a>., a U.S. registered <a class='internal' href=\"http://en.wikipedia.org/wiki/501%28c%29#501.28c.29.283.29\" title=\"501(c)(3)\">501(c)(3)</a> <a href=\"http://wikimediafoundation.org/wiki/Deductibility_of_donations\">tax-deductible</a> <a class='internal' href=\"http://en.wikipedia.org/wiki/Non-profit_organization\" title=\"Non-profit organization\">nonprofit</a> <a href=\"http://en.wikipedia.org/wiki/Charitable_organization\" title=\"Charitable organization\">charity</a>.<br /></li>\t  <li id=\"f-about\"><a href=\"../../../../articles/a/b/o/Wikipedia%7EAbout_8d82.html\" title=\"Wikipedia:About\">About Wikipedia</a></li>\t  <li id=\"f-disclaimer\"><a href=\"../../../../articles/g/e/n/Wikipedia%7EGeneral_disclaimer_3e44.html\" title=\"Wikipedia:General disclaimer\">Disclaimers</a></li>\t  \t</ul>\n",
      "      </div>\n",
      "    </div>\n",
      "  </body>\n",
      "</html>\n",
      "\n"
     ]
    }
   ],
   "source": [
    "# reading line to line\n",
    "html_naive = \"\"\n",
    "# example html from wiki-a corpus\n",
    "with open('files/Aakrosh_(1998_film).html') as file:\n",
    "    lines = file.readlines()\n",
    "    for line in lines:\n",
    "        html_naive += line\n",
    "print(html_naive)"
   ],
   "metadata": {
    "collapsed": false
   }
  },
  {
   "cell_type": "code",
   "execution_count": 2,
   "metadata": {},
   "outputs": [
    {
     "name": "stdout",
     "output_type": "stream",
     "text": [
      "['Aakrosh', '(1998', 'film)', '-', 'Wikipedia,', 'the', 'free', 'encyclopedia/**/Aakrosh', '(1998', 'film)From', 'Wikipedia,', 'the', 'free', 'encyclopediaFor', 'the', '1980', 'film', 'by', 'Directed', 'byLateef', 'BinnyProduced&#160;byRamesh', 'J.', 'SharmaStarringShilpa', 'ShettyGirish', 'KarnadMusic&#160;byRelease&#160;date(s)CountryLanguageDue', 'to', 'his', 'activities,', 'Anjali', 'Gulraj', 'separates', 'from', 'Mahendra', 'Pratap', 'Gujral,', 'and', 'marries', 'Dr.', 'Malhotra.', 'She', 'does', 'bring', 'up', 'her', 'son,', 'Dev', 'from', 'her', 'first', 'marriage,', 'who', 'grows', 'up', 'to', 'become', 'a', 'Police', 'Officer.', 'Years', 'later,', 'on', 'the', 'tracks', 'of', 'Gujral,', 'Dev,', 'and', 'his', 'close', 'colleague,', 'Komal', 'come', 'across', 'Suraj', 'Singh,', 'and', 'find', 'out', 'that', 'he', 'is', 'indeed', 'Gujral.', 'At', 'this', 'point', 'Gujral', 'decides', 'to', 'play', 'on', \"Dev's\", 'emotions', 'by', 'reminding', 'of', 'his', 'past', 'affection', 'for', 'him,', 'and', 'blaming', 'his', 'entire', 'criminal', 'career', 'on', 'a', 'Mohan', 'Joshi', '....', 'Colonel/ChavanAnjana', 'Mumtaz', '....', 'Anjali', 'MalhotraSuresh', 'Bhagwat', '....', 'ThiefViews', 'if', '(window.isMSIE55)', 'fixalpha();', 'NavigationInteractionGregorBEkabhishekAlaibotBlofeld', 'of', 'SPECTRERepublicDeGuyanaGrenavitar\\t', '', '']\n"
     ]
    }
   ],
   "source": [
    "import re\n",
    "# everything between \">\" and \"<\"\n",
    "tag_regex = r\"(?<=>)(.*?)(?=<)\"\n",
    "\n",
    "naive_parsed_str = \"\"\n",
    "for line in html_naive.splitlines():\n",
    "    search = re.search(tag_regex, line)\n",
    "    if search is not None:\n",
    "        naive_parsed_str += search.group(0)\n",
    "# retrieve tokens\n",
    "naive_tokens = naive_parsed_str.split(\" \")\n",
    "\n",
    "print(naive_tokens)"
   ]
  },
  {
   "cell_type": "markdown",
   "source": [
    "## More advanced variation"
   ],
   "metadata": {
    "collapsed": false
   }
  },
  {
   "cell_type": "code",
   "execution_count": 3,
   "outputs": [
    {
     "name": "stdout",
     "output_type": "stream",
     "text": [
      "['Aakrosh', 'film', 'Wikipedia', 'the', 'free', 'encyclopedia', 'Aakrosh', 'film', 'From', 'Wikipedia', 'the', 'free', 'encyclopedia', 'For', 'the', 'film', 'by', 'Govind', 'Nihalani', 'see', 'Aakrosh', 'film', 'Aakrosh', 'Cyclone', 'of', 'Anger', 'DVD', 'cover', 'Directed', 'by', 'Lateef', 'Binny', 'Produced', 'by', 'Ramesh', 'J', 'Sharma', 'Starring', 'Sunil', 'Shetty', 'Shilpa', 'Shetty', 'Girish', 'Karnad', 'Music', 'by', 'Anand', 'Raj', 'Anand', 'Release', 'dates', 'April', 'Country', 'India', 'Language', 'Hindi', 'IMDb', 'profile', 'Aakrosh', 'English', 'languageAakroshCyclone', 'of', 'Anger', 'is', 'a', 'Bollywood', 'action', 'crime', 'thriller', 'directed', 'by', 'Lateef', 'Binny', 'starring', 'Sunil', 'Shetty', 'Shilpa', 'Shetty', 'and', 'Girish', 'Karnad', 'Synopsis', 'Due', 'to', 'his', 'activities', 'Anjali', 'Gulraj', 'separates', 'from', 'Mahendra', 'Pratap', 'Gujral', 'and', 'marries', 'Dr', 'Malhotra', 'She', 'does', 'bring', 'up', 'her', 'son', 'Dev', 'from', 'her', 'first', 'marriage', 'who', 'grows', 'up', 'to', 'become', 'a', 'Police', 'Officer', 'Years', 'later', 'on', 'the', 'tracks', 'of', 'Gujral', 'Dev', 'and', 'his', 'close', 'colleague', 'Komal', 'come', 'across', 'Suraj', 'Singh', 'and', 'find', 'out', 'that', 'he', 'is', 'indeed', 'Gujral', 'At', 'this', 'point', 'Gujral', 'decides', 'to', 'play', 'on', \"Dev's\", 'emotions', 'by', 'reminding', 'of', 'his', 'past', 'affection', 'for', 'him', 'and', 'blaming', 'his', 'entire', 'criminal', 'career', 'on', 'a', 'politician', 'Rajvansh', 'Shashtri', 'Dev', 'must', 'know', 'decide', 'to', 'go', 'after', 'Shastri', 'or', 'disbelieve', 'his', 'father', 'altogether', 'But', 'will', 'his', 'seniors', 'permit', 'Dev', 'to', 'arrest', 'his', 'own', 'biological', 'father', 'knowing', 'Dev', 'does', 'have', 'some', 'affection', 'for', 'him', 'and', 'will', 'they', 'ever', 'allow', 'a', 'mere', 'police', 'officer', 'to', 'arrest', 'a', 'top', 'politician?', 'Cast', 'Sunil', 'Shetty', 'Officer', 'Dev', 'Malhotra', 'Shilpa', 'Shetty', 'Komal', 'Girish', 'Karnad', 'Rajwansh', 'Shashtri', 'Suresh', 'Oberoi', 'Mahendra', 'Pratap', 'Gujral/Suraj', 'Singh', 'Mohan', 'Joshi', 'Colonel/Chavan', 'Johnny', 'Lever', 'Gopi', 'Navin', 'Nischol', 'Dr', 'Malhotra', 'Anjana', 'Mumtaz', 'Anjali', 'Malhotra', 'Kulbhushan', 'Kharbanda', 'Vikram', 'Dutt', 'Suresh', 'Bhagwat', 'Thief', 'Ranjeet', 'Sairas', 'Shiva', 'Goonga/Girdhari', 'External', 'links', 'Aakrosh', 'at', 'the', 'Internet', 'Movie', 'Database', 'v', 'd', 'e', 'Cinema', 'of', 'India', 'Industries', 'Assamese', 'Bengal', 'Bollywood', 'Karnataka', 'Kollywood', 'Malayalam', 'Marathi', 'Punjwood', 'Tollywood', 'Indian', 'films', 'A–Z', 'Films', 'Assamese', 'Bengali', 'Bhojpuri', 'Gujarati', 'Hindi', 'Kannada', 'Malayalam', 'Marathi', 'Punjabi', 'Sindhi', 'Tamil', 'Telugu', 'Urdu', 'Actors', 'Art', 'Directors', 'Awards', 'Directors', 'Choreographers', 'Cinematographers', 'Composers', 'Editors', 'Festivals', 'Lyricists', 'Playback', 'singers', 'Producers', 'Screenwriters', 'This', 'article', 'about', 'a', 'Hindi', 'film', 'of', 'the', 's', 'is', 'a', 'stub', 'You', 'can', 'help', 'Wikipedia', 'by', 'expanding', 'it', 'This', 'article', 'about', 'an', 'action', 'film', 'is', 'a', 'stub', 'You', 'can', 'help', 'Wikipedia', 'by', 'expanding', 'it', 'Categories', 'films', 's', 'action', 'films', 'Action', 'thriller', 'films', 'Crime', 'thriller', 'films', 'Drama', 'films', 'Hindilanguage', 'films', 'Indian', 'films', 's', 'Hindilanguage', 'film', 'stubs', 'Action', 'film', 'stubs', 'Views', 'ArticleDiscussionCurrent', 'revision', 'Navigation', 'Main', 'Page', 'Contents', 'Featured', 'content', 'Current', 'events', 'Interaction', 'About', 'Wikipedia', 'Community', 'portal', 'Recent', 'changes', 'Contact', 'Wikipedia', 'Donate', 'to', 'Wikipedia', 'Help', 'Search', 'This', 'page', 'was', 'last', 'modified', 'June', 'by', 'Wikipedia', 'user', 'GregorB', 'Based', 'on', 'work', 'by', 'Wikipedia', 'users', 'Ekabhishek', 'Alaibot', 'Blofeld', 'of', 'SPECTRE', 'RepublicDeGuyana', 'and', 'Grenavitar', 'and', 'Anonymous', 'users', 'of', 'Wikipedia', 'All', 'text', 'is', 'available', 'under', 'the', 'terms', 'of', 'the', 'GNU', 'Free', 'Documentation', 'License', 'See', 'Copyrights', 'for', 'details', 'Wikipedia®', 'is', 'a', 'registered', 'trademark', 'of', 'the', 'Wikimedia', 'Foundation', 'Inc', 'a', 'US', 'registered', 'c', 'taxdeductible', 'nonprofit', 'charity', 'About', 'Wikipedia', 'Disclaimers']\n"
     ]
    }
   ],
   "source": [
    "from bs4 import BeautifulSoup\n",
    "\n",
    "# get file and pass it to soup parser\n",
    "html_file = open('files/Aakrosh_(1998_film).html', \"r\")\n",
    "soup = BeautifulSoup(html_file.read(), features=\"html.parser\")\n",
    "\n",
    "# remove any script or styles from html file\n",
    "for script in soup([\"script\", \"style\"]):\n",
    "    script.extract()\n",
    "\n",
    "# remove known tags that are irrelevant\n",
    "for tag in soup.find_all(\"span\", class_=\"editsection\"):\n",
    "    tag.decompose()\n",
    "soup.prettify()\n",
    "\n",
    "# get file content as text (string)\n",
    "html_text = soup.get_text()\n",
    "\n",
    "# break into lines and remove leading and trailing space on each\n",
    "lines = (line.strip() for line in html_text.splitlines())\n",
    "# break multi-headlines into a line each\n",
    "chunks = (phrase.strip() for line in lines for phrase in line.split(\"  \"))\n",
    "# drop blank lines\n",
    "text = ' '.join(chunk for chunk in chunks if chunk)\n",
    "# remove unnecessary punctuations such as \",\", \"|\", etc.\n",
    "text = text\\\n",
    "    .replace(\":\", \".\")\\\n",
    "    .replace(\".\", \")\")\\\n",
    "    .replace(\")\", \"(\")\\\n",
    "    .replace(\"(\", \"-\")\\\n",
    "    .replace(\"-\", \"•\")\\\n",
    "    .replace(\"•\", \"|\")\\\n",
    "    .replace(\"|\", \";\")\\\n",
    "    .replace(\";\", \",\")\\\n",
    "    .replace(\",\", \"\")\n",
    "# remove any numbers\n",
    "text = re.sub('\\d+', ' ', text)\n",
    "# turn multi spaces into single spaces\n",
    "text = re.sub('\\s+', ' ', text)\n",
    "\n",
    "# retrieve tokens\n",
    "tokens = text.split(\" \")\n",
    "\n",
    "print(tokens)"
   ],
   "metadata": {
    "collapsed": false
   }
  },
  {
   "cell_type": "markdown",
   "source": [
    "Applying Porter Stemmer:"
   ],
   "metadata": {
    "collapsed": false
   }
  },
  {
   "cell_type": "code",
   "execution_count": 4,
   "outputs": [
    {
     "name": "stdout",
     "output_type": "stream",
     "text": [
      "['aakrosh', 'film', 'wikipedia', 'the', 'free', 'encyclopedia', 'aakrosh', 'film', 'from', 'wikipedia', 'the', 'free', 'encyclopedia', 'for', 'the', 'film', 'by', 'govind', 'nihalani', 'see', 'aakrosh', 'film', 'aakrosh', 'cyclon', 'of', 'anger', 'dvd', 'cover', 'direct', 'by', 'lateef', 'binni', 'produc', 'by', 'ramesh', 'j', 'sharma', 'star', 'sunil', 'shetti', 'shilpa', 'shetti', 'girish', 'karnad', 'music', 'by', 'anand', 'raj', 'anand', 'releas', 'date', 'april', 'countri', 'india', 'languag', 'hindi', 'imdb', 'profil', 'aakrosh', 'english', 'languageaakroshcyclon', 'of', 'anger', 'is', 'a', 'bollywood', 'action', 'crime', 'thriller', 'direct', 'by', 'lateef', 'binni', 'star', 'sunil', 'shetti', 'shilpa', 'shetti', 'and', 'girish', 'karnad', 'synopsi', 'due', 'to', 'hi', 'activ', 'anjali', 'gulraj', 'separ', 'from', 'mahendra', 'pratap', 'gujral', 'and', 'marri', 'dr', 'malhotra', 'she', 'doe', 'bring', 'up', 'her', 'son', 'dev', 'from', 'her', 'first', 'marriag', 'who', 'grow', 'up', 'to', 'becom', 'a', 'polic', 'offic', 'year', 'later', 'on', 'the', 'track', 'of', 'gujral', 'dev', 'and', 'hi', 'close', 'colleagu', 'komal', 'come', 'across', 'suraj', 'singh', 'and', 'find', 'out', 'that', 'he', 'is', 'inde', 'gujral', 'at', 'thi', 'point', 'gujral', 'decid', 'to', 'play', 'on', \"dev'\", 'emot', 'by', 'remind', 'of', 'hi', 'past', 'affect', 'for', 'him', 'and', 'blame', 'hi', 'entir', 'crimin', 'career', 'on', 'a', 'politician', 'rajvansh', 'shashtri', 'dev', 'must', 'know', 'decid', 'to', 'go', 'after', 'shastri', 'or', 'disbeliev', 'hi', 'father', 'altogeth', 'but', 'will', 'hi', 'senior', 'permit', 'dev', 'to', 'arrest', 'hi', 'own', 'biolog', 'father', 'know', 'dev', 'doe', 'have', 'some', 'affect', 'for', 'him', 'and', 'will', 'they', 'ever', 'allow', 'a', 'mere', 'polic', 'offic', 'to', 'arrest', 'a', 'top', 'politician?', 'cast', 'sunil', 'shetti', 'offic', 'dev', 'malhotra', 'shilpa', 'shetti', 'komal', 'girish', 'karnad', 'rajwansh', 'shashtri', 'suresh', 'oberoi', 'mahendra', 'pratap', 'gujral/suraj', 'singh', 'mohan', 'joshi', 'colonel/chavan', 'johnni', 'lever', 'gopi', 'navin', 'nischol', 'dr', 'malhotra', 'anjana', 'mumtaz', 'anjali', 'malhotra', 'kulbhushan', 'kharbanda', 'vikram', 'dutt', 'suresh', 'bhagwat', 'thief', 'ranjeet', 'saira', 'shiva', 'goonga/girdhari', 'extern', 'link', 'aakrosh', 'at', 'the', 'internet', 'movi', 'databas', 'v', 'd', 'e', 'cinema', 'of', 'india', 'industri', 'assames', 'bengal', 'bollywood', 'karnataka', 'kollywood', 'malayalam', 'marathi', 'punjwood', 'tollywood', 'indian', 'film', 'a–z', 'film', 'assames', 'bengali', 'bhojpuri', 'gujarati', 'hindi', 'kannada', 'malayalam', 'marathi', 'punjabi', 'sindhi', 'tamil', 'telugu', 'urdu', 'actor', 'art', 'director', 'award', 'director', 'choreograph', 'cinematograph', 'compos', 'editor', 'festiv', 'lyricist', 'playback', 'singer', 'produc', 'screenwrit', 'thi', 'articl', 'about', 'a', 'hindi', 'film', 'of', 'the', 's', 'is', 'a', 'stub', 'you', 'can', 'help', 'wikipedia', 'by', 'expand', 'it', 'thi', 'articl', 'about', 'an', 'action', 'film', 'is', 'a', 'stub', 'you', 'can', 'help', 'wikipedia', 'by', 'expand', 'it', 'categori', 'film', 's', 'action', 'film', 'action', 'thriller', 'film', 'crime', 'thriller', 'film', 'drama', 'film', 'hindilanguag', 'film', 'indian', 'film', 's', 'hindilanguag', 'film', 'stub', 'action', 'film', 'stub', 'view', 'articlediscussioncurr', 'revis', 'navig', 'main', 'page', 'content', 'featur', 'content', 'current', 'event', 'interact', 'about', 'wikipedia', 'commun', 'portal', 'recent', 'chang', 'contact', 'wikipedia', 'donat', 'to', 'wikipedia', 'help', 'search', 'thi', 'page', 'wa', 'last', 'modifi', 'june', 'by', 'wikipedia', 'user', 'gregorb', 'base', 'on', 'work', 'by', 'wikipedia', 'user', 'ekabhishek', 'alaibot', 'blofeld', 'of', 'spectr', 'republicdeguyana', 'and', 'grenavitar', 'and', 'anonym', 'user', 'of', 'wikipedia', 'all', 'text', 'is', 'avail', 'under', 'the', 'term', 'of', 'the', 'gnu', 'free', 'document', 'licens', 'see', 'copyright', 'for', 'detail', 'wikipedia®', 'is', 'a', 'regist', 'trademark', 'of', 'the', 'wikimedia', 'foundat', 'inc', 'a', 'us', 'regist', 'c', 'taxdeduct', 'nonprofit', 'chariti', 'about', 'wikipedia', 'disclaim']\n"
     ]
    }
   ],
   "source": [
    "from nltk.stem import PorterStemmer\n",
    "\n",
    "# apply stemming on every word\n",
    "stemmer = PorterStemmer()\n",
    "stemmed_tokens = [stemmer.stem(token) for token in tokens]\n",
    "\n",
    "print(stemmed_tokens)"
   ],
   "metadata": {
    "collapsed": false
   }
  },
  {
   "cell_type": "markdown",
   "source": [
    "Removing stopwords:"
   ],
   "metadata": {
    "collapsed": false
   }
  },
  {
   "cell_type": "code",
   "execution_count": 5,
   "outputs": [
    {
     "name": "stdout",
     "output_type": "stream",
     "text": [
      "['aakrosh', 'film', 'wikipedia', 'free', 'encyclopedia', 'aakrosh', 'film', 'wikipedia', 'free', 'encyclopedia', 'film', 'govind', 'nihalani', 'see', 'aakrosh', 'film', 'aakrosh', 'cyclon', 'anger', 'dvd', 'cover', 'direct', 'lateef', 'binni', 'produc', 'ramesh', 'j', 'sharma', 'star', 'sunil', 'shetti', 'shilpa', 'shetti', 'girish', 'karnad', 'music', 'anand', 'raj', 'anand', 'releas', 'date', 'april', 'countri', 'india', 'languag', 'hindi', 'imdb', 'profil', 'aakrosh', 'english', 'languageaakroshcyclon', 'anger', 'bollywood', 'action', 'crime', 'thriller', 'direct', 'lateef', 'binni', 'star', 'sunil', 'shetti', 'shilpa', 'shetti', 'girish', 'karnad', 'synopsi', 'due', 'hi', 'activ', 'anjali', 'gulraj', 'separ', 'mahendra', 'pratap', 'gujral', 'marri', 'dr', 'malhotra', 'doe', 'bring', 'son', 'dev', 'first', 'marriag', 'grow', 'becom', 'polic', 'offic', 'year', 'later', 'track', 'gujral', 'dev', 'hi', 'close', 'colleagu', 'komal', 'come', 'across', 'suraj', 'singh', 'find', 'inde', 'gujral', 'thi', 'point', 'gujral', 'decid', 'play', \"dev'\", 'emot', 'remind', 'hi', 'past', 'affect', 'blame', 'hi', 'entir', 'crimin', 'career', 'politician', 'rajvansh', 'shashtri', 'dev', 'must', 'know', 'decid', 'go', 'shastri', 'disbeliev', 'hi', 'father', 'altogeth', 'hi', 'senior', 'permit', 'dev', 'arrest', 'hi', 'biolog', 'father', 'know', 'dev', 'doe', 'affect', 'ever', 'allow', 'mere', 'polic', 'offic', 'arrest', 'top', 'politician?', 'cast', 'sunil', 'shetti', 'offic', 'dev', 'malhotra', 'shilpa', 'shetti', 'komal', 'girish', 'karnad', 'rajwansh', 'shashtri', 'suresh', 'oberoi', 'mahendra', 'pratap', 'gujral/suraj', 'singh', 'mohan', 'joshi', 'colonel/chavan', 'johnni', 'lever', 'gopi', 'navin', 'nischol', 'dr', 'malhotra', 'anjana', 'mumtaz', 'anjali', 'malhotra', 'kulbhushan', 'kharbanda', 'vikram', 'dutt', 'suresh', 'bhagwat', 'thief', 'ranjeet', 'saira', 'shiva', 'goonga/girdhari', 'extern', 'link', 'aakrosh', 'internet', 'movi', 'databas', 'v', 'e', 'cinema', 'india', 'industri', 'assames', 'bengal', 'bollywood', 'karnataka', 'kollywood', 'malayalam', 'marathi', 'punjwood', 'tollywood', 'indian', 'film', 'a–z', 'film', 'assames', 'bengali', 'bhojpuri', 'gujarati', 'hindi', 'kannada', 'malayalam', 'marathi', 'punjabi', 'sindhi', 'tamil', 'telugu', 'urdu', 'actor', 'art', 'director', 'award', 'director', 'choreograph', 'cinematograph', 'compos', 'editor', 'festiv', 'lyricist', 'playback', 'singer', 'produc', 'screenwrit', 'thi', 'articl', 'hindi', 'film', 'stub', 'help', 'wikipedia', 'expand', 'thi', 'articl', 'action', 'film', 'stub', 'help', 'wikipedia', 'expand', 'categori', 'film', 'action', 'film', 'action', 'thriller', 'film', 'crime', 'thriller', 'film', 'drama', 'film', 'hindilanguag', 'film', 'indian', 'film', 'hindilanguag', 'film', 'stub', 'action', 'film', 'stub', 'view', 'articlediscussioncurr', 'revis', 'navig', 'main', 'page', 'content', 'featur', 'content', 'current', 'event', 'interact', 'wikipedia', 'commun', 'portal', 'recent', 'chang', 'contact', 'wikipedia', 'donat', 'wikipedia', 'help', 'search', 'thi', 'page', 'wa', 'last', 'modifi', 'june', 'wikipedia', 'user', 'gregorb', 'base', 'work', 'wikipedia', 'user', 'ekabhishek', 'alaibot', 'blofeld', 'spectr', 'republicdeguyana', 'grenavitar', 'anonym', 'user', 'wikipedia', 'text', 'avail', 'term', 'gnu', 'free', 'document', 'licens', 'see', 'copyright', 'detail', 'wikipedia®', 'regist', 'trademark', 'wikimedia', 'foundat', 'inc', 'us', 'regist', 'c', 'taxdeduct', 'nonprofit', 'chariti', 'wikipedia', 'disclaim']\n",
      "\n",
      "357 (filtered) vs. 467 (unfiltered)\n"
     ]
    },
    {
     "name": "stderr",
     "output_type": "stream",
     "text": [
      "[nltk_data] Downloading package stopwords to /home/av11/nltk_data...\n",
      "[nltk_data]   Package stopwords is already up-to-date!\n"
     ]
    }
   ],
   "source": [
    "import nltk\n",
    "from nltk.corpus import stopwords\n",
    "# update/download database if necessary\n",
    "nltk.download('stopwords')\n",
    "\n",
    "# filter stop words\n",
    "stop_words = set(stopwords.words('english'))\n",
    "filtered_words = [word for word in stemmed_tokens if word not in stop_words]\n",
    "\n",
    "print(str(filtered_words) + \"\\n\")\n",
    "print(str(len(filtered_words)) + \" (filtered) vs. \" + str(len(stemmed_tokens)) + \" (unfiltered)\")"
   ],
   "metadata": {
    "collapsed": false
   }
  }
 ],
 "metadata": {
  "kernelspec": {
   "display_name": "Python 3 (ipykernel)",
   "language": "python",
   "name": "python3"
  },
  "language_info": {
   "codemirror_mode": {
    "name": "ipython",
    "version": 3
   },
   "file_extension": ".py",
   "mimetype": "text/x-python",
   "name": "python",
   "nbconvert_exporter": "python",
   "pygments_lexer": "ipython3",
   "version": "3.10.6"
  }
 },
 "nbformat": 4,
 "nbformat_minor": 1
}
