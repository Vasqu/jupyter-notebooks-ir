{
 "cells": [
  {
   "cell_type": "markdown",
   "source": [
    "# Showing an example corpus for stopwords"
   ],
   "metadata": {
    "collapsed": false
   }
  },
  {
   "cell_type": "code",
   "execution_count": 2,
   "outputs": [
    {
     "name": "stdout",
     "output_type": "stream",
     "text": [
      "{'i', 'yourself', 'own', 'above', 'by', 'themselves', 'been', 'were', 'because', 'does', 'if', 'on', 'same', 'out', 'than', 'hers', \"needn't\", 'was', 'and', 'him', \"you've\", \"don't\", 'very', 'how', 'should', \"haven't\", \"hadn't\", 'yourselves', 'our', 'what', 'after', 'mightn', \"that'll\", 'theirs', 'herself', 'they', 'too', 'have', 'them', 'mustn', \"you're\", \"shan't\", 'before', 'd', 'in', 'further', 'we', 'other', 'is', 't', 'or', 'each', 'ma', 'isn', 'but', 'not', 'don', 'ain', 'against', 'their', 'nor', \"isn't\", 'as', 'has', \"weren't\", 's', 'about', 'between', 'where', 'some', 'at', 'be', 'to', 'her', 'it', 'through', 'll', \"hasn't\", 'of', 'you', 'so', 'weren', 'o', 'am', 'having', 'here', 'from', \"doesn't\", 'wasn', 'during', 'she', 'with', 'an', 'for', 'once', 'while', 've', \"mightn't\", 'below', 'can', \"couldn't\", 'under', 'will', 'down', 'needn', 'he', \"mustn't\", \"she's\", 'shan', 'its', 'being', 'had', 'these', 'shouldn', \"won't\", \"aren't\", 'wouldn', 'your', 'itself', 'whom', 'didn', 'until', 'who', 'y', 'himself', 'those', 'now', 'which', 'when', 're', 'doesn', 'a', 'this', 'the', 'couldn', 'all', 'did', 'few', \"shouldn't\", 'do', 'off', 'me', 'just', \"should've\", 'ourselves', 'his', 'ours', 'both', 'up', 'hasn', 'that', 'aren', 'no', \"wouldn't\", 'most', 'again', 'then', 'only', 'over', 'more', 'into', 'there', \"you'd\", 'yours', 'hadn', \"it's\", 'such', 'haven', 'doing', 'm', \"wasn't\", 'any', 'are', 'won', \"didn't\", 'my', 'why', \"you'll\", 'myself'}\n"
     ]
    },
    {
     "name": "stderr",
     "output_type": "stream",
     "text": [
      "[nltk_data] Downloading package stopwords to /home/av11/nltk_data...\n",
      "[nltk_data]   Package stopwords is already up-to-date!\n"
     ]
    }
   ],
   "source": [
    "import nltk\n",
    "from nltk.corpus import stopwords\n",
    "# update/download database if necessary\n",
    "nltk.download('stopwords')\n",
    "\n",
    "stop_words = set(stopwords.words('english'))\n",
    "print(stop_words)"
   ],
   "metadata": {
    "collapsed": false
   }
  }
 ],
 "metadata": {
  "kernelspec": {
   "display_name": "Python 3",
   "language": "python",
   "name": "python3"
  },
  "language_info": {
   "codemirror_mode": {
    "name": "ipython",
    "version": 2
   },
   "file_extension": ".py",
   "mimetype": "text/x-python",
   "name": "python",
   "nbconvert_exporter": "python",
   "pygments_lexer": "ipython2",
   "version": "2.7.6"
  }
 },
 "nbformat": 4,
 "nbformat_minor": 0
}
