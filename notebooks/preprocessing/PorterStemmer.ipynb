{
 "cells": [
  {
   "cell_type": "markdown",
   "source": [
    "# Porter Stemmer examples"
   ],
   "metadata": {
    "collapsed": false
   }
  },
  {
   "cell_type": "markdown",
   "source": [
    "Successful examples:"
   ],
   "metadata": {
    "collapsed": false
   }
  },
  {
   "cell_type": "code",
   "execution_count": 1,
   "outputs": [
    {
     "name": "stdout",
     "output_type": "stream",
     "text": [
      "['comput', 'comput', 'comput']\n",
      "Total amount of unique tokens: 1\n"
     ]
    }
   ],
   "source": [
    "from nltk.stem import PorterStemmer\n",
    "stemmer = PorterStemmer()\n",
    "\n",
    "# successful example\n",
    "example_1 = [\"computer\", \"computational\", \"computation\"]\n",
    "stemmed_example_1 = [stemmer.stem(token) for token in example_1]\n",
    "\n",
    "print(stemmed_example_1)\n",
    "print(\"Total amount of unique tokens: \" + str(len(set(stemmed_example_1))))"
   ],
   "metadata": {
    "collapsed": false
   }
  },
  {
   "cell_type": "markdown",
   "source": [
    "Unsuccessful examples - False Positives:"
   ],
   "metadata": {
    "collapsed": false
   }
  },
  {
   "cell_type": "code",
   "execution_count": 2,
   "outputs": [
    {
     "name": "stdout",
     "output_type": "stream",
     "text": [
      "['execut', 'execut', 'univers', 'univers']\n",
      "Total amount of unique tokens: 2\n",
      "\n"
     ]
    }
   ],
   "source": [
    "# \"over-stemming\" (false positives)\n",
    "example_2 = [\"execute\", \"executive\", \"university\", \"universe\"]\n",
    "stemmed_example_2 = [stemmer.stem(token) for token in example_2]\n",
    "\n",
    "print(stemmed_example_2)\n",
    "print(\"Total amount of unique tokens: \" + str(len(set(stemmed_example_2))) + \"\\n\")"
   ],
   "metadata": {
    "collapsed": false
   }
  },
  {
   "cell_type": "markdown",
   "source": [
    "Unsuccessful examples - False Negatives:"
   ],
   "metadata": {
    "collapsed": false
   }
  },
  {
   "cell_type": "code",
   "execution_count": 3,
   "outputs": [
    {
     "name": "stdout",
     "output_type": "stream",
     "text": [
      "['urgenc', 'urgent', 'matric', 'matrix']\n",
      "Total amount of unique tokens: 4\n",
      "\n"
     ]
    }
   ],
   "source": [
    "# \"under-stemming\" (false negatives)\n",
    "example_3 = [\"urgency\", \"urgent\", \"matrices\", \"matrix\"]\n",
    "stemmed_example_3 = [stemmer.stem(token) for token in example_3]\n",
    "\n",
    "print(stemmed_example_3)\n",
    "print(\"Total amount of unique tokens: \" + str(len(set(stemmed_example_3))) + \"\\n\")"
   ],
   "metadata": {
    "collapsed": false
   }
  }
 ],
 "metadata": {
  "kernelspec": {
   "display_name": "Python 3",
   "language": "python",
   "name": "python3"
  },
  "language_info": {
   "codemirror_mode": {
    "name": "ipython",
    "version": 2
   },
   "file_extension": ".py",
   "mimetype": "text/x-python",
   "name": "python",
   "nbconvert_exporter": "python",
   "pygments_lexer": "ipython2",
   "version": "2.7.6"
  }
 },
 "nbformat": 4,
 "nbformat_minor": 0
}
